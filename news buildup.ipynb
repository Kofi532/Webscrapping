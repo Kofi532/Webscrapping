{
 "cells": [
  {
   "cell_type": "markdown",
   "id": "09cfb982-783e-4b0d-a053-eba11eb30669",
   "metadata": {},
   "source": [
    "## myjoyonline"
   ]
  },
  {
   "cell_type": "code",
   "execution_count": 211,
   "id": "e7dc25e9-3de5-4171-bf90-ffe1de125a50",
   "metadata": {},
   "outputs": [
    {
     "name": "stderr",
     "output_type": "stream",
     "text": [
      "\n",
      "\n",
      "====== WebDriver manager ======\n",
      "Current google-chrome version is 101.0.4951\n",
      "Get LATEST chromedriver version for 101.0.4951 google-chrome\n",
      "Driver [C:\\Users\\kofi\\.wdm\\drivers\\chromedriver\\win32\\101.0.4951.41\\chromedriver.exe] found in cache\n",
      "C:\\Users\\kofi\\AppData\\Local\\Temp/ipykernel_17312/1656477037.py:6: DeprecationWarning: executable_path has been deprecated, please pass in a Service object\n",
      "  driver = webdriver.Chrome(ChromeDriverManager().install())\n"
     ]
    }
   ],
   "source": [
    "import time\n",
    "from time import sleep\n",
    "from selenium import webdriver\n",
    "from selenium.webdriver.common.keys import Keys\n",
    "from webdriver_manager.chrome import ChromeDriverManager\n",
    "driver = webdriver.Chrome(ChromeDriverManager().install())\n",
    "import pandas as pd\n",
    "from datetime import datetime\n",
    "\n",
    "time.sleep(5)"
   ]
  },
  {
   "cell_type": "code",
   "execution_count": 212,
   "id": "5321cfd4-9efa-4d4d-9e04-475db9934a07",
   "metadata": {},
   "outputs": [],
   "source": [
    "driver.maximize_window()\n",
    "time.sleep(2)"
   ]
  },
  {
   "cell_type": "code",
   "execution_count": 213,
   "id": "b59088a4-3273-4443-969f-fd7d9991c2b6",
   "metadata": {},
   "outputs": [
    {
     "name": "stdout",
     "output_type": "stream",
     "text": [
      "did not finish loading\n"
     ]
    }
   ],
   "source": [
    "try:\n",
    "    \n",
    "    driver.get(\"https://www.myjoyonline.com/\")    \n",
    "    time.sleep(30)   \n",
    "except Exception:\n",
    "    pass\n",
    "print('did not finish loading')"
   ]
  },
  {
   "cell_type": "code",
   "execution_count": 214,
   "id": "b6d786f0-e9d9-4826-8194-3179deb00246",
   "metadata": {},
   "outputs": [
    {
     "name": "stderr",
     "output_type": "stream",
     "text": [
      "C:\\Users\\kofi\\AppData\\Local\\Temp/ipykernel_17312/2763983354.py:1: DeprecationWarning: find_element_by_xpath is deprecated. Please use find_element(by=By.XPATH, value=xpath) instead\n",
      "  i = driver.find_element_by_xpath(\" (//div)[39]\")\n"
     ]
    }
   ],
   "source": [
    "i = driver.find_element_by_xpath(\" (//div)[39]\")\n",
    " #(//div)[39]"
   ]
  },
  {
   "cell_type": "code",
   "execution_count": 215,
   "id": "5c9f568e-1e55-42fc-a7ba-a69672ebd2bf",
   "metadata": {},
   "outputs": [],
   "source": [
    "k = i.text"
   ]
  },
  {
   "cell_type": "code",
   "execution_count": 216,
   "id": "5812fe39-df20-4170-82a5-6c7c8fd1f27e",
   "metadata": {},
   "outputs": [],
   "source": [
    "rep = k.replace(\"\\n\", \". \")"
   ]
  },
  {
   "cell_type": "code",
   "execution_count": 217,
   "id": "dd33093a-deb6-4a11-96fb-d779c5367ebc",
   "metadata": {},
   "outputs": [
    {
     "data": {
      "text/plain": [
       "\"TOP STORY. Girl needs urgent surgery to save fingers after guardian forced her hand into boiling water over ¢2. NEWS. E-levy: Panic withdrawals hit mobile money vendors – Spokesperson for Association. Martin Kpebu disapproves of Edudzi Tamakloe’s description of Attorney-General as ‘dishonest’. ‘With God, all things are possible; my electoral victories confirmed that’ – Akufo-Addo. ‘My faith in God has heavily influenced my vision for Ghana’ – Akufo-Addo. Transport fares to go up by 30% on Friday, May 13. High Court suspends hearing of Ato Essien’s case temporarily. CLOGSAG Strike: Marriage registration at Registrar-General’s Department halted – PRO. CCTV footage of gory accident at Labone junction emerges. Ghana 161,222 Total 1,445 Deaths 159,746 Recovered. Global 515,964,014 Total 6,272,448 Deaths 470,781,199 Recovered. PODCASTS. Super Morning Show. Cosmopolitan Mix. Midday News. DriveTime. Newsnite. Top Story. Strong and Sassy. Newsfile. Living Word. Joy Business. Joy Business Report. Joy Masterclass. That's My Opinion. The Overdrive. Executive Lounge. Geek Squad. Personality Profile. Sports Track. Locker Room. Election Brief. Home Affairs. Ultimate Health. Sports Arena. Sports Link. Spring Board. IN FOCUS. Airport boss sacked over low fuel and dark runways. VIDEOS. Abused 9-year-old girl: Child needs help .... Month of Ramadan: Muslims mark Eid .... The story of UK educated school .... Child Beggars: State of government’s “.... Fundit: Building a strong brand online. Press Freedom Index: Dropping from 30 to 60 .... ‘Make GES only a regulator of .... Free SHS shouldn’t be free .... ENTERTAINMENT. My deal with DefJam does not include changing my style of music – Stonebwoy. Being different is making people uncomfortable but I don’t care – Edem. Joy FM presents ‘Media, Showbiz & Motherhood Dialogue’. BUSINESS. SEC, Finance Ministry begin discussions to exempt investment transactions from E-Levy. GSE grants extension to GOIL, others for submission of their Unaudited Financial Statement. Economy to become 12th fastest growing in Sub-Saharan Africa in 2022. Leverage SDG investor map for investment in Ghana’s housing and infrastructure sectors – Private sector told. Scale-up long term funding for industry – AGI to NIB, ADB. BOPP to pay ¢1.06 per share to shareholders. Shareholders of Ecobank Ghana to enjoy 81 pesewas per share dividend. SPORTS. U-20 WWC: Black Princesses to face USA, Netherlands and Japan in Costa Rica. Aston Villa asked for compensation before releasing George Boateng – Henry Asante Twum. The case against Kevin Durant. Were any of Brazil’s goals against Ghana in the 2006 World Cup really offside?. Shooting Stars set to host Borussia Dortmund in Ghana. Teams are afraid to play against Ridge City – Club owner reveals. Hoop Dreams: Ghana’s search for a global basketball icon. LIFESTYLE. It’s one man one woman; the law will deal with you if you go contrary – Legal Practioner. I couldn’t call off my wedding but I never wanted to be married. When mum sent me ‘the best prayer to help get married’ at dawn. I took care of my unemployed husband for 4 years, now he has a job, he wants a second wife. Any woman who is not financially independent has no business in marriage – PR Practitioner. Why I refuse to let infertility win. He raped me, but I went out with him again. OPINION. Samson’s Take: Hijacked democracy, threat to the democracy. When mum sent me ‘the best prayer to help get married’ at dawn. Christian Yalley: How my journey to First Class in UG started in a room with ladies. Sweet Like Fine Choco: I love women but I’m not lesbian. Anny Osabutey: Obituary brochure – Establishing family ties through funeral handouts. Edmund Smith-Asante: ‘Abrokyire abrabo’; My wahala in Germany – Part 1￼. Nana Kwasi Gyan-Apenteng: Have the masks gone too soon?. OBITUARY. Sampson Nana Andoh. Abraham Osei aka Kwame Braimah. John McCarthy Aful. Recommended for you. Promoted. Floyd Mayweather's new home in Miami Beach is absolutely breathtaking!. Mansion Global. . Ayew brothers quit Black Stars. Promoted. Simple Online Jobs In Ghana You Didn't Know About. Work From Home | Search ads. Promoted. Online Job in USA from Ghana. Salaries May Surprise You. Read more. USA Job from Home | Search Ads. Dr Mrs Foriwah Obeng Adjei. Promoted. Housekeeping employees needed in US (see salaries). Housekeeping jobs | Search ads. UG final year student passes on; leaves 'strange' note. Chief of Staff was denied access to Adwoa Safo’s residence – JoyNews sources. Promoted. Réactivez l'interrupteur brûle graisse qui est en vous. neo-nutrition.net. Recommended by. . Most Recent. Mozambique plans law to regulate and tax churches. Storm rips off roofing of Bishop Herman College Giant Block. SEC, Finance Ministry begin discussions to exempt investment transactions from E-Levy. A$AP Rocky proposes to Rihanna in ‘D.M.B.’ music video. Anny Osabutey: Adwoa Agyemang’s eBook “Move To Ghana” is a perfect gift for relocation virgins. Nigeria and Angola responsible for almost half of OPEC+ oil supply gap – Reuters. GSE grants extension to GOIL, others for submission of their Unaudited Financial Statement. Freed Kenyan cleric refuses to leave jail. Girl needs urgent surgery to save fingers after guardian forced her hand into boiling water over ¢2. Ray J shares his side of Kim Kardashian sex tape story: ‘I’ve never leaked a tape’. Transport fares to go up by 30% on Friday, May 13. Airport boss sacked over low fuel and dark runways. Virgin Atlantic flight forced to turn around as pilot ‘did not have designated trainer status’. Miss Grand International finally in Ghana, Abena Akuaba selected as national director. Nollywood stars turn out for Netflix premiere of Blood Sisters. Aston Villa asked for compensation before releasing George Boateng – Henry Asante Twum. Leverage SDG investor map for investment in Ghana’s housing and infrastructure sectors – Private sector told. Carrier bag mistaken for stray lion triggers alarm in Kenya. ‘With God, all things are possible; my electoral victories confirmed that’ – Akufo-Addo. Today’s front pages: Friday, May 6, 2022. Being different is making people uncomfortable but I don’t care – Edem. ‘My faith in God has heavily influenced my vision for Ghana’ – Akufo-Addo. Senegal midwives go on trial over mother’s death. Karine Jean-Pierre: White House names first black press secretary. Madison Cawthorn: US lawmaker ‘won’t back down’ after naked tape leak. E-levy: Some money transfers have already been done to the Consolidated Fund – Ken Ashigbey. E-levy: Players in the implementation process have done a good job – John Awuah. Feli Nuna releases snippet ahead of new song, ‘Towel’. Broadcast important cases, remove payment of fees in RTI Act – Appeals Court Judge to Judicial Service. Identify risks and weaknesses in public economic management – Bawumia to auditors. Sunyani Technical University graduate receives Kasapreko’s Student Leadership Award. Francis-Xavier Sosu: Enact laws and policies to ensure mandatory minimum employment of persons with disabilities. Bolt rewards over 100 drivers to mark May Day. AMA calls for resolution of CLOGSAG concerns as strike bites hard on Assembly. Historical sites can inspire new art forms- Artist Ibrahim Mahama. Playback: PM Express discuss E-levy. Fumesua Anglican Basic JHS students endure congestion and intense heat. My deal with DefJam does not include changing my style of music – Stonebwoy. Martin Kpebu disapproves of Edudzi Tamakloe’s description of Attorney-General as ‘dishonest’. Ghana Statistical Service inaugurates new Board. Ibrahim Tanko expresses desire to assist Black Stars technical team. Character is key – Edem on what he looks out for in up and coming artists. U-20 WWC: Black Princesses to face USA, Netherlands and Japan in Costa Rica. Attorney-General ‘has no appreciation for humility’ – Edudzi Tamakloe. CLOGSAG Strike: Marriage registration at Registrar-General’s Department halted – PRO. Joy FM presents ‘Media, Showbiz & Motherhood Dialogue’. My biggest achievement so far is being a United Nations goodwill ambassador – Rocky Dawuni. Michael Baah Biney: Why Diabetics are prone to amputation. I have a tough skin now — Kuami Eugene tells critics. GJA to hold regional and national elections on June 24. Pastor charges $700 fee to ‘take people to heaven’. One lady, 2 hats: The story of Patience Baffoe-Bonnie. Government is free to spend E-levy revenue despite case challenging it’s constitutionality – Godfred Dame. German-based Ghanaian medical doctor donates medical supplies worth €164k to Manhyia Hospital. Mozartbet Ghana presents prizes to first batch of winners for “Hit the odds promotion”. Traffic congestion in urban centres a major cause of childhood obesity – Nutritionist. ‘Is it propaganda that we staged a walkout during the E-Levy passage?’ – Ablakwa to AG. Akufo-Addo will continue to pursue programmes, policies to promote peace and security – Bawumia. High Court suspends hearing of Ato Essien’s case temporarily. Manasseh Azure Awuni: Samira Bawumia and the making of Ghanaian writers. ‘Best New Artiste to perform at Ghana Party in the Park in the UK’ – VGMA PRO. You don’t necessarily need to speak English in your songs to go international – Edem. Drake DMs and follows a troll’s wife after he makes jokes about son, Adonis. Press Freedom Index: Assessment from foreigners is neocolonial – Prof. Gyampo. I was going blind – Agya Koo explains why he stopped filming night scenes. Central Region residents are refusing Covid-19 vaccination – Central Region Health Directorate. We are committed to making Stonebwoy a global artiste – DefJam. E-levy: Panic withdrawals hit mobile money vendors – Spokesperson for Association. ‘Some beg to build houses; we just want to feed’ – Child beggars bewail tough survival. Press Freedom Index: Government’s indifference, GJA’s silence on journalists’ abuse contributed to 60th position – Media Consultant. Police officer arrested for alleged rape of 13-year-old girl who reported gang rape. Former Radio Gold broadcaster dies. ‘Akufo-Addo’s era is the worst for journalists in Ghana’ – Manasseh Azure. Dave Chappelle releases first statement about ‘unsettling’ attack. Kanayo O. Kanayo opens up on almost committing suicide. Black Princesses to know group members for 2022 World Cup tonight. Climate change is real and Ghana is paying the price for it – Environment Minister. We’re working to resolve prepayment challenges by close of business today – ECG. WFP supports Ghanaian agro-processors to be globally competitive. ‘Chief One is a representation of determination’ – Edem. Russian Orthodox Church scolds Pope Francis after ‘Putin’s altar boy’ remark. Letshego’s customers join company for wellness walk. Vodafone Cash customers pay only 1.5% e-levy charges, not transfer charges – CEO. JoyNews Tracker: Odododiodoo residents left out of infrastructural development. Rap music never paid me – Edem. Scale-up long term funding for industry – AGI to NIB, ADB. BOPP to pay ¢1.06 per share to shareholders. Shareholders of Ecobank Ghana to enjoy 81 pesewas per share dividend. Economy to become 12th fastest growing in Sub-Saharan Africa in 2022. Ghana National Fire Service calls for support from assemblies to enhance safety. Nigeria’s President Muhammad Buhari shock at beheading of Nigerian couple. Islamic Girls’ Development Foundation fetes Muslim students in Wesley Girls on Eid-ul-Fitr. Driver unions to increase transport fares after Akufo-Addo’s refusal to remove petroleum taxes. Kamaldeen Sulemana admits his injury ordeal ‘has been difficult’. Blame country’s woes on arrogance, silencing of critical voices – Kwesi Botchwey. ‘Why are you bent on appealing High Court ruling that reinstated VC, principal officers?’ – UEW Governing Chair. UCL: Real Madrid stun Man City set up final with Liverpool. Fundit: Building a strong brand online. Eminem, Dolly Parton and Lionel Richie to be inducted into Rock & Roll Hall Of Fame. Today’s front pages: Thursday, May 5, 2022. . . . Exchange Rates. USD - United States dollar $. GHS - Ghanaian cedi ₵. NGN - Nigerian naira ₦. ZAR - South African rand R. CAD - Canadian dollar $. EUR - Euro €. GBP - British pound £. JPY - Japanese yen ¥. CNY - Chinese yuan ¥. i. May 06, 2022. MOST POPULAR NEWS. E-levy: Panic withdrawals hit mobile money vendors – Spokesperson for Association. High Court suspends hearing of Ato Essien’s case temporarily. Former Radio Gold broadcaster dies. Martin Kpebu disapproves of Edudzi Tamakloe’s description of Attorney-General as ‘dishonest’. Pastor charges $700 fee to ‘take people to heaven’. Attorney-General ‘has no appreciation for humility’ – Edudzi Tamakloe. Police officer arrested for alleged rape of 13-year-old girl who reported gang rape. We’re working to resolve prepayment challenges by close of business today – ECG. JoyNews Tracker: Odododiodoo residents left out of infrastructural development. Today’s front pages: Friday, May 6, 2022. LATEST STORIES. Mozambique plans law to regulate and tax churches. Storm rips off roofing of Bishop Herman College Giant Block. SEC, Finance Ministry begin discussions to exempt investment transactions from E-Levy. A$AP Rocky proposes to Rihanna in ‘D.M.B.’ music video. Anny Osabutey: Adwoa Agyemang’s eBook “Move To Ghana” is a perfect gift for relocation virgins. Nigeria and Angola responsible for almost half of OPEC+ oil supply gap – Reuters. GSE grants extension to GOIL, others for submission of their Unaudited Financial Statement. Freed Kenyan cleric refuses to leave jail. Girl needs urgent surgery to save fingers after guardian forced her hand into boiling water over ¢2. Ray J shares his side of Kim Kardashian sex tape story: ‘I’ve never leaked a tape’. About Us. The Multimedia Group. Advertise With Us. Contact Us. Terms of Use. Privacy Policy. Radio. Joy 99.7 FM. Adom 106.3 FM. Hitz 103.9 FM. Asempa 94.7 FM. Luv 99.5 FM. Nhyira 104.5 FM. TV. Joy News. Adom TV. Joy Prime. MultiTVWorld.com. Adom TV (Audio). Joy News (Audio). Social. YouTube. Facebook. Twitter. Instagram. LinkedIn. Infographics. More. Elections. Habitat Fair.  Google Podcast  TuneIn  iTunes Spotify. © 1996-2021 Copyright: MyjoyOnline.com\""
      ]
     },
     "execution_count": 217,
     "metadata": {},
     "output_type": "execute_result"
    }
   ],
   "source": [
    "rep\n"
   ]
  },
  {
   "cell_type": "code",
   "execution_count": 218,
   "id": "596912f5-2f0d-4415-a8e7-0a4f07aeb388",
   "metadata": {},
   "outputs": [],
   "source": [
    "import re\n",
    "expression = re.compile(r'([A-Z][^\\.!?]*[\\.!?])')\n",
    "new_list = re.findall(expression, rep)"
   ]
  },
  {
   "cell_type": "code",
   "execution_count": 219,
   "id": "aa1277d5-87d0-4223-b4b4-d5fdf354dd34",
   "metadata": {},
   "outputs": [
    {
     "data": {
      "text/plain": [
       "['TOP STORY.',\n",
       " 'Girl needs urgent surgery to save fingers after guardian forced her hand into boiling water over ¢2.',\n",
       " 'NEWS.',\n",
       " 'E-levy: Panic withdrawals hit mobile money vendors – Spokesperson for Association.',\n",
       " 'Martin Kpebu disapproves of Edudzi Tamakloe’s description of Attorney-General as ‘dishonest’.',\n",
       " 'With God, all things are possible; my electoral victories confirmed that’ – Akufo-Addo.',\n",
       " 'My faith in God has heavily influenced my vision for Ghana’ – Akufo-Addo.',\n",
       " 'Transport fares to go up by 30% on Friday, May 13.',\n",
       " 'High Court suspends hearing of Ato Essien’s case temporarily.',\n",
       " 'CLOGSAG Strike: Marriage registration at Registrar-General’s Department halted – PRO.',\n",
       " 'CCTV footage of gory accident at Labone junction emerges.',\n",
       " 'Ghana 161,222 Total 1,445 Deaths 159,746 Recovered.',\n",
       " 'Global 515,964,014 Total 6,272,448 Deaths 470,781,199 Recovered.',\n",
       " 'PODCASTS.',\n",
       " 'Super Morning Show.',\n",
       " 'Cosmopolitan Mix.',\n",
       " 'Midday News.',\n",
       " 'DriveTime.',\n",
       " 'Newsnite.',\n",
       " 'Top Story.',\n",
       " 'Strong and Sassy.',\n",
       " 'Newsfile.',\n",
       " 'Living Word.',\n",
       " 'Joy Business.',\n",
       " 'Joy Business Report.',\n",
       " 'Joy Masterclass.',\n",
       " \"That's My Opinion.\",\n",
       " 'The Overdrive.',\n",
       " 'Executive Lounge.',\n",
       " 'Geek Squad.',\n",
       " 'Personality Profile.',\n",
       " 'Sports Track.',\n",
       " 'Locker Room.',\n",
       " 'Election Brief.',\n",
       " 'Home Affairs.',\n",
       " 'Ultimate Health.',\n",
       " 'Sports Arena.',\n",
       " 'Sports Link.',\n",
       " 'Spring Board.',\n",
       " 'IN FOCUS.',\n",
       " 'Airport boss sacked over low fuel and dark runways.',\n",
       " 'VIDEOS.',\n",
       " 'Abused 9-year-old girl: Child needs help .',\n",
       " 'Month of Ramadan: Muslims mark Eid .',\n",
       " 'The story of UK educated school .',\n",
       " 'Child Beggars: State of government’s “.',\n",
       " 'Fundit: Building a strong brand online.',\n",
       " 'Press Freedom Index: Dropping from 30 to 60 .',\n",
       " 'Make GES only a regulator of .',\n",
       " 'Free SHS shouldn’t be free .',\n",
       " 'ENTERTAINMENT.',\n",
       " 'My deal with DefJam does not include changing my style of music – Stonebwoy.',\n",
       " 'Being different is making people uncomfortable but I don’t care – Edem.',\n",
       " 'Joy FM presents ‘Media, Showbiz & Motherhood Dialogue’.',\n",
       " 'BUSINESS.',\n",
       " 'SEC, Finance Ministry begin discussions to exempt investment transactions from E-Levy.',\n",
       " 'GSE grants extension to GOIL, others for submission of their Unaudited Financial Statement.',\n",
       " 'Economy to become 12th fastest growing in Sub-Saharan Africa in 2022.',\n",
       " 'Leverage SDG investor map for investment in Ghana’s housing and infrastructure sectors – Private sector told.',\n",
       " 'Scale-up long term funding for industry – AGI to NIB, ADB.',\n",
       " 'BOPP to pay ¢1.',\n",
       " 'Shareholders of Ecobank Ghana to enjoy 81 pesewas per share dividend.',\n",
       " 'SPORTS.',\n",
       " 'U-20 WWC: Black Princesses to face USA, Netherlands and Japan in Costa Rica.',\n",
       " 'Aston Villa asked for compensation before releasing George Boateng – Henry Asante Twum.',\n",
       " 'The case against Kevin Durant.',\n",
       " 'Were any of Brazil’s goals against Ghana in the 2006 World Cup really offside?',\n",
       " 'Shooting Stars set to host Borussia Dortmund in Ghana.',\n",
       " 'Teams are afraid to play against Ridge City – Club owner reveals.',\n",
       " 'Hoop Dreams: Ghana’s search for a global basketball icon.',\n",
       " 'LIFESTYLE.',\n",
       " 'It’s one man one woman; the law will deal with you if you go contrary – Legal Practioner.',\n",
       " 'I couldn’t call off my wedding but I never wanted to be married.',\n",
       " 'When mum sent me ‘the best prayer to help get married’ at dawn.',\n",
       " 'I took care of my unemployed husband for 4 years, now he has a job, he wants a second wife.',\n",
       " 'Any woman who is not financially independent has no business in marriage – PR Practitioner.',\n",
       " 'Why I refuse to let infertility win.',\n",
       " 'He raped me, but I went out with him again.',\n",
       " 'OPINION.',\n",
       " 'Samson’s Take: Hijacked democracy, threat to the democracy.',\n",
       " 'When mum sent me ‘the best prayer to help get married’ at dawn.',\n",
       " 'Christian Yalley: How my journey to First Class in UG started in a room with ladies.',\n",
       " 'Sweet Like Fine Choco: I love women but I’m not lesbian.',\n",
       " 'Anny Osabutey: Obituary brochure – Establishing family ties through funeral handouts.',\n",
       " 'Edmund Smith-Asante: ‘Abrokyire abrabo’; My wahala in Germany – Part 1￼.',\n",
       " 'Nana Kwasi Gyan-Apenteng: Have the masks gone too soon?',\n",
       " 'OBITUARY.',\n",
       " 'Sampson Nana Andoh.',\n",
       " 'Abraham Osei aka Kwame Braimah.',\n",
       " 'John McCarthy Aful.',\n",
       " 'Recommended for you.',\n",
       " 'Promoted.',\n",
       " \"Floyd Mayweather's new home in Miami Beach is absolutely breathtaking!\",\n",
       " 'Mansion Global.',\n",
       " 'Ayew brothers quit Black Stars.',\n",
       " 'Promoted.',\n",
       " \"Simple Online Jobs In Ghana You Didn't Know About.\",\n",
       " 'Work From Home | Search ads.',\n",
       " 'Promoted.',\n",
       " 'Online Job in USA from Ghana.',\n",
       " 'Salaries May Surprise You.',\n",
       " 'Read more.',\n",
       " 'USA Job from Home | Search Ads.',\n",
       " 'Dr Mrs Foriwah Obeng Adjei.',\n",
       " 'Promoted.',\n",
       " 'Housekeeping employees needed in US (see salaries).',\n",
       " 'Housekeeping jobs | Search ads.',\n",
       " \"UG final year student passes on; leaves 'strange' note.\",\n",
       " 'Chief of Staff was denied access to Adwoa Safo’s residence – JoyNews sources.',\n",
       " 'Promoted.',\n",
       " \"Réactivez l'interrupteur brûle graisse qui est en vous.\",\n",
       " 'Recommended by.',\n",
       " 'Most Recent.',\n",
       " 'Mozambique plans law to regulate and tax churches.',\n",
       " 'Storm rips off roofing of Bishop Herman College Giant Block.',\n",
       " 'SEC, Finance Ministry begin discussions to exempt investment transactions from E-Levy.',\n",
       " 'A$AP Rocky proposes to Rihanna in ‘D.',\n",
       " 'M.',\n",
       " 'B.',\n",
       " 'Anny Osabutey: Adwoa Agyemang’s eBook “Move To Ghana” is a perfect gift for relocation virgins.',\n",
       " 'Nigeria and Angola responsible for almost half of OPEC+ oil supply gap – Reuters.',\n",
       " 'GSE grants extension to GOIL, others for submission of their Unaudited Financial Statement.',\n",
       " 'Freed Kenyan cleric refuses to leave jail.',\n",
       " 'Girl needs urgent surgery to save fingers after guardian forced her hand into boiling water over ¢2.',\n",
       " 'Ray J shares his side of Kim Kardashian sex tape story: ‘I’ve never leaked a tape’.',\n",
       " 'Transport fares to go up by 30% on Friday, May 13.',\n",
       " 'Airport boss sacked over low fuel and dark runways.',\n",
       " 'Virgin Atlantic flight forced to turn around as pilot ‘did not have designated trainer status’.',\n",
       " 'Miss Grand International finally in Ghana, Abena Akuaba selected as national director.',\n",
       " 'Nollywood stars turn out for Netflix premiere of Blood Sisters.',\n",
       " 'Aston Villa asked for compensation before releasing George Boateng – Henry Asante Twum.',\n",
       " 'Leverage SDG investor map for investment in Ghana’s housing and infrastructure sectors – Private sector told.',\n",
       " 'Carrier bag mistaken for stray lion triggers alarm in Kenya.',\n",
       " 'With God, all things are possible; my electoral victories confirmed that’ – Akufo-Addo.',\n",
       " 'Today’s front pages: Friday, May 6, 2022.',\n",
       " 'Being different is making people uncomfortable but I don’t care – Edem.',\n",
       " 'My faith in God has heavily influenced my vision for Ghana’ – Akufo-Addo.',\n",
       " 'Senegal midwives go on trial over mother’s death.',\n",
       " 'Karine Jean-Pierre: White House names first black press secretary.',\n",
       " 'Madison Cawthorn: US lawmaker ‘won’t back down’ after naked tape leak.',\n",
       " 'E-levy: Some money transfers have already been done to the Consolidated Fund – Ken Ashigbey.',\n",
       " 'E-levy: Players in the implementation process have done a good job – John Awuah.',\n",
       " 'Feli Nuna releases snippet ahead of new song, ‘Towel’.',\n",
       " 'Broadcast important cases, remove payment of fees in RTI Act – Appeals Court Judge to Judicial Service.',\n",
       " 'Identify risks and weaknesses in public economic management – Bawumia to auditors.',\n",
       " 'Sunyani Technical University graduate receives Kasapreko’s Student Leadership Award.',\n",
       " 'Francis-Xavier Sosu: Enact laws and policies to ensure mandatory minimum employment of persons with disabilities.',\n",
       " 'Bolt rewards over 100 drivers to mark May Day.',\n",
       " 'AMA calls for resolution of CLOGSAG concerns as strike bites hard on Assembly.',\n",
       " 'Historical sites can inspire new art forms- Artist Ibrahim Mahama.',\n",
       " 'Playback: PM Express discuss E-levy.',\n",
       " 'Fumesua Anglican Basic JHS students endure congestion and intense heat.',\n",
       " 'My deal with DefJam does not include changing my style of music – Stonebwoy.',\n",
       " 'Martin Kpebu disapproves of Edudzi Tamakloe’s description of Attorney-General as ‘dishonest’.',\n",
       " 'Ghana Statistical Service inaugurates new Board.',\n",
       " 'Ibrahim Tanko expresses desire to assist Black Stars technical team.',\n",
       " 'Character is key – Edem on what he looks out for in up and coming artists.',\n",
       " 'U-20 WWC: Black Princesses to face USA, Netherlands and Japan in Costa Rica.',\n",
       " 'Attorney-General ‘has no appreciation for humility’ – Edudzi Tamakloe.',\n",
       " 'CLOGSAG Strike: Marriage registration at Registrar-General’s Department halted – PRO.',\n",
       " 'Joy FM presents ‘Media, Showbiz & Motherhood Dialogue’.',\n",
       " 'My biggest achievement so far is being a United Nations goodwill ambassador – Rocky Dawuni.',\n",
       " 'Michael Baah Biney: Why Diabetics are prone to amputation.',\n",
       " 'I have a tough skin now — Kuami Eugene tells critics.',\n",
       " 'GJA to hold regional and national elections on June 24.',\n",
       " 'Pastor charges $700 fee to ‘take people to heaven’.',\n",
       " 'One lady, 2 hats: The story of Patience Baffoe-Bonnie.',\n",
       " 'Government is free to spend E-levy revenue despite case challenging it’s constitutionality – Godfred Dame.',\n",
       " 'German-based Ghanaian medical doctor donates medical supplies worth €164k to Manhyia Hospital.',\n",
       " 'Mozartbet Ghana presents prizes to first batch of winners for “Hit the odds promotion”.',\n",
       " 'Traffic congestion in urban centres a major cause of childhood obesity – Nutritionist.',\n",
       " 'Is it propaganda that we staged a walkout during the E-Levy passage?',\n",
       " 'Ablakwa to AG.',\n",
       " 'Akufo-Addo will continue to pursue programmes, policies to promote peace and security – Bawumia.',\n",
       " 'High Court suspends hearing of Ato Essien’s case temporarily.',\n",
       " 'Manasseh Azure Awuni: Samira Bawumia and the making of Ghanaian writers.',\n",
       " 'Best New Artiste to perform at Ghana Party in the Park in the UK’ – VGMA PRO.',\n",
       " 'You don’t necessarily need to speak English in your songs to go international – Edem.',\n",
       " 'Drake DMs and follows a troll’s wife after he makes jokes about son, Adonis.',\n",
       " 'Press Freedom Index: Assessment from foreigners is neocolonial – Prof.',\n",
       " 'Gyampo.',\n",
       " 'I was going blind – Agya Koo explains why he stopped filming night scenes.',\n",
       " 'Central Region residents are refusing Covid-19 vaccination – Central Region Health Directorate.',\n",
       " 'We are committed to making Stonebwoy a global artiste – DefJam.',\n",
       " 'E-levy: Panic withdrawals hit mobile money vendors – Spokesperson for Association.',\n",
       " 'Some beg to build houses; we just want to feed’ – Child beggars bewail tough survival.',\n",
       " 'Press Freedom Index: Government’s indifference, GJA’s silence on journalists’ abuse contributed to 60th position – Media Consultant.',\n",
       " 'Police officer arrested for alleged rape of 13-year-old girl who reported gang rape.',\n",
       " 'Former Radio Gold broadcaster dies.',\n",
       " 'Akufo-Addo’s era is the worst for journalists in Ghana’ – Manasseh Azure.',\n",
       " 'Dave Chappelle releases first statement about ‘unsettling’ attack.',\n",
       " 'Kanayo O.',\n",
       " 'Kanayo opens up on almost committing suicide.',\n",
       " 'Black Princesses to know group members for 2022 World Cup tonight.',\n",
       " 'Climate change is real and Ghana is paying the price for it – Environment Minister.',\n",
       " 'We’re working to resolve prepayment challenges by close of business today – ECG.',\n",
       " 'WFP supports Ghanaian agro-processors to be globally competitive.',\n",
       " 'Chief One is a representation of determination’ – Edem.',\n",
       " 'Russian Orthodox Church scolds Pope Francis after ‘Putin’s altar boy’ remark.',\n",
       " 'Letshego’s customers join company for wellness walk.',\n",
       " 'Vodafone Cash customers pay only 1.',\n",
       " 'CEO.',\n",
       " 'JoyNews Tracker: Odododiodoo residents left out of infrastructural development.',\n",
       " 'Rap music never paid me – Edem.',\n",
       " 'Scale-up long term funding for industry – AGI to NIB, ADB.',\n",
       " 'BOPP to pay ¢1.',\n",
       " 'Shareholders of Ecobank Ghana to enjoy 81 pesewas per share dividend.',\n",
       " 'Economy to become 12th fastest growing in Sub-Saharan Africa in 2022.',\n",
       " 'Ghana National Fire Service calls for support from assemblies to enhance safety.',\n",
       " 'Nigeria’s President Muhammad Buhari shock at beheading of Nigerian couple.',\n",
       " 'Islamic Girls’ Development Foundation fetes Muslim students in Wesley Girls on Eid-ul-Fitr.',\n",
       " 'Driver unions to increase transport fares after Akufo-Addo’s refusal to remove petroleum taxes.',\n",
       " 'Kamaldeen Sulemana admits his injury ordeal ‘has been difficult’.',\n",
       " 'Blame country’s woes on arrogance, silencing of critical voices – Kwesi Botchwey.',\n",
       " 'Why are you bent on appealing High Court ruling that reinstated VC, principal officers?',\n",
       " 'UEW Governing Chair.',\n",
       " 'UCL: Real Madrid stun Man City set up final with Liverpool.',\n",
       " 'Fundit: Building a strong brand online.',\n",
       " 'Eminem, Dolly Parton and Lionel Richie to be inducted into Rock & Roll Hall Of Fame.',\n",
       " 'Today’s front pages: Thursday, May 5, 2022.',\n",
       " 'Exchange Rates.',\n",
       " 'USD - United States dollar $.',\n",
       " 'GHS - Ghanaian cedi ₵.',\n",
       " 'NGN - Nigerian naira ₦.',\n",
       " 'ZAR - South African rand R.',\n",
       " 'CAD - Canadian dollar $.',\n",
       " 'EUR - Euro €.',\n",
       " 'GBP - British pound £.',\n",
       " 'JPY - Japanese yen ¥.',\n",
       " 'CNY - Chinese yuan ¥.',\n",
       " 'May 06, 2022.',\n",
       " 'MOST POPULAR NEWS.',\n",
       " 'E-levy: Panic withdrawals hit mobile money vendors – Spokesperson for Association.',\n",
       " 'High Court suspends hearing of Ato Essien’s case temporarily.',\n",
       " 'Former Radio Gold broadcaster dies.',\n",
       " 'Martin Kpebu disapproves of Edudzi Tamakloe’s description of Attorney-General as ‘dishonest’.',\n",
       " 'Pastor charges $700 fee to ‘take people to heaven’.',\n",
       " 'Attorney-General ‘has no appreciation for humility’ – Edudzi Tamakloe.',\n",
       " 'Police officer arrested for alleged rape of 13-year-old girl who reported gang rape.',\n",
       " 'We’re working to resolve prepayment challenges by close of business today – ECG.',\n",
       " 'JoyNews Tracker: Odododiodoo residents left out of infrastructural development.',\n",
       " 'Today’s front pages: Friday, May 6, 2022.',\n",
       " 'LATEST STORIES.',\n",
       " 'Mozambique plans law to regulate and tax churches.',\n",
       " 'Storm rips off roofing of Bishop Herman College Giant Block.',\n",
       " 'SEC, Finance Ministry begin discussions to exempt investment transactions from E-Levy.',\n",
       " 'A$AP Rocky proposes to Rihanna in ‘D.',\n",
       " 'M.',\n",
       " 'B.',\n",
       " 'Anny Osabutey: Adwoa Agyemang’s eBook “Move To Ghana” is a perfect gift for relocation virgins.',\n",
       " 'Nigeria and Angola responsible for almost half of OPEC+ oil supply gap – Reuters.',\n",
       " 'GSE grants extension to GOIL, others for submission of their Unaudited Financial Statement.',\n",
       " 'Freed Kenyan cleric refuses to leave jail.',\n",
       " 'Girl needs urgent surgery to save fingers after guardian forced her hand into boiling water over ¢2.',\n",
       " 'Ray J shares his side of Kim Kardashian sex tape story: ‘I’ve never leaked a tape’.',\n",
       " 'About Us.',\n",
       " 'The Multimedia Group.',\n",
       " 'Advertise With Us.',\n",
       " 'Contact Us.',\n",
       " 'Terms of Use.',\n",
       " 'Privacy Policy.',\n",
       " 'Radio.',\n",
       " 'Joy 99.',\n",
       " 'FM.',\n",
       " 'Adom 106.',\n",
       " 'FM.',\n",
       " 'Hitz 103.',\n",
       " 'FM.',\n",
       " 'Asempa 94.',\n",
       " 'FM.',\n",
       " 'Luv 99.',\n",
       " 'FM.',\n",
       " 'Nhyira 104.',\n",
       " 'FM.',\n",
       " 'TV.',\n",
       " 'Joy News.',\n",
       " 'Adom TV.',\n",
       " 'Joy Prime.',\n",
       " 'MultiTVWorld.',\n",
       " 'Adom TV (Audio).',\n",
       " 'Joy News (Audio).',\n",
       " 'Social.',\n",
       " 'YouTube.',\n",
       " 'Facebook.',\n",
       " 'Twitter.',\n",
       " 'Instagram.',\n",
       " 'LinkedIn.',\n",
       " 'Infographics.',\n",
       " 'More.',\n",
       " 'Elections.',\n",
       " 'Habitat Fair.',\n",
       " 'Google Podcast  TuneIn  iTunes Spotify.',\n",
       " 'Copyright: MyjoyOnline.']"
      ]
     },
     "execution_count": 219,
     "metadata": {},
     "output_type": "execute_result"
    }
   ],
   "source": [
    "new_list\n"
   ]
  },
  {
   "cell_type": "code",
   "execution_count": 220,
   "id": "75adbbaa-6ffc-4542-9ed8-9870a1ce5525",
   "metadata": {},
   "outputs": [
    {
     "name": "stdout",
     "output_type": "stream",
     "text": [
      "['Carrier bag mistaken for stray lion triggers alarm in Kenya.', 'Police officer arrested for alleged rape of 13-year-old girl who reported gang rape.', 'Police officer arrested for alleged rape of 13-year-old girl who reported gang rape.']\n"
     ]
    }
   ],
   "source": [
    "matches = []\n",
    "#('arm','weapon', 'shot', 'police', 'military', 'drugs', 'suspect')\n",
    "for match in new_list:\n",
    "    if \"arm\" in match:\n",
    "        matches.append(match)\n",
    "    if \"weapon\" in match:\n",
    "        matches.append(match)\n",
    "    if \"shot\" in match:\n",
    "        matches.append(match)\n",
    "    if \"police\" in match:\n",
    "        matches.append(match)\n",
    "    if \"military\" in match:\n",
    "        matches.append(match)\n",
    "    if \"drugs\" in match:\n",
    "        matches.append(match)\n",
    "    if \"suspects\" in match:\n",
    "        matches.append(match)\n",
    "    if \"Arm\" in match:\n",
    "        matches.append(match)\n",
    "    if \"Weapon\" in match:\n",
    "        matches.append(match)\n",
    "    if \"Shot\" in match:\n",
    "        matches.append(match)\n",
    "    if \"Police\" in match:\n",
    "        matches.append(match)\n",
    "    if \"Military\" in match:\n",
    "        matches.append(match)\n",
    "    if \"Drugs\" in match:\n",
    "        matches.append(match)\n",
    "    if \"Kill\" in match:\n",
    "        matches.append(match)\n",
    "    if \"Cannabis\" in match:\n",
    "        matches.append(match)\n",
    "    if \"connnabis\" in match:\n",
    "        matches.append(match)\n",
    "    if \"Cocaine\" in match:\n",
    "        matches.append(match)\n",
    "    if \"cocaine\" in match:\n",
    "        matches.append(match)\n",
    "    if \"weed\" in match:\n",
    "        matches.append(match)\n",
    "print(matches)\n",
    "#kill"
   ]
  },
  {
   "cell_type": "code",
   "execution_count": 221,
   "id": "4ed5d560-67b2-4d71-b8ac-e7a8438db272",
   "metadata": {},
   "outputs": [
    {
     "data": {
      "text/plain": [
       "list"
      ]
     },
     "execution_count": 221,
     "metadata": {},
     "output_type": "execute_result"
    }
   ],
   "source": [
    "type(matches)\n"
   ]
  },
  {
   "cell_type": "code",
   "execution_count": 222,
   "id": "119c9731-68e5-44b4-b17f-94005597c786",
   "metadata": {},
   "outputs": [],
   "source": [
    "new_ = [s.replace(\",\", \"\") for s in matches]\n",
    "new_l = [s.replace(\".\", \"\") for s in new_]\n",
    "new_li = [s.replace(\"–\", \"\") for s in new_l]\n",
    "new_lis = [s.replace(\"?\", \"\") for s in new_li]\n",
    "new_list = [s.replace(\":\", \"\") for s in new_lis]\n",
    "new_lists = [s.replace(\";\", \"\") for s in new_list]"
   ]
  },
  {
   "cell_type": "code",
   "execution_count": 223,
   "id": "787c1aa1-611f-475f-a097-6d24f508cd09",
   "metadata": {},
   "outputs": [
    {
     "data": {
      "text/plain": [
       "3"
      ]
     },
     "execution_count": 223,
     "metadata": {},
     "output_type": "execute_result"
    }
   ],
   "source": [
    "len(new_lists)"
   ]
  },
  {
   "cell_type": "code",
   "execution_count": 224,
   "id": "8c780e3f-20db-4775-bdf9-8537303751bb",
   "metadata": {},
   "outputs": [
    {
     "data": {
      "text/plain": [
       "['Carrier bag mistaken for stray lion triggers alarm in Kenya',\n",
       " 'Police officer arrested for alleged rape of 13-year-old girl who reported gang rape',\n",
       " 'Police officer arrested for alleged rape of 13-year-old girl who reported gang rape']"
      ]
     },
     "execution_count": 224,
     "metadata": {},
     "output_type": "execute_result"
    }
   ],
   "source": [
    "new_lists"
   ]
  },
  {
   "cell_type": "code",
   "execution_count": null,
   "id": "07ae30da-c4c1-4546-8baa-6396b3c446ab",
   "metadata": {},
   "outputs": [],
   "source": []
  },
  {
   "cell_type": "code",
   "execution_count": 225,
   "id": "6e8609db-c73f-41f7-990e-1fac293f2329",
   "metadata": {},
   "outputs": [],
   "source": [
    "urls = new_lists\n"
   ]
  },
  {
   "cell_type": "code",
   "execution_count": 226,
   "id": "d2849b5e-5790-48be-9b56-e0e299ba79cc",
   "metadata": {},
   "outputs": [
    {
     "data": {
      "text/plain": [
       "list"
      ]
     },
     "execution_count": 226,
     "metadata": {},
     "output_type": "execute_result"
    }
   ],
   "source": [
    "type(urls)"
   ]
  },
  {
   "cell_type": "code",
   "execution_count": 227,
   "id": "f914598d-8169-4bbc-9450-37e06e4e6ed4",
   "metadata": {},
   "outputs": [],
   "source": [
    "col1 = \"topics\""
   ]
  },
  {
   "cell_type": "code",
   "execution_count": 228,
   "id": "e0536799-dd98-44f1-9edd-1ea5acdd7178",
   "metadata": {},
   "outputs": [],
   "source": [
    "data = pd.DataFrame({col1:urls})"
   ]
  },
  {
   "cell_type": "code",
   "execution_count": 229,
   "id": "0e7148af-b291-41fa-abd4-1feb1994ab2d",
   "metadata": {},
   "outputs": [],
   "source": [
    "from datetime import datetime\n",
    "today = (datetime.today().strftime('%Y-%m-%d'),'myjoyonline')"
   ]
  },
  {
   "cell_type": "code",
   "execution_count": 230,
   "id": "fce64bbb-2146-4085-a1f9-2fc7016c82e9",
   "metadata": {},
   "outputs": [],
   "source": [
    "# Use str.join() to convert tuple to string.\n",
    "today = ''.join(today)\n"
   ]
  },
  {
   "cell_type": "code",
   "execution_count": 231,
   "id": "4f316c77-f611-4fe3-90de-5d14244028cb",
   "metadata": {},
   "outputs": [
    {
     "data": {
      "text/plain": [
       "str"
      ]
     },
     "execution_count": 231,
     "metadata": {},
     "output_type": "execute_result"
    }
   ],
   "source": [
    "type(today)"
   ]
  },
  {
   "cell_type": "code",
   "execution_count": 232,
   "id": "442e7123-99e9-4140-aace-e34bda09bd99",
   "metadata": {},
   "outputs": [
    {
     "data": {
      "text/plain": [
       "'2022-05-06myjoyonline'"
      ]
     },
     "execution_count": 232,
     "metadata": {},
     "output_type": "execute_result"
    }
   ],
   "source": [
    "today"
   ]
  },
  {
   "cell_type": "code",
   "execution_count": 233,
   "id": "7fd77d94-e06a-4c6c-9e0a-70904b5c45ac",
   "metadata": {},
   "outputs": [],
   "source": [
    "with pd.ExcelWriter(\"C:\\\\Users\\\\kofi\\\\Desktop\\\\selenium.xlsx\", engine=\"openpyxl\", mode=\"a\") as writer:\n",
    "    data.to_excel(writer, sheet_name=today, startrow=0, startcol=0)"
   ]
  },
  {
   "cell_type": "code",
   "execution_count": null,
   "id": "893177e1-5fd4-45da-9eef-22833707256c",
   "metadata": {},
   "outputs": [],
   "source": []
  },
  {
   "cell_type": "markdown",
   "id": "532b5652-7240-4726-a2df-f43dfaa6eca7",
   "metadata": {},
   "source": [
    "## 3news"
   ]
  },
  {
   "cell_type": "code",
   "execution_count": 234,
   "id": "6c66a1be-8f7a-4b1b-a1b5-2adca9b0517a",
   "metadata": {},
   "outputs": [
    {
     "name": "stdout",
     "output_type": "stream",
     "text": [
      "did not finish loading\n"
     ]
    }
   ],
   "source": [
    "try:\n",
    "    \n",
    "    driver.get(\"https://3news.com/\")    \n",
    "    time.sleep(30)   \n",
    "except Exception:\n",
    "    pass\n",
    "print('did not finish loading')"
   ]
  },
  {
   "cell_type": "code",
   "execution_count": 235,
   "id": "84084942-7a9c-41f9-885d-527e784a19c7",
   "metadata": {},
   "outputs": [
    {
     "name": "stderr",
     "output_type": "stream",
     "text": [
      "C:\\Users\\kofi\\AppData\\Local\\Temp/ipykernel_17312/1622795889.py:1: DeprecationWarning: find_element_by_xpath is deprecated. Please use find_element(by=By.XPATH, value=xpath) instead\n",
      "  i = driver.find_element_by_xpath(\"(//body)[1]\")\n"
     ]
    }
   ],
   "source": [
    "i = driver.find_element_by_xpath(\"(//body)[1]\")\n",
    " #(//div)[39]\n",
    "    #(//div[@class='jeg_viewport'])[1]"
   ]
  },
  {
   "cell_type": "code",
   "execution_count": 236,
   "id": "eb3b1608-9948-4184-9d52-bdee7484cffb",
   "metadata": {},
   "outputs": [],
   "source": [
    "k = i.text"
   ]
  },
  {
   "cell_type": "code",
   "execution_count": 237,
   "id": "a7b04e5f-100b-4ae2-96bb-4dccd628f089",
   "metadata": {},
   "outputs": [],
   "source": [
    "rep = k.replace(\"\\n\", \". \")"
   ]
  },
  {
   "cell_type": "code",
   "execution_count": 238,
   "id": "5635b053-1a2b-4ff6-ab42-33269992e573",
   "metadata": {},
   "outputs": [],
   "source": [
    "import re\n",
    "expression = re.compile(r'([A-Z][^\\.!?]*[\\.!?])')\n",
    "new_list = re.findall(expression, rep)"
   ]
  },
  {
   "cell_type": "code",
   "execution_count": 239,
   "id": "dc2853fc-7474-4869-a1bf-1c766df1b3cf",
   "metadata": {},
   "outputs": [
    {
     "data": {
      "text/plain": [
       "['Friday, May 6, 2022.',\n",
       " 'NEWS.',\n",
       " 'HOME.',\n",
       " 'NEWS.',\n",
       " 'BUSINESS.',\n",
       " 'ENTERTAINMENT.',\n",
       " 'SPORTS.',\n",
       " 'LIVE TV / RADIO.',\n",
       " 'TILAPIA.',\n",
       " 'WORLD.',\n",
       " 'NEWS.',\n",
       " 'Camidoh breaks records with ‘Sugarcane’ remix ft King Promise, Mayorkun, Darkoo.',\n",
       " 'MAJOR TOP STORY.',\n",
       " 'You spoke too early on NDC’s plan to repeal e-levy – Mahama told.',\n",
       " 'May 6, 2022.',\n",
       " 'SELRES_start\">\\ufeff</span><span data-mce-type=\"bookmark\" style=\"display: inline-block; width: 0px; overflow: hidden; line-height: 0;\" class=\"mce_SELRES_start\">\\ufeff</span>.',\n",
       " 'Rainstorm approaching Ghana – Meteo warns fishers.',\n",
       " 'May 6, 2022.',\n",
       " 'Corrupt people hate transparency – Bawumia.',\n",
       " 'May 5, 2022.',\n",
       " 'General News.',\n",
       " 'T’di: Self-styled mallam jailed 5yrs for swindling businesswoman of $10K.',\n",
       " 'May 6, 2022.',\n",
       " 'JuniorSharks-Services JHS disconnect Sharks Dream of La.',\n",
       " 'May 6, 2022.',\n",
       " 'Repealing e-levy will depend on Parliament, not.',\n",
       " 'May 6, 2022.',\n",
       " 'Ghana doesn’t need more than 9 Supreme.',\n",
       " 'May 5, 2022.',\n",
       " 'Passport office generated over ¢56m in 2021.',\n",
       " 'May 5, 2022.',\n",
       " 'NPP Fomena Constituency elections face annulment.',\n",
       " 'May 5, 2022.',\n",
       " 'You spoke too early on NDC’s plan.',\n",
       " 'May 6, 2022.',\n",
       " 'Corrupt people hate transparency – Bawumia.',\n",
       " 'May 5, 2022.',\n",
       " 'I don’t think Ghana needs a new.',\n",
       " 'May 5, 2022.',\n",
       " 'My struggle to become president has been.',\n",
       " 'May 5, 2022.',\n",
       " 'E-levy: Gov’t must explain how internal auditing is going to be done – Avedzi.',\n",
       " 'May 5, 2022.',\n",
       " 'Shortage of diesel looming in Ghana due.',\n",
       " 'May 6, 2022.',\n",
       " 'USAID gathers large companies to capitalize on.',\n",
       " 'May 5, 2022.',\n",
       " 'GIPC woos investors in the US to.',\n",
       " 'May 5, 2022.',\n",
       " 'Banks seek clarification on e-levy guidelines issued.',\n",
       " 'May 5, 2022.',\n",
       " 'We’re happy with the performance of our lawyers – Minority reacts to dismissal of E-Levy injunction.',\n",
       " 'Akufo-Addo gov’t blew GH¢33bn Covid-19 windfall to win election 2020 at all cost – Mahama.',\n",
       " 'NDC never scrapped trainee allowance – Jane Naana Opoku-Agyemang.',\n",
       " 'Akufo-Addo gov’t blew GH¢33bn Covid-19 windfall to win election 2020 at all cost – Mahama.',\n",
       " 'NewsExplainer: The referral of 3 MPs to the Privileges Committee over absenteeism.',\n",
       " 'NewsExplainer: E-Levy implementation and the cost to the ordinary Ghanaian.',\n",
       " \"NewsExplainer: Gov't takes drastic measures including pay cuts to salvage a crumbling economy.\",\n",
       " 'NewsExplainer: Big debate on whether or not to review government’s flagship Free SHS policy.',\n",
       " 'NewsExplainer: Land borders to be opened after two years; the story so far.',\n",
       " 'NewsExplainer: NPP Polling station elections - the violence, controversies and matters arising.',\n",
       " 'NewsExplainer: Break down of the SC ruling on Deputy Speakers voting rights in Parliament.',\n",
       " 'NewsExplainer: A week of coup conversations in Ghana.',\n",
       " 'NewsExplainer: Trials & Tribulations of Ghanaian students caught in the Russia-Ukraine crossfire.',\n",
       " \"NewsExplainer: The controversy of Adwoa Safo's absence from Parliament simplified.\",\n",
       " 'Afenyo-Markin insists ‘bedridden’ Chieftaincy Minister was in Parliament on Tuesday.',\n",
       " \"MPs expectations ahead of Ken Ofori-Atta's address of the nation.\",\n",
       " \"Johnnie's Bite: Ghana Where Are We Going?\",\n",
       " 'Bullion Van Robbery: Police intelligence leading to the death of 2 suspects disastrous.',\n",
       " \"Monetary policy c'ttee of BoG meeting March 16.\",\n",
       " 'Fuel prices projected to go up.',\n",
       " 'Barker-Vormawor Case: State prosecutors fail to show up.',\n",
       " 'Fuel prices to increase by 35%, NPA confirms.',\n",
       " 'Sall: The forgotten constituency.',\n",
       " 'The nonstagia of indigenous Ghanaian games.',\n",
       " 'Fuel price increase: Private car owners to consider alternative?',\n",
       " \"Daniel Amokachi mocks Ghana's search for 2022 world Cup paly-off.\",\n",
       " 'World Cup play-off: Ghana likely to play home match at Baba Yara or Morocco.',\n",
       " 'Pricing fuel: Impact of global market dip.',\n",
       " 'Fuel prices projected to go up.',\n",
       " \"Minority demands gov't to open land borders.\",\n",
       " 'Accra Psychiatric Hospital Controversy: Patients & staff hang in balance.',\n",
       " 'Demolition Bulgarian Embassy: Minority demands bipartisan probe.',\n",
       " 'Majority Leader, Osei Kyei-Mensah-Bonsu backs SC ruling & doubts comments attributed to Bagbin.',\n",
       " 'Appiatse Explosion: 13 who lost their lives given a mass burial.',\n",
       " 'Making sense of the Supreme Courts reasoning in the case of Deputy Speakers voting rights.',\n",
       " 'I’m a champion in Africa, food security in Ghana has improved under my watch – Owusu Afriyie Akoto.',\n",
       " 'All pointers show Ghana is in economic distress - Former Finance Minister, Prof.',\n",
       " 'Kwesi Botchwey.',\n",
       " 'Prof.',\n",
       " \"Kwesi Botchwey has said friends told him Akufo-Addo's gov't is vindictive.\",\n",
       " 'Disgruntled NPP members lock up Subin party office in the Ashanti Region.',\n",
       " 'Fomena: Angry NPP members paint party office with NDC colours and fix Mahama posters on walls.',\n",
       " \"E-Levy: Gov't holds 5th edition of townhall meeting in Ho.\",\n",
       " \"Highlights of Govt's 5th E-Levy Townhall Meeting held in Ho in the Volta Region.\",\n",
       " 'TV3@25: We’ve grown to become the best – Group CEO.',\n",
       " 'April 13, 2022.',\n",
       " 'Oppong Nkrumah launches TV3’s 25th anniversary celebration.',\n",
       " 'April 12, 2022.',\n",
       " 'Rainstorm approaching Ghana – Meteo warns.',\n",
       " 'Court remands 3 suspects for the.',\n",
       " 'The rights of journalists are not.',\n",
       " 'Media is credited for Ghana’s democratic.',\n",
       " 'News Highlights – Wednesday, May 4.',\n",
       " 'Sports.',\n",
       " 'Abramovich says he has not asked Chelsea to repay £1.',\n",
       " 'May 5, 2022.',\n",
       " 'Discrimination propelled me to become a professional cyclist – Richard Atta Yaw.',\n",
       " 'May 5, 2022.',\n",
       " 'Real Madrid to face Liverpool in final as comeback stuns Man City.',\n",
       " 'May 4, 2022.',\n",
       " 'Maradona ‘Hand of God’ jersey sells for $9.',\n",
       " 'May 4, 2022.',\n",
       " 'Dortmund have permitted me to lead Black Stars- Otto Addo.',\n",
       " 'May 4, 2022.',\n",
       " 'World.',\n",
       " 'Buhari’s shock at beheading of Nigerian couple.',\n",
       " 'May 5, 2022.',\n",
       " 'Guinea junta to try ex-president for murder.',\n",
       " 'May 5, 2022.',\n",
       " 'UN chief to meet ex-Boko Haram militants in Nigeria.',\n",
       " 'May 4, 2022.',\n",
       " 'Kenya’s president asks his deputy to quit.',\n",
       " 'May 3, 2022.',\n",
       " 'Weather students die in crash after tornado chase.',\n",
       " 'May 2, 2022.',\n",
       " 'Lifestyle.',\n",
       " 'St Bakhita Catholic Church youth fetes 32 under I CARE Project.',\n",
       " 'May 4, 2022.',\n",
       " 'E/R: Girls strongly urged to advance skills in ICT.',\n",
       " 'April 29, 2022.',\n",
       " 'Entertainment.',\n",
       " 'Camidoh breaks records with ‘Sugarcane’ remix ft King Promise, Mayorkun,.',\n",
       " 'May 6, 2022.',\n",
       " 'Camidoh joins the latest artists to break the ceiling in the international music market.',\n",
       " 'Starting his big win as Nigeria’s Apple Music No.',\n",
       " 'Therapy: Stonebwoy drops first single with Universal Music Group’s Def Jam.',\n",
       " 'May 5, 2022.',\n",
       " 'Empress Gifty evokes memories with stunning entry at TREC22 .',\n",
       " 'May 5, 2022.',\n",
       " 'Too many technical errors, I had to leave – Mr Drew.',\n",
       " 'May 5, 2022.',\n",
       " 'Mzvee announces marriage & family plans.',\n",
       " 'May 5, 2022.',\n",
       " 'Tilapia.',\n",
       " 'Cartoon] Resurrection and Life: E-levy promise to the economy!',\n",
       " 'April 18, 2022.',\n",
       " 'Cartoon] Easter in Darkness: ‘Pontius ECG’ washes hands from dumsor blame.',\n",
       " 'April 14, 2022.',\n",
       " 'Cartoon] ‘Kwaku The Traveler’ back in the sky after e-levy passed!',\n",
       " 'April 5, 2022.',\n",
       " 'Recent News.',\n",
       " 'Camidoh breaks records with ‘Sugarcane’ remix ft King Promise, Mayorkun, Darkoo.',\n",
       " 'May 6, 2022.',\n",
       " 'You spoke too early on NDC’s plan to repeal e-levy – Mahama told.',\n",
       " 'May 6, 2022.',\n",
       " 'JuniorSharks-Services JHS disconnect Sharks Dream of La Wireless.',\n",
       " 'May 6, 2022.',\n",
       " 'Shortage of diesel looming in Ghana due to Russia-Ukraine war – IES.',\n",
       " 'May 6, 2022.',\n",
       " 'Repealing e-levy will depend on Parliament, not Executive – Jantuah tells Mahama.',\n",
       " 'May 6, 2022.',\n",
       " 'Rainstorm approaching Ghana – Meteo warns fishers.',\n",
       " 'May 6, 2022.',\n",
       " 'T’di: Self-styled mallam jailed 5yrs for swindling businesswoman of $10K.',\n",
       " 'May 6, 2022.',\n",
       " 'Corrupt people hate transparency – Bawumia.',\n",
       " 'May 5, 2022.',\n",
       " 'Ghana doesn’t need more than 9 Supreme Court Justices – Kwabena Agyapong.',\n",
       " 'May 5, 2022.',\n",
       " 'I don’t think Ghana needs a new Constitution – Kwabena Agyapong.',\n",
       " 'May 5, 2022.',\n",
       " 'About.',\n",
       " 'Media General.',\n",
       " 'Contact us.',\n",
       " 'Advertise With Us.',\n",
       " 'Terms of Use.',\n",
       " 'Privacy Policy.',\n",
       " 'TV / Radio.',\n",
       " 'TV3.',\n",
       " 'OnuaTV.',\n",
       " 'Onua Fm 95.',\n",
       " 'Connect Fm 97.',\n",
       " 'Akoma Fm 87.',\n",
       " 'Social Links.',\n",
       " 'Facebook: TV3  | OnuaTv  | 3Fm  | OnuaFm| Connect Fm  | Akoma Fm.',\n",
       " 'Twitter: TV3  | OnuaTv  | 3Fm  | OnuaFm| Connect Fm  | Akoma Fm.',\n",
       " 'Instagram: TV3  | OnuaTv  | 3Fm  | OnuaFm| Connect Fm  | Akoma Fm.',\n",
       " 'YouTube: TV3  | OnuaTv.',\n",
       " 'ABOUT US.',\n",
       " 'Ghana.',\n",
       " 'Get all breaking news updates, latest news headlines, local and world stories, showbiz, lifestyle etc.',\n",
       " 'FOLLOW US.',\n",
       " 'Media General - Developed and managed by MG Digital.']"
      ]
     },
     "execution_count": 239,
     "metadata": {},
     "output_type": "execute_result"
    }
   ],
   "source": [
    "new_list"
   ]
  },
  {
   "cell_type": "code",
   "execution_count": 240,
   "id": "55504d76-ed80-42e9-bcae-2eb2e3b4f024",
   "metadata": {},
   "outputs": [
    {
     "name": "stdout",
     "output_type": "stream",
     "text": [
      "['Bullion Van Robbery: Police intelligence leading to the death of 2 suspects disastrous.', 'Bullion Van Robbery: Police intelligence leading to the death of 2 suspects disastrous.', 'Court remands 3 suspects for the.']\n"
     ]
    }
   ],
   "source": [
    "matches = []\n",
    "#('arm','weapon', 'shot', 'police', 'military', 'drugs', 'suspect')\n",
    "for match in new_list:\n",
    "    if \"arm\" in match:\n",
    "        matches.append(match)\n",
    "    if \"weapon\" in match:\n",
    "        matches.append(match)\n",
    "    if \"shot\" in match:\n",
    "        matches.append(match)\n",
    "    if \"police\" in match:\n",
    "        matches.append(match)\n",
    "    if \"military\" in match:\n",
    "        matches.append(match)\n",
    "    if \"drugs\" in match:\n",
    "        matches.append(match)\n",
    "    if \"suspects\" in match:\n",
    "        matches.append(match)\n",
    "    if \"Arm\" in match:\n",
    "        matches.append(match)\n",
    "    if \"Weapon\" in match:\n",
    "        matches.append(match)\n",
    "    if \"Shot\" in match:\n",
    "        matches.append(match)\n",
    "    if \"Police\" in match:\n",
    "        matches.append(match)\n",
    "    if \"Military\" in match:\n",
    "        matches.append(match)\n",
    "    if \"Drugs\" in match:\n",
    "        matches.append(match)\n",
    "    if \"Kill\" in match:\n",
    "        matches.append(match)\n",
    "    if \"Cannabis\" in match:\n",
    "        matches.append(match)\n",
    "    if \"connnabis\" in match:\n",
    "        matches.append(match)\n",
    "    if \"Cocaine\" in match:\n",
    "        matches.append(match)\n",
    "    if \"cocaine\" in match:\n",
    "        matches.append(match)\n",
    "    if \"weed\" in match:\n",
    "        matches.append(match)\n",
    "print(matches)\n",
    "#kill"
   ]
  },
  {
   "cell_type": "code",
   "execution_count": 241,
   "id": "983c5487-e0bc-42e9-8af3-6140a16db39e",
   "metadata": {},
   "outputs": [],
   "source": [
    "new_ = [s.replace(\",\", \"\") for s in matches]\n",
    "new_l = [s.replace(\".\", \"\") for s in new_]\n",
    "new_li = [s.replace(\"–\", \"\") for s in new_l]\n",
    "new_lis = [s.replace(\"?\", \"\") for s in new_li]\n",
    "new_list = [s.replace(\":\", \"\") for s in new_lis]\n",
    "new_lists = [s.replace(\";\", \"\") for s in new_list]"
   ]
  },
  {
   "cell_type": "code",
   "execution_count": 242,
   "id": "c6824910-6793-438c-9316-7f15958186c9",
   "metadata": {},
   "outputs": [
    {
     "data": {
      "text/plain": [
       "3"
      ]
     },
     "execution_count": 242,
     "metadata": {},
     "output_type": "execute_result"
    }
   ],
   "source": [
    "len(new_lists)"
   ]
  },
  {
   "cell_type": "code",
   "execution_count": 243,
   "id": "c4cee41d-09e1-4a2b-bef3-37d825084b1d",
   "metadata": {},
   "outputs": [
    {
     "data": {
      "text/plain": [
       "['Bullion Van Robbery Police intelligence leading to the death of 2 suspects disastrous',\n",
       " 'Bullion Van Robbery Police intelligence leading to the death of 2 suspects disastrous',\n",
       " 'Court remands 3 suspects for the']"
      ]
     },
     "execution_count": 243,
     "metadata": {},
     "output_type": "execute_result"
    }
   ],
   "source": [
    "new_lists"
   ]
  },
  {
   "cell_type": "code",
   "execution_count": null,
   "id": "fe79da7c-3adb-4bb0-9a80-6f68901b76ce",
   "metadata": {},
   "outputs": [],
   "source": []
  },
  {
   "cell_type": "code",
   "execution_count": 244,
   "id": "fda7a445-50c5-4869-89c1-33ec000d224f",
   "metadata": {},
   "outputs": [],
   "source": [
    "urls = new_lists\n"
   ]
  },
  {
   "cell_type": "code",
   "execution_count": 245,
   "id": "764436d4-515b-4f94-bcb7-2822acc1ea5f",
   "metadata": {},
   "outputs": [
    {
     "data": {
      "text/plain": [
       "list"
      ]
     },
     "execution_count": 245,
     "metadata": {},
     "output_type": "execute_result"
    }
   ],
   "source": [
    "type(urls)"
   ]
  },
  {
   "cell_type": "code",
   "execution_count": 246,
   "id": "dc60ee1c-b5db-4983-8840-fb0eed5edf99",
   "metadata": {},
   "outputs": [],
   "source": [
    "col1 = \"topics\""
   ]
  },
  {
   "cell_type": "code",
   "execution_count": 247,
   "id": "fdcffbb7-d3dc-4e4b-bdd7-6ae7a3ada6a3",
   "metadata": {},
   "outputs": [],
   "source": [
    "data = pd.DataFrame({col1:urls})"
   ]
  },
  {
   "cell_type": "code",
   "execution_count": 248,
   "id": "6ce428c9-9d46-46ef-9fce-1028381cfd43",
   "metadata": {},
   "outputs": [],
   "source": [
    "today = (datetime.today().strftime('%Y-%m-%d'),'3news')"
   ]
  },
  {
   "cell_type": "code",
   "execution_count": 249,
   "id": "67c9185c-20a1-4dad-9644-da1cc3fae3c4",
   "metadata": {},
   "outputs": [],
   "source": [
    "# Use str.join() to convert tuple to string.\n",
    "today = ''.join(today)\n"
   ]
  },
  {
   "cell_type": "code",
   "execution_count": 250,
   "id": "5172e9c8-e4cb-4058-8faa-23a3baaaa713",
   "metadata": {},
   "outputs": [],
   "source": [
    "with pd.ExcelWriter(\"C:\\\\Users\\\\kofi\\\\Desktop\\\\selenium.xlsx\", engine=\"openpyxl\", mode=\"a\") as writer:\n",
    "    data.to_excel(writer, sheet_name=today, startrow=0, startcol=0)"
   ]
  },
  {
   "cell_type": "code",
   "execution_count": null,
   "id": "a093b2c9-6f0b-437f-a000-48262c4dcd8d",
   "metadata": {},
   "outputs": [],
   "source": []
  },
  {
   "cell_type": "markdown",
   "id": "bacd0e8b-bc65-485e-a793-a51435bca572",
   "metadata": {},
   "source": [
    "## Ghanaweb"
   ]
  },
  {
   "cell_type": "code",
   "execution_count": null,
   "id": "5d80c4cd-4c70-4b4d-a33c-f7e1201a0c1e",
   "metadata": {},
   "outputs": [],
   "source": []
  },
  {
   "cell_type": "code",
   "execution_count": 251,
   "id": "535efe15-cd7a-458e-b22b-202a29ea7cf6",
   "metadata": {},
   "outputs": [
    {
     "name": "stdout",
     "output_type": "stream",
     "text": [
      "did not finish loading\n"
     ]
    }
   ],
   "source": [
    "try:\n",
    "    \n",
    "    driver.get(\"https://www.ghanaweb.com/\")    \n",
    "    time.sleep(30)   \n",
    "except Exception:\n",
    "    pass\n",
    "print('did not finish loading')"
   ]
  },
  {
   "cell_type": "code",
   "execution_count": 252,
   "id": "6ff75659-b292-4456-85fd-8f4ee7531f86",
   "metadata": {},
   "outputs": [
    {
     "name": "stderr",
     "output_type": "stream",
     "text": [
      "C:\\Users\\kofi\\AppData\\Local\\Temp/ipykernel_17312/1622795889.py:1: DeprecationWarning: find_element_by_xpath is deprecated. Please use find_element(by=By.XPATH, value=xpath) instead\n",
      "  i = driver.find_element_by_xpath(\"(//body)[1]\")\n"
     ]
    }
   ],
   "source": [
    "i = driver.find_element_by_xpath(\"(//body)[1]\")\n",
    " #(//div)[39]\n",
    "    #(//div[@class='jeg_viewport'])[1]"
   ]
  },
  {
   "cell_type": "code",
   "execution_count": 253,
   "id": "98697e07-6343-42f7-ab3e-30d37b531793",
   "metadata": {},
   "outputs": [],
   "source": [
    "k = i.text"
   ]
  },
  {
   "cell_type": "code",
   "execution_count": 254,
   "id": "9b509470-6d94-4d7e-8f0a-737974302f7e",
   "metadata": {},
   "outputs": [],
   "source": [
    "rep = k.replace(\"\\n\", \". \")"
   ]
  },
  {
   "cell_type": "code",
   "execution_count": 255,
   "id": "691e5a9e-df2d-4d2f-b4b2-49e9715afc96",
   "metadata": {},
   "outputs": [],
   "source": [
    "import re\n",
    "expression = re.compile(r'([A-Z][^\\.!?]*[\\.!?])')\n",
    "new_list = re.findall(expression, rep)"
   ]
  },
  {
   "cell_type": "code",
   "execution_count": 256,
   "id": "35f6f256-b69f-49e4-a7bc-5a9e5a2f30ab",
   "metadata": {},
   "outputs": [
    {
     "data": {
      "text/plain": [
       "['Youtube Icon Facebook Icon Twitter Icon.',\n",
       " 'Sign up.',\n",
       " 'Login.',\n",
       " 'You are here: Home.',\n",
       " 'News.',\n",
       " 'Sports.',\n",
       " 'Business.',\n",
       " 'Entertainment.',\n",
       " 'Africa.',\n",
       " 'GhanaWeb TV.',\n",
       " 'Wall.',\n",
       " 'Country.',\n",
       " 'You have no authority to install a chief at Esumeja - Dormaahene tackles Otumfuo again.',\n",
       " 'Bob Marley’s son, Rohan Marley reacts to Black Sherif’s ‘Kwaku the Traveler’.',\n",
       " 'Why are Ghanaian snacks so hard to find?',\n",
       " 'E-levy: John Kumah denies MoMo rejection arrest.',\n",
       " 'Profile of Jordan Ayew: Check out photos of the beautiful wife and kids of Ghana striker.',\n",
       " 'Videos.',\n",
       " \"Advise your son' - Dormaahene tells Queen Mother of Manhyia.\",\n",
       " \"Paulinho approves Abdul Fatawu Issahaku's fashion sense.\",\n",
       " \"Abena Moet's husband dismisses divorce rumours.\",\n",
       " \"Akufo-Addo's full speech for 2022 May Day celebrations.\",\n",
       " 'Wall.',\n",
       " 'MEMBER.',\n",
       " 'Angela.',\n",
       " 'OPINIONS.',\n",
       " 'Why Are Ghanaian Snacks So Har.',\n",
       " 'May, 2022.',\n",
       " 'OPINIONS.',\n",
       " 'Stakeholders In The Law Regime.',\n",
       " 'May, 2022.',\n",
       " 'SAY IT OUT LOUD.',\n",
       " 'Thank You Crs And Pm Trudeau.',\n",
       " 'May, 2022.',\n",
       " 'OPINIONS.',\n",
       " \"The 'parental Right' Bill And.\",\n",
       " 'May, 2022.',\n",
       " 'MEMBER.',\n",
       " 'Albert.',\n",
       " 'OPINIONS.',\n",
       " 'Kyeiwaa, The E-levy Judgement.',\n",
       " 'May, 2022.',\n",
       " 'OPINIONS.',\n",
       " 'The Badu Bonso Dynasty And The.',\n",
       " 'May, 2022.',\n",
       " 'Resources.',\n",
       " 'A.',\n",
       " 'Abroad, Ghanaians.',\n",
       " 'AFCON.',\n",
       " 'African News.',\n",
       " 'Articles, feature.',\n",
       " 'Athletes.',\n",
       " 'Athletics.',\n",
       " 'B.',\n",
       " 'BBC Hausa News.',\n",
       " 'BBC Pidgin News.',\n",
       " 'BBC Podcasts.',\n",
       " 'BizTech – TV.',\n",
       " \"Bloggers' Forum – TV.\",\n",
       " 'Business & Economy.',\n",
       " 'Business Directory.',\n",
       " 'C.',\n",
       " 'Cities.',\n",
       " 'Consumerpanel.',\n",
       " 'Coronavirus.',\n",
       " 'Country Information.',\n",
       " 'Crime News.',\n",
       " 'D.',\n",
       " 'Dating.',\n",
       " 'Dictionary, Ghanaian.',\n",
       " 'Discussions.',\n",
       " 'Driving Test.',\n",
       " 'E.',\n",
       " 'Editorial News.',\n",
       " 'Education.',\n",
       " 'Elections 2020.',\n",
       " 'Entertainers.',\n",
       " 'Entertainment.',\n",
       " 'Eyes On The Ground – TV.',\n",
       " 'F.',\n",
       " 'FAQ.',\n",
       " 'Features Archive.',\n",
       " 'Friday Debate – TV.',\n",
       " 'G.',\n",
       " 'GhanaWeb TV.',\n",
       " 'H.',\n",
       " 'Health News.',\n",
       " 'History.',\n",
       " 'Hospitals.',\n",
       " 'L.',\n",
       " 'Languages.',\n",
       " 'Lifestyle.',\n",
       " 'The Lowdown – TV.',\n",
       " 'M.',\n",
       " 'Maps of Ghana.',\n",
       " 'Member Section (The Wall).',\n",
       " 'Memorial President Mills.',\n",
       " 'Mobile website.',\n",
       " 'Music.',\n",
       " 'Musicians.',\n",
       " 'N.',\n",
       " 'Entertainment News 1995 – now.',\n",
       " 'General News 1995 – now.',\n",
       " 'Sports News 1995 – now.',\n",
       " 'O.',\n",
       " 'Opinions.',\n",
       " 'P.',\n",
       " 'People & Places – TV.',\n",
       " 'People, famous.',\n",
       " 'Photo Gallery.',\n",
       " 'Political News.',\n",
       " 'Politicians.',\n",
       " 'Polls / survey.',\n",
       " 'President.',\n",
       " 'R.',\n",
       " 'Radio (100+ stations).',\n",
       " 'Regional News.',\n",
       " 'Religion.',\n",
       " 'S.',\n",
       " 'Say It Loud – TV.',\n",
       " 'Say It Loud (Discussions).',\n",
       " 'Sports Check – TV.',\n",
       " 'Sports Section.',\n",
       " 'Stock Exchange.',\n",
       " 'T.',\n",
       " 'TWI News – TV.',\n",
       " 'Tabloid News.',\n",
       " 'Talkertainment – TV.',\n",
       " 'Telephone Directory.',\n",
       " 'V.',\n",
       " 'Videos Music.',\n",
       " 'Y.',\n",
       " 'Last Year in Review.',\n",
       " 'Your Photos.',\n",
       " 'Push to downsize Uganda parliament.',\n",
       " 'About Us.',\n",
       " 'Advertising.',\n",
       " 'FAQ.',\n",
       " 'Sitemap.',\n",
       " 'Privacy Policy.',\n",
       " 'Copyright © 1994 - 2022 GhanaWeb.',\n",
       " 'All rights reserved.']"
      ]
     },
     "execution_count": 256,
     "metadata": {},
     "output_type": "execute_result"
    }
   ],
   "source": [
    "new_list"
   ]
  },
  {
   "cell_type": "code",
   "execution_count": 257,
   "id": "6af28b9a-e7e1-490b-ac09-52329cd13e8c",
   "metadata": {},
   "outputs": [
    {
     "name": "stdout",
     "output_type": "stream",
     "text": [
      "[]\n"
     ]
    }
   ],
   "source": [
    "matches = []\n",
    "#('arm','weapon', 'shot', 'police', 'military', 'drugs', 'suspect')\n",
    "for match in new_list:\n",
    "    if \"arm\" in match:\n",
    "        matches.append(match)\n",
    "    if \"weapon\" in match:\n",
    "        matches.append(match)\n",
    "    if \"shot\" in match:\n",
    "        matches.append(match)\n",
    "    if \"police\" in match:\n",
    "        matches.append(match)\n",
    "    if \"military\" in match:\n",
    "        matches.append(match)\n",
    "    if \"drugs\" in match:\n",
    "        matches.append(match)\n",
    "    if \"suspects\" in match:\n",
    "        matches.append(match)\n",
    "    if \"Arm\" in match:\n",
    "        matches.append(match)\n",
    "    if \"Weapon\" in match:\n",
    "        matches.append(match)\n",
    "    if \"Shot\" in match:\n",
    "        matches.append(match)\n",
    "    if \"Police\" in match:\n",
    "        matches.append(match)\n",
    "    if \"Military\" in match:\n",
    "        matches.append(match)\n",
    "    if \"Drugs\" in match:\n",
    "        matches.append(match)\n",
    "    if \"Kill\" in match:\n",
    "        matches.append(match)\n",
    "    if \"Cannabis\" in match:\n",
    "        matches.append(match)\n",
    "    if \"connnabis\" in match:\n",
    "        matches.append(match)\n",
    "    if \"Cocaine\" in match:\n",
    "        matches.append(match)\n",
    "    if \"cocaine\" in match:\n",
    "        matches.append(match)\n",
    "    if \"weed\" in match:\n",
    "        matches.append(match)\n",
    "print(matches)\n",
    "#kill"
   ]
  },
  {
   "cell_type": "code",
   "execution_count": 258,
   "id": "e5a3a731-c727-4205-a4fa-6b248a0d86a2",
   "metadata": {},
   "outputs": [],
   "source": [
    "new_ = [s.replace(\",\", \"\") for s in matches]\n",
    "new_l = [s.replace(\".\", \"\") for s in new_]\n",
    "new_li = [s.replace(\"–\", \"\") for s in new_l]\n",
    "new_lis = [s.replace(\"?\", \"\") for s in new_li]\n",
    "new_list = [s.replace(\":\", \"\") for s in new_lis]\n",
    "new_lists = [s.replace(\";\", \"\") for s in new_list]"
   ]
  },
  {
   "cell_type": "code",
   "execution_count": 259,
   "id": "0bc55920-db56-42e6-8973-ead8e66a09bd",
   "metadata": {},
   "outputs": [
    {
     "data": {
      "text/plain": [
       "0"
      ]
     },
     "execution_count": 259,
     "metadata": {},
     "output_type": "execute_result"
    }
   ],
   "source": [
    "len(new_lists)"
   ]
  },
  {
   "cell_type": "code",
   "execution_count": 260,
   "id": "7eb1acbd-894c-4333-92a2-45b772eeba59",
   "metadata": {},
   "outputs": [
    {
     "data": {
      "text/plain": [
       "[]"
      ]
     },
     "execution_count": 260,
     "metadata": {},
     "output_type": "execute_result"
    }
   ],
   "source": [
    "new_lists"
   ]
  },
  {
   "cell_type": "code",
   "execution_count": null,
   "id": "da609a09-adfb-464b-908d-0d250a718675",
   "metadata": {},
   "outputs": [],
   "source": []
  },
  {
   "cell_type": "code",
   "execution_count": 261,
   "id": "1cd3c2c5-b54c-4d5c-8ac8-243a46bb3e87",
   "metadata": {},
   "outputs": [],
   "source": [
    "urls = new_lists\n"
   ]
  },
  {
   "cell_type": "code",
   "execution_count": 262,
   "id": "b3c4dad0-45a2-49e3-aae3-c34d89b94769",
   "metadata": {},
   "outputs": [
    {
     "data": {
      "text/plain": [
       "list"
      ]
     },
     "execution_count": 262,
     "metadata": {},
     "output_type": "execute_result"
    }
   ],
   "source": [
    "type(urls)"
   ]
  },
  {
   "cell_type": "code",
   "execution_count": 263,
   "id": "2fc3f1a4-70f0-4375-851c-bd2f8c69f6c1",
   "metadata": {},
   "outputs": [],
   "source": [
    "col1 = \"topics\""
   ]
  },
  {
   "cell_type": "code",
   "execution_count": 264,
   "id": "79457aa4-68f5-4789-96e1-b2cd280064b2",
   "metadata": {},
   "outputs": [],
   "source": [
    "data = pd.DataFrame({col1:urls})"
   ]
  },
  {
   "cell_type": "code",
   "execution_count": 265,
   "id": "bf6b58b8-d8c6-4fe1-9c64-0634c7db9a50",
   "metadata": {},
   "outputs": [],
   "source": [
    "today = (datetime.today().strftime('%Y-%m-%d'),'ghanaweb')"
   ]
  },
  {
   "cell_type": "code",
   "execution_count": 266,
   "id": "e6565ae5-6cd6-44f2-9e3f-f57c3ffc15e9",
   "metadata": {},
   "outputs": [],
   "source": [
    "# Use str.join() to convert tuple to string.\n",
    "today = ''.join(today)\n"
   ]
  },
  {
   "cell_type": "code",
   "execution_count": 267,
   "id": "52a87f03-cd24-4d49-abc0-7974b4f39f7b",
   "metadata": {},
   "outputs": [],
   "source": [
    "with pd.ExcelWriter(\"C:\\\\Users\\\\kofi\\\\Desktop\\\\selenium.xlsx\", engine=\"openpyxl\", mode=\"a\") as writer:\n",
    "    data.to_excel(writer, sheet_name=today, startrow=0, startcol=0)"
   ]
  },
  {
   "cell_type": "code",
   "execution_count": null,
   "id": "ab485904-4986-4495-b322-b280bfa658ac",
   "metadata": {},
   "outputs": [],
   "source": []
  },
  {
   "cell_type": "markdown",
   "id": "031e5d81-abd8-48c6-8573-e151cde450e0",
   "metadata": {},
   "source": [
    "## modernghana"
   ]
  },
  {
   "cell_type": "code",
   "execution_count": null,
   "id": "ab531598-13e2-4699-bc0b-9b17bfb65f59",
   "metadata": {},
   "outputs": [],
   "source": []
  },
  {
   "cell_type": "code",
   "execution_count": 268,
   "id": "3e648770-c38d-4351-82e6-d876d5529973",
   "metadata": {},
   "outputs": [
    {
     "name": "stdout",
     "output_type": "stream",
     "text": [
      "did not finish loading\n"
     ]
    }
   ],
   "source": [
    "try:\n",
    "    \n",
    "    driver.get(\"https://www.modernghana.com/\")    \n",
    "    time.sleep(30)   \n",
    "except Exception:\n",
    "    pass\n",
    "print('did not finish loading')"
   ]
  },
  {
   "cell_type": "code",
   "execution_count": 269,
   "id": "d79ae76b-d278-4e1c-be70-37aba94ca4bd",
   "metadata": {},
   "outputs": [
    {
     "name": "stderr",
     "output_type": "stream",
     "text": [
      "C:\\Users\\kofi\\AppData\\Local\\Temp/ipykernel_17312/1622795889.py:1: DeprecationWarning: find_element_by_xpath is deprecated. Please use find_element(by=By.XPATH, value=xpath) instead\n",
      "  i = driver.find_element_by_xpath(\"(//body)[1]\")\n"
     ]
    }
   ],
   "source": [
    "i = driver.find_element_by_xpath(\"(//body)[1]\")\n",
    " #(//div)[39]\n",
    "    #(//div[@class='jeg_viewport'])[1]"
   ]
  },
  {
   "cell_type": "code",
   "execution_count": 270,
   "id": "9b5a13af-f712-460a-b6a2-2c10e37c3f16",
   "metadata": {},
   "outputs": [],
   "source": [
    "k = i.text"
   ]
  },
  {
   "cell_type": "code",
   "execution_count": 271,
   "id": "a5e1139e-0152-4eeb-a458-6efd785dd0ef",
   "metadata": {},
   "outputs": [],
   "source": [
    "rep = k.replace(\"\\n\", \". \")"
   ]
  },
  {
   "cell_type": "code",
   "execution_count": 272,
   "id": "55f111af-4f25-4030-b99e-f10ddfaf6d42",
   "metadata": {},
   "outputs": [],
   "source": [
    "import re\n",
    "expression = re.compile(r'([A-Z][^\\.!?]*[\\.!?])')\n",
    "new_list = re.findall(expression, rep)"
   ]
  },
  {
   "cell_type": "code",
   "execution_count": 273,
   "id": "1cdf8b2b-e224-4ac6-bd34-46300c8eef9d",
   "metadata": {},
   "outputs": [
    {
     "data": {
      "text/plain": [
       "['Home.',\n",
       " 'Radio.',\n",
       " 'Podcasts.',\n",
       " \"TV's.\",\n",
       " 'Videos.',\n",
       " 'Movies.',\n",
       " 'Advertise.',\n",
       " 'Ghana.',\n",
       " 'Contact.',\n",
       " 'Login.',\n",
       " 'FEATURED: Why Africa Prints Money In Europe.',\n",
       " 'NEWS.',\n",
       " 'SPORTS.',\n",
       " 'BUSINESS.',\n",
       " 'AFRICA.',\n",
       " 'WORLD.',\n",
       " 'OPINIONS.',\n",
       " 'POLITICS.',\n",
       " 'LIFESTYLE.',\n",
       " 'ENTERTAINMENT.',\n",
       " 'DIASPORA.',\n",
       " 'HEALTH.',\n",
       " 'REAL ESTATE.',\n",
       " 'MEDIA.',\n",
       " 'MEMBERS.',\n",
       " 'Archive AFCON 2021 Headlines Dossiers Photo Reports Popular Stories Hot Stories.',\n",
       " 'OnAIR.',\n",
       " 'Search.',\n",
       " 'Kwabenya under 12-hour curfew for three days.',\n",
       " 'HOURS AGO HEADLINES 1.',\n",
       " 'Nkroful Youth arrested.',\n",
       " 'MINUTES AGO SOCIAL NEWS.',\n",
       " \"I prefer being an 'embarr.\",\n",
       " 'MINUTES AGO NPP NEWS.',\n",
       " 'Repealing e-levy will dep.',\n",
       " 'MINUTES AGO SOCIAL NEWS.',\n",
       " 'Mahama spoke too soon on .',\n",
       " 'HOUR AGO HEADLINES.',\n",
       " 'Hottest Photo Reports.',\n",
       " 'Catch up with all the political quotes from our politicians.',\n",
       " 'HEADLINES.',\n",
       " 'There is effective public service delivery in Ministries thanks to digitisation initiatives - Bawumia.',\n",
       " 'HEADLINES.',\n",
       " 'Read Supreme Court’s reasons for dismissing injunction application against E-levy [Full judgement].',\n",
       " 'HEADLINES.',\n",
       " 'Passport office generated over ¢56million in 2021 from 498,000 online applications — Bawumia.',\n",
       " 'HEADLINES.',\n",
       " 'OPINIONS.',\n",
       " 'Socialism Or Barbarism – The Masses Of Sri Lanka Are On The March.',\n",
       " 'Antjie Krog and the role of the poet in South Afri.',\n",
       " \"What's driving hunger in Gauteng, South Africa's e.\",\n",
       " 'Enablers of political extremism: a checklist for W.',\n",
       " 'Mining sector: Is Ghana fully behind its national .',\n",
       " 'MORE.',\n",
       " 'POLITICS.',\n",
       " 'Bawumia hated taxes in opposition but now heaping them on Ghanaians – .',\n",
       " \"Minority's e-levy case 'bundle of speculations' – .\",\n",
       " 'NPP Elections: Emmanuel Safo Agyepong elected 1st .',\n",
       " 'I will recapture Agona East Parliamentary seat for.',\n",
       " \"Ghana's press freedom dip due to change in ranking.\",\n",
       " 'MORE.',\n",
       " 'AFRICA.',\n",
       " 'When a Rwandan school became a killing field.',\n",
       " 'RWANDA.',\n",
       " 'Jacobs makes 100m return in stellar Nairobi sprint field.',\n",
       " 'AFRICA.',\n",
       " 'S.',\n",
       " \"Africa's daily Covid cases soar 50% in one day amid new surge.\",\n",
       " 'SOUTH AFRICA.',\n",
       " 'SPORTS.',\n",
       " 'Mohammed Salisu set for Black Stars call up after meeting GFA boss Kur.',\n",
       " 'Arsenal: Manager Mikel Arteta signs new three-year.',\n",
       " 'CAF Confederation Cup semifinals: Five things to k.',\n",
       " 'Saah Ladies win ampe competition at 2022 Aboakyer .',\n",
       " 'Premier League: Preview of matchday 36 games.',\n",
       " 'MORE.',\n",
       " 'BUSINESS.',\n",
       " 'ECG resolves smart prepayment challenge.',\n",
       " 'Kejetia flooding: Management sets up seven member .',\n",
       " 'ECG experiences vending challenge with Nuriprepaym.',\n",
       " 'FDA task trade facilitators to comply with the Pub.',\n",
       " 'EJF commends MoFAD on fishing gear directive but w.',\n",
       " 'MORE.',\n",
       " 'ENTERTAINMENT.',\n",
       " 'Gambo adjudged VGMA Unsung Act Of The Year.',\n",
       " 'INDUSTRY NEWS.',\n",
       " 'Musicians can make an average of GH₵200k per hit song—Digital Expert.',\n",
       " 'INDUSTRY NEWS.',\n",
       " 'I want to get married so I can stop fornicating - Tracey Boakye cries out.',\n",
       " 'GENERAL NEWS.',\n",
       " 'Taboola.',\n",
       " 'Sponsored Links.',\n",
       " 'You May Like.',\n",
       " 'Play Now In Your Browser.',\n",
       " 'Hero Wars.',\n",
       " 'Moving to Canada is The best choice for you and your family!',\n",
       " 'Canada Immigration Express.',\n",
       " 'HEALTH.',\n",
       " \"Don't expose babies' eyes to sunlight—Optometric to mothers.\",\n",
       " 'HEALTH.',\n",
       " 'Rebecca Akufo-Addo receives rapid diagnostic test kits for screening pregnant women for HIV.',\n",
       " 'HEALTH.',\n",
       " 'Pregnant mothers warned against taking pills to lighten the skin of unborn babies.',\n",
       " 'HEALTH.',\n",
       " 'WORLD.',\n",
       " 'Armed robbers who attacked Paris Chanel boutique still at large.',\n",
       " 'French Socialists ratify deal for united left-wing.',\n",
       " 'Cocaine consumption rising rapidly in France as pr.',\n",
       " 'Marseille botch chance to reach Europa Conference .',\n",
       " \"France pledges €2bn for Ukraine's resistance again.\",\n",
       " 'MORE.',\n",
       " 'LIFESTYLE.',\n",
       " 'Impact of Stress on Diabetes: Cause, Effects and Ways to Cope.',\n",
       " 'Facing Pain and Difficulties in Swallowing?',\n",
       " 'Check .',\n",
       " 'GIJ Fresh Student Wins Outstanding Sports Presente.',\n",
       " \"When there's a Breakup (Part 2).\",\n",
       " \"Don't Give Your Children Access To Smartphone If T.\",\n",
       " 'MORE.',\n",
       " 'VIDEO NEWS.',\n",
       " 'Why UK local elections heap further pressure on embattled Prime Minister Boris Johnson ?',\n",
       " 'Philippines election: VP Leni Robredo and the ‘Pink Wave’ I Al Jazeera Newsfeed.',\n",
       " 'Russia pounds Donetsk, Luhansk; at least 21 killed.',\n",
       " 'Modern Ghana Photo Reports.',\n",
       " 'PHOTO GALLERY.',\n",
       " 'Previous.',\n",
       " 'Next.',\n",
       " 'Taboola.',\n",
       " 'Sponsored Links.',\n",
       " 'You May Like.',\n",
       " 'How would you react if your country got attacked?',\n",
       " 'This game simulates geopolitical conflicts.',\n",
       " 'Conflict of Nations.',\n",
       " 'Residents of Ghana Might Get a US Visa Easily .',\n",
       " 'US Visa | Search.',\n",
       " 'NEWS.',\n",
       " 'News.',\n",
       " 'Education.',\n",
       " 'Crime/Punishment.',\n",
       " 'Social Affairs.',\n",
       " 'Press Releases.',\n",
       " 'Regional News.',\n",
       " 'Health News.',\n",
       " 'SPORTS.',\n",
       " 'Sports.',\n",
       " 'Football News.',\n",
       " 'League News.',\n",
       " 'Boxing News.',\n",
       " 'League Table.',\n",
       " 'League Results.',\n",
       " 'Cup Of Nations.',\n",
       " 'POLITICS.',\n",
       " 'Politics.',\n",
       " 'Elections.',\n",
       " 'CPP News.',\n",
       " 'NPP News.',\n",
       " 'NDC News.',\n",
       " 'PNC News.',\n",
       " 'PPP News.',\n",
       " 'DIASPORA.',\n",
       " 'Diaspora.',\n",
       " 'UK & Ireland.',\n",
       " 'United States.',\n",
       " 'Canada.',\n",
       " 'Germany.',\n",
       " 'Switzerland.',\n",
       " 'Netherlands.',\n",
       " 'REAL ESTATE.',\n",
       " 'Homes For Sale.',\n",
       " 'Uncompleted Houses.',\n",
       " 'Bargain Houses.',\n",
       " 'Luxury Houses.',\n",
       " 'House For Rent.',\n",
       " 'Unserviced Plots.',\n",
       " 'Serviced Plots.',\n",
       " 'ENTERTAINMENT.',\n",
       " 'Entertainment.',\n",
       " 'Nollywood.',\n",
       " 'Online TV.',\n",
       " 'Latest Movies.',\n",
       " 'Video News.',\n",
       " 'Video Clips.',\n",
       " 'Photo Gallery.',\n",
       " 'AFRICA.',\n",
       " 'Africa.',\n",
       " 'Nigeria.',\n",
       " 'Egypt.',\n",
       " 'Libya.',\n",
       " 'Congo.',\n",
       " 'Kenya.',\n",
       " 'Ivory Coast.',\n",
       " 'South Africa.',\n",
       " 'OPINIONS.',\n",
       " 'Opinions.',\n",
       " 'Featured Articles.',\n",
       " 'Opinions.',\n",
       " 'Editorial.',\n",
       " 'Critics.',\n",
       " 'Commentaries.',\n",
       " 'Have Your Say.',\n",
       " 'Polls & Surveys.',\n",
       " 'BUSINESS.',\n",
       " 'Business News.',\n",
       " 'Business & Finance.',\n",
       " 'Commodity News.',\n",
       " 'Economy & Investments.',\n",
       " 'Oil and Gas.',\n",
       " 'Real Estate.',\n",
       " 'Business Directory.',\n",
       " 'Business Articles.',\n",
       " 'LIFESTYLE.',\n",
       " 'LifeStyle.',\n",
       " 'Career/Money.',\n",
       " 'Opinions.',\n",
       " 'Beauty & Fashion.',\n",
       " 'Poetry.',\n",
       " 'Relationships.',\n",
       " 'Social Issues.',\n",
       " 'People & Places.',\n",
       " 'HEALTH.',\n",
       " 'Health News.',\n",
       " 'Family & Parenting.',\n",
       " 'Health & Fitness.',\n",
       " 'Home/Food.',\n",
       " 'Men Health.',\n",
       " 'Women Health.',\n",
       " 'Spirituality.',\n",
       " 'MEMBERS.',\n",
       " 'All Profiles.',\n",
       " 'Female Profiles.',\n",
       " 'Male Profiles.',\n",
       " 'Hot Or Not.',\n",
       " 'Home Ghana About us Contact us The Team Advertising Sitemap Partners Terms & Conditions Privacy Policy Change Ad Consent.',\n",
       " 'All trademarks and copyrights on this page are owned by their respective owners.']"
      ]
     },
     "execution_count": 273,
     "metadata": {},
     "output_type": "execute_result"
    }
   ],
   "source": [
    "new_list"
   ]
  },
  {
   "cell_type": "code",
   "execution_count": 274,
   "id": "4e484da7-97b5-4402-9dc5-dd6d10939983",
   "metadata": {},
   "outputs": [
    {
     "name": "stdout",
     "output_type": "stream",
     "text": [
      "['Armed robbers who attacked Paris Chanel boutique still at large.', 'Cocaine consumption rising rapidly in France as pr.']\n"
     ]
    }
   ],
   "source": [
    "matches = []\n",
    "#('arm','weapon', 'shot', 'police', 'military', 'drugs', 'suspect')\n",
    "for match in new_list:\n",
    "    if \"arm\" in match:\n",
    "        matches.append(match)\n",
    "    if \"weapon\" in match:\n",
    "        matches.append(match)\n",
    "    if \"shot\" in match:\n",
    "        matches.append(match)\n",
    "    if \"police\" in match:\n",
    "        matches.append(match)\n",
    "    if \"military\" in match:\n",
    "        matches.append(match)\n",
    "    if \"drugs\" in match:\n",
    "        matches.append(match)\n",
    "    if \"suspects\" in match:\n",
    "        matches.append(match)\n",
    "    if \"Arm\" in match:\n",
    "        matches.append(match)\n",
    "    if \"Weapon\" in match:\n",
    "        matches.append(match)\n",
    "    if \"Shot\" in match:\n",
    "        matches.append(match)\n",
    "    if \"Police\" in match:\n",
    "        matches.append(match)\n",
    "    if \"Military\" in match:\n",
    "        matches.append(match)\n",
    "    if \"Drugs\" in match:\n",
    "        matches.append(match)\n",
    "    if \"Kill\" in match:\n",
    "        matches.append(match)\n",
    "    if \"Cannabis\" in match:\n",
    "        matches.append(match)\n",
    "    if \"connnabis\" in match:\n",
    "        matches.append(match)\n",
    "    if \"Cocaine\" in match:\n",
    "        matches.append(match)\n",
    "    if \"cocaine\" in match:\n",
    "        matches.append(match)\n",
    "    if \"weed\" in match:\n",
    "        matches.append(match)\n",
    "print(matches)\n",
    "#kill"
   ]
  },
  {
   "cell_type": "code",
   "execution_count": 275,
   "id": "4684afba-d20e-44b7-995f-0db71f9ecd44",
   "metadata": {},
   "outputs": [],
   "source": [
    "new_ = [s.replace(\",\", \"\") for s in matches]\n",
    "new_l = [s.replace(\".\", \"\") for s in new_]\n",
    "new_li = [s.replace(\"–\", \"\") for s in new_l]\n",
    "new_lis = [s.replace(\"?\", \"\") for s in new_li]\n",
    "new_list = [s.replace(\":\", \"\") for s in new_lis]\n",
    "new_lists = [s.replace(\";\", \"\") for s in new_list]"
   ]
  },
  {
   "cell_type": "code",
   "execution_count": 276,
   "id": "2b48607a-41f0-4179-ae75-3883e9280b3f",
   "metadata": {},
   "outputs": [
    {
     "data": {
      "text/plain": [
       "2"
      ]
     },
     "execution_count": 276,
     "metadata": {},
     "output_type": "execute_result"
    }
   ],
   "source": [
    "len(new_lists)"
   ]
  },
  {
   "cell_type": "code",
   "execution_count": 277,
   "id": "d92f0626-0390-4619-97f6-c057835954fd",
   "metadata": {},
   "outputs": [
    {
     "data": {
      "text/plain": [
       "['Armed robbers who attacked Paris Chanel boutique still at large',\n",
       " 'Cocaine consumption rising rapidly in France as pr']"
      ]
     },
     "execution_count": 277,
     "metadata": {},
     "output_type": "execute_result"
    }
   ],
   "source": [
    "new_lists"
   ]
  },
  {
   "cell_type": "code",
   "execution_count": null,
   "id": "4970ec17-fb31-46f7-8923-ec4e9e6e0731",
   "metadata": {},
   "outputs": [],
   "source": []
  },
  {
   "cell_type": "code",
   "execution_count": 278,
   "id": "dc093397-9d0e-479b-9794-031de7e39c4f",
   "metadata": {},
   "outputs": [],
   "source": [
    "urls = new_lists\n"
   ]
  },
  {
   "cell_type": "code",
   "execution_count": 279,
   "id": "f0ad60ab-dbe0-4f71-a408-66738a50ce3e",
   "metadata": {},
   "outputs": [
    {
     "data": {
      "text/plain": [
       "list"
      ]
     },
     "execution_count": 279,
     "metadata": {},
     "output_type": "execute_result"
    }
   ],
   "source": [
    "type(urls)"
   ]
  },
  {
   "cell_type": "code",
   "execution_count": 280,
   "id": "4612e3b2-73aa-43d9-bb8d-e4add5156018",
   "metadata": {},
   "outputs": [],
   "source": [
    "col1 = \"topics\""
   ]
  },
  {
   "cell_type": "code",
   "execution_count": 281,
   "id": "a6245195-6449-459d-a140-0bc89b25332f",
   "metadata": {},
   "outputs": [],
   "source": [
    "data = pd.DataFrame({col1:urls})"
   ]
  },
  {
   "cell_type": "code",
   "execution_count": 282,
   "id": "0944635a-2756-4c39-9bce-1fc84903b1df",
   "metadata": {},
   "outputs": [],
   "source": [
    "today = (datetime.today().strftime('%Y-%m-%d'),'modernghana')"
   ]
  },
  {
   "cell_type": "code",
   "execution_count": 283,
   "id": "9878f53f-6419-4085-af35-5439d117ae5c",
   "metadata": {},
   "outputs": [],
   "source": [
    "# Use str.join() to convert tuple to string.\n",
    "today = ''.join(today)\n"
   ]
  },
  {
   "cell_type": "code",
   "execution_count": 284,
   "id": "d2c45767-7889-47c8-93ba-bb3b4c81cef1",
   "metadata": {},
   "outputs": [],
   "source": [
    "with pd.ExcelWriter(\"C:\\\\Users\\\\kofi\\\\Desktop\\\\selenium.xlsx\", engine=\"openpyxl\", mode=\"a\") as writer:\n",
    "    data.to_excel(writer, sheet_name=today, startrow=0, startcol=0)"
   ]
  },
  {
   "cell_type": "code",
   "execution_count": null,
   "id": "41834dcb-78e4-4588-8e53-046f9b0de684",
   "metadata": {},
   "outputs": [],
   "source": []
  },
  {
   "cell_type": "markdown",
   "id": "1c2faaf1-7190-4215-8673-94ec34718f27",
   "metadata": {},
   "source": [
    "## citinews"
   ]
  },
  {
   "cell_type": "code",
   "execution_count": null,
   "id": "957fe668-0e26-4a03-848f-3c7f3c37cf1d",
   "metadata": {},
   "outputs": [],
   "source": []
  },
  {
   "cell_type": "code",
   "execution_count": 285,
   "id": "d51442c4-d8eb-415f-a5d7-7ea050e5d026",
   "metadata": {},
   "outputs": [
    {
     "name": "stdout",
     "output_type": "stream",
     "text": [
      "did not finish loading\n"
     ]
    }
   ],
   "source": [
    "try:\n",
    "    \n",
    "    driver.get(\"https://citinewsroom.com/\")    \n",
    "    time.sleep(30)   \n",
    "except Exception:\n",
    "    pass\n",
    "print('did not finish loading')"
   ]
  },
  {
   "cell_type": "code",
   "execution_count": 286,
   "id": "3c2a858d-af16-41ac-8ad3-e9d07952bcba",
   "metadata": {},
   "outputs": [
    {
     "name": "stderr",
     "output_type": "stream",
     "text": [
      "C:\\Users\\kofi\\AppData\\Local\\Temp/ipykernel_17312/1622795889.py:1: DeprecationWarning: find_element_by_xpath is deprecated. Please use find_element(by=By.XPATH, value=xpath) instead\n",
      "  i = driver.find_element_by_xpath(\"(//body)[1]\")\n"
     ]
    }
   ],
   "source": [
    "i = driver.find_element_by_xpath(\"(//body)[1]\")\n",
    " #(//div)[39]\n",
    "    #(//div[@class='jeg_viewport'])[1]"
   ]
  },
  {
   "cell_type": "code",
   "execution_count": 287,
   "id": "d82c4f18-815b-42fd-be99-7563df94bd78",
   "metadata": {},
   "outputs": [],
   "source": [
    "k = i.text"
   ]
  },
  {
   "cell_type": "code",
   "execution_count": 288,
   "id": "0f7e7a37-7468-4371-bf12-6aa779e0fe60",
   "metadata": {},
   "outputs": [],
   "source": [
    "rep = k.replace(\"\\n\", \". \")"
   ]
  },
  {
   "cell_type": "code",
   "execution_count": 289,
   "id": "40110277-f49e-4af9-8eb1-e8f3b0a4817f",
   "metadata": {},
   "outputs": [],
   "source": [
    "import re\n",
    "expression = re.compile(r'([A-Z][^\\.!?]*[\\.!?])')\n",
    "new_list = re.findall(expression, rep)"
   ]
  },
  {
   "cell_type": "code",
   "execution_count": 290,
   "id": "b34a653f-46ee-4099-9401-40108b29ee1f",
   "metadata": {},
   "outputs": [
    {
     "data": {
      "text/plain": [
       "['About Us.',\n",
       " 'Contact Us.',\n",
       " 'Photo Gallery.',\n",
       " 'Privacy Policy.',\n",
       " 'Terms of Use.',\n",
       " 'Citi TV.',\n",
       " 'Friday, May 6, 2022.',\n",
       " 'Citinewsroom - Comprehensive News in Ghana.',\n",
       " 'HOME.',\n",
       " 'NEWS.',\n",
       " 'BUSINESS.',\n",
       " 'SPORTS.',\n",
       " 'SHOWBIZ.',\n",
       " 'CORONAVIRUS.',\n",
       " 'INFOGRAPHICS.',\n",
       " 'LIVESTREAM.',\n",
       " 'VIDEOS.',\n",
       " 'TOP STORIES.',\n",
       " 'Top three winners of ‘A Portrait of Mama’ promo announced.',\n",
       " 'NEWS.',\n",
       " 'Our digitalisation drive gradually paying off – Bawumia.',\n",
       " 'TOP STORIES.',\n",
       " 'GPRTU to increase fares by 30% on Friday, May 13.',\n",
       " 'TOP STORIES.',\n",
       " 'I had faith; my election victories confirm that with God, all things are possible’ – Nana Addo.',\n",
       " 'SLIDER.',\n",
       " 'Former Fair Wages boss backs moves to review Single Spine Pay Policy.',\n",
       " 'I’m ready to reignite conversations on election of MMDCEs – Nana Addo.',\n",
       " 'APRIL 28, 2022.',\n",
       " 'Democracy has been good for us’ – Nana Addo on 30-yrs of constitutional rule.',\n",
       " 'APRIL 28, 2022.',\n",
       " 'Kwakye Ofosu defends Mahama on promise to scrap E-levy if NDC wins power.',\n",
       " 'MAY 5, 2022.',\n",
       " 'Mahama’s promise to scrap E-levy is a scam – NPP.',\n",
       " 'MAY 4, 2022.',\n",
       " 'We remain resolute despite dismissal of E-levy injunction application – Haruna.',\n",
       " 'MAY 4, 2022.',\n",
       " 'Citi Business Festival Playlist.',\n",
       " 'Entertainment Achievement Awards 2021.',\n",
       " 'CITI BUSINESS FESTIVAL PODCAST.',\n",
       " 'Citi97.',\n",
       " 'Citi Business Festival 2021 on-air series.',\n",
       " 'CNR DIGITAL.',\n",
       " 'FOOTPRINTS ON CITI TV.',\n",
       " 'CITI PODCASTS.',\n",
       " 'AUDIO ON DEMAND.',\n",
       " 'Citi Breakfast Show, Wednesday 4th April 2022.',\n",
       " 'MAY 4, 2022.',\n",
       " 'AUDIO ON DEMAND.',\n",
       " 'Famlife: Causes, Implications and Solutions on Divorce | Saturday, 30th April, 2022.',\n",
       " 'APRIL 30, 2022.',\n",
       " 'AUDIO ON DEMAND.',\n",
       " 'The Big Issue with Duke Mensah Opoku: Saturday, 30th April, 2022.',\n",
       " 'APRIL 30, 2022.',\n",
       " 'AUDIO ON DEMAND.',\n",
       " 'Citi Breakfast Show, Thursday 28th April 2022.',\n",
       " 'APRIL 28, 2022.',\n",
       " 'NEWS.',\n",
       " 'NEWS.',\n",
       " 'Educate Ghanaians on E-Levy deductions to curb panic withdrawals – MoMo association to gov’t.',\n",
       " 'MAY 6, 2022.',\n",
       " 'NEWS.',\n",
       " 'Collaborate with police in fight against crime – Dampare urges Zongo communities.',\n",
       " 'MAY 6, 2022.',\n",
       " 'BREAKING NEWS.',\n",
       " 'Suspect arrested over killing of 8 herdsmen in Zacholi charged with murder.',\n",
       " 'MAY 6, 2022.',\n",
       " 'NEWS.',\n",
       " 'Greater Accra: 5 arrested for engaging in illegal sand winning at Gonsie.',\n",
       " 'MAY 6, 2022.',\n",
       " 'TOP STORIES.',\n",
       " 'Supreme Court’s reasons for dismissing injunction application against E-levy [Full judgement].',\n",
       " 'MAY 6, 2022.',\n",
       " 'EDUCATION.',\n",
       " 'UENR VC appeals for speedy completion of stalled GETFund projects.',\n",
       " 'MAY 5, 2022.',\n",
       " 'NEWS.',\n",
       " 'UDS school of medicine to soon admit some displaced African health students evacuated from Ukraine.',\n",
       " 'MAY 5, 2022.',\n",
       " 'TOP STORIES.',\n",
       " 'CLOGSAG strike biting hard as many seeking gov’t services are left stranded.',\n",
       " 'MAY 5, 2022.',\n",
       " 'GENERAL.',\n",
       " 'GENERAL.',\n",
       " 'Stakeholders call for review of ADR law to include petty offences.',\n",
       " 'MAY 5, 2022.',\n",
       " 'SHOWBIZ.',\n",
       " 'Camidoh tops Nigeria’s Apple Music chart with ‘Sugarcane’ remix.',\n",
       " 'MAY 5, 2022.',\n",
       " 'GENERAL.',\n",
       " 'Wilmar Africa donates to office of Chief Imam.',\n",
       " 'MAY 5, 2022.',\n",
       " 'GENERAL.',\n",
       " 'Consuming Trash: Unravelling the multi-million cedi business in Ghana’s expired products business.',\n",
       " 'MAY 5, 2022.',\n",
       " 'GENERAL.',\n",
       " 'NDC to conduct internal elections after digitisation of membership records.',\n",
       " 'MAY 5, 2022.',\n",
       " 'GENERAL.',\n",
       " 'Letshego drives wellness with its staff and customers.',\n",
       " 'MAY 5, 2022.',\n",
       " 'GENERAL.',\n",
       " 'Farmers in Adansi Akrofuom get 10,000 coconut seedlings to support 1D1F programme.',\n",
       " 'MAY 5, 2022.',\n",
       " 'GENERAL.',\n",
       " 'Library Authority, UNICEF’s Early Grade Reading Intervention boosts literacy skills in project communities.',\n",
       " 'MAY 4, 2022.',\n",
       " 'CORONAVIRUS.',\n",
       " 'Nana Addo shifts target of vaccinating 20 million Ghanaians to June.',\n",
       " 'MARCH 28, 2022.',\n",
       " 'Gov’t cancels compulsory PCR testing at KIA for fully vaccinated persons.',\n",
       " 'Churches, conferences, cinemas, others can now operate at full capacity – Nana Addo.',\n",
       " 'Wearing of face masks no more mandatory in Ghana – Nana Addo.',\n",
       " 'Akufo-Addo’s 28th COVID-19 update [Full text].',\n",
       " 'POLITICS.',\n",
       " 'I had faith; my election victories confirm that with God, all things are possible’ – Nana Addo.',\n",
       " 'MAY 6, 2022.',\n",
       " 'NDC to conduct internal elections after digitisation of membership records.',\n",
       " 'Kwakye Ofosu defends Mahama on promise to scrap E-levy if NDC wins power.',\n",
       " 'We remain resolute despite dismissal of E-levy injunction application – Haruna.',\n",
       " 'John Boadu’s temporary campaign ban a Machiavellian tactic to intimidate contenders – Group.',\n",
       " 'BUSINESS.',\n",
       " 'Educate Ghanaians on E-Levy deductions to curb panic withdrawals – MoMo association to gov’t.',\n",
       " 'MAY 6, 2022.',\n",
       " 'Vodafone Cash transfers are still free; customers pay only 1.',\n",
       " 'E-levy – Vodafone .',\n",
       " 'Bolt rewards over 100 drivers to mark May Day.',\n",
       " 'Hollard Ghana partners with UGBS to set students up for a better future.',\n",
       " 'COCOBOD rolls out CocoaSoils programme to improve yield.',\n",
       " 'MOST READ.',\n",
       " 'Death makes nonsense of everything’ –  Bishop Dag speaks on son’s death.',\n",
       " 'Bishop Dag Heward-Mills loses 31yr-old medical doctor son in US.',\n",
       " 'Accra: Police officer allegedly shoots himself to death.',\n",
       " 'Santeo: About 40 houses locked, residents ejected by alleged SWAT officers.',\n",
       " 'Veteran Ghanaian actor Psalm Adjeteyfio dies.',\n",
       " 'Lead NSMQ stars for Prempeh, PRESEC and Keta gain admission into world’s top universities.',\n",
       " 'LOAD MORE.',\n",
       " 'INTERNATIONAL.',\n",
       " 'Eight die in Iran after drinking homemade alcohol.',\n",
       " 'MAY 3, 2022.',\n",
       " 'US police hunt for missing prison inmate and guard.',\n",
       " 'Violence erupts in May Day protests in Paris.',\n",
       " 'Indonesia’s planned cooking oil export ban sends global prices of edible oils soaring.',\n",
       " 'Elon Musk strikes deal to buy Twitter for $44bn.',\n",
       " 'OPINION.',\n",
       " 'Daniel Sackitey writes: Neutrality allowance; a case of commercialising innate values?',\n",
       " 'MAY 4, 2022.',\n",
       " 'RE: Dowry system and polygamy: What do they say about gender injustice in traditional Africa?',\n",
       " 'Dowry system and polygamy: What do they say about gender injustice in traditional Africa?',\n",
       " 'Article].',\n",
       " 'Inspecting impact: The anatomy of investing for sustainable development in Africa.',\n",
       " 'Digitizing Africa’s Economy: The Case for Blockchain and Digital Asset [Article].',\n",
       " 'TECHNOLOGY.',\n",
       " 'Eid Al-Fitr celebrations as they unfolded on Twitter  .',\n",
       " 'MAY 4, 2022.',\n",
       " 'Google urges court to scrap $1.',\n",
       " 'EU antitrust fine.',\n",
       " 'How exciting!',\n",
       " 'Huawei’s new Ultra-High-Pixel Smartphone to be launched in Ghana.',\n",
       " 'World Bank provides $200M to accelerate Ghana’s digital transformation agenda.',\n",
       " 'This week on #TwitterGhana: #Ramadan2022 stories, tweets and special moments.',\n",
       " 'SHOWBIZ.',\n",
       " 'Camidoh tops Nigeria’s Apple Music chart with ‘Sugarcane’ remix.',\n",
       " 'MAY 5, 2022.',\n",
       " 'Joe Mettle announces 4 cities for 10th anniversary of Praise Reloaded.',\n",
       " 'Def Jam signs Stonebwoy; releases first single ‘Therapy’.',\n",
       " 'Ramadan Bash: Citi FM/TV celebrates Eid with Muslim kids in Adabraka.',\n",
       " 'Blac Chyna loses defamation case against Kardashian-Jenners.',\n",
       " 'MORE NEWS.',\n",
       " 'NEWS.',\n",
       " 'Educate Ghanaians on E-Levy deductions to curb panic withdrawals – MoMo association to gov’t.',\n",
       " 'MAY 6, 2022.',\n",
       " 'NEWS.',\n",
       " 'Collaborate with police in fight against crime – Dampare urges Zongo communities.',\n",
       " 'MAY 6, 2022.',\n",
       " 'BREAKING NEWS.',\n",
       " 'Suspect arrested over killing of 8 herdsmen in Zacholi charged with murder.',\n",
       " 'MAY 6, 2022.',\n",
       " 'NEWS.',\n",
       " 'Greater Accra: 5 arrested for engaging in illegal sand winning at Gonsie.',\n",
       " 'MAY 6, 2022.',\n",
       " 'TOP STORIES.',\n",
       " 'Supreme Court’s reasons for dismissing injunction application against E-levy [Full judgement].',\n",
       " 'MAY 6, 2022.',\n",
       " 'GENERAL.',\n",
       " 'Stakeholders call for review of ADR law to include petty offences.',\n",
       " 'MAY 5, 2022.',\n",
       " 'EDUCATION.',\n",
       " 'UENR VC appeals for speedy completion of stalled GETFund projects.',\n",
       " 'MAY 5, 2022.',\n",
       " 'GENERAL.',\n",
       " 'Wilmar Africa donates to office of Chief Imam.',\n",
       " 'MAY 5, 2022.',\n",
       " 'LOAD MORE.',\n",
       " 'Top three winners of ‘A Portrait of Mama’ promo announced.',\n",
       " 'MAY 6, 2022.',\n",
       " 'CitiNewsroom.',\n",
       " \"Ghana's leading news website that delivers high quality innovative, alternative news that challenges the status quo.\",\n",
       " 'Archives.',\n",
       " 'Archives.',\n",
       " 'Select Month.',\n",
       " 'Download App.',\n",
       " 'About Us Contact Us Photo Gallery Privacy Policy Terms of Use Citi TV.',\n",
       " 'All Rights Reserved Citi Newsroom.',\n",
       " \"We'd like to show you notifications for the latest news and updates.\",\n",
       " 'Allow.']"
      ]
     },
     "execution_count": 290,
     "metadata": {},
     "output_type": "execute_result"
    }
   ],
   "source": [
    "new_list"
   ]
  },
  {
   "cell_type": "code",
   "execution_count": 291,
   "id": "de6ee343-badb-4766-a73d-19db96fe85fd",
   "metadata": {},
   "outputs": [
    {
     "name": "stdout",
     "output_type": "stream",
     "text": [
      "['Collaborate with police in fight against crime – Dampare urges Zongo communities.', 'Farmers in Adansi Akrofuom get 10,000 coconut seedlings to support 1D1F programme.', 'Accra: Police officer allegedly shoots himself to death.', 'US police hunt for missing prison inmate and guard.', 'Collaborate with police in fight against crime – Dampare urges Zongo communities.']\n"
     ]
    }
   ],
   "source": [
    "matches = []\n",
    "#('arm','weapon', 'shot', 'police', 'military', 'drugs', 'suspect')\n",
    "for match in new_list:\n",
    "    if \"arm\" in match:\n",
    "        matches.append(match)\n",
    "    if \"weapon\" in match:\n",
    "        matches.append(match)\n",
    "    if \"shot\" in match:\n",
    "        matches.append(match)\n",
    "    if \"police\" in match:\n",
    "        matches.append(match)\n",
    "    if \"military\" in match:\n",
    "        matches.append(match)\n",
    "    if \"drugs\" in match:\n",
    "        matches.append(match)\n",
    "    if \"suspects\" in match:\n",
    "        matches.append(match)\n",
    "    if \"Arm\" in match:\n",
    "        matches.append(match)\n",
    "    if \"Weapon\" in match:\n",
    "        matches.append(match)\n",
    "    if \"Shot\" in match:\n",
    "        matches.append(match)\n",
    "    if \"Police\" in match:\n",
    "        matches.append(match)\n",
    "    if \"Military\" in match:\n",
    "        matches.append(match)\n",
    "    if \"Drugs\" in match:\n",
    "        matches.append(match)\n",
    "    if \"Kill\" in match:\n",
    "        matches.append(match)\n",
    "    if \"Cannabis\" in match:\n",
    "        matches.append(match)\n",
    "    if \"connnabis\" in match:\n",
    "        matches.append(match)\n",
    "    if \"Cocaine\" in match:\n",
    "        matches.append(match)\n",
    "    if \"cocaine\" in match:\n",
    "        matches.append(match)\n",
    "    if \"weed\" in match:\n",
    "        matches.append(match)\n",
    "print(matches)\n",
    "#kill"
   ]
  },
  {
   "cell_type": "code",
   "execution_count": 292,
   "id": "10a09032-2440-45fb-ae31-c97eec06205e",
   "metadata": {},
   "outputs": [],
   "source": [
    "new_ = [s.replace(\",\", \"\") for s in matches]\n",
    "new_l = [s.replace(\".\", \"\") for s in new_]\n",
    "new_li = [s.replace(\"–\", \"\") for s in new_l]\n",
    "new_lis = [s.replace(\"?\", \"\") for s in new_li]\n",
    "new_list = [s.replace(\":\", \"\") for s in new_lis]\n",
    "new_lists = [s.replace(\";\", \"\") for s in new_list]"
   ]
  },
  {
   "cell_type": "code",
   "execution_count": 293,
   "id": "3f8ce694-9087-44f8-99f8-c9d6973e8813",
   "metadata": {},
   "outputs": [
    {
     "data": {
      "text/plain": [
       "5"
      ]
     },
     "execution_count": 293,
     "metadata": {},
     "output_type": "execute_result"
    }
   ],
   "source": [
    "len(new_lists)"
   ]
  },
  {
   "cell_type": "code",
   "execution_count": 294,
   "id": "4bd386f7-bf64-4011-ae04-d899c66ce02a",
   "metadata": {},
   "outputs": [
    {
     "data": {
      "text/plain": [
       "['Collaborate with police in fight against crime  Dampare urges Zongo communities',\n",
       " 'Farmers in Adansi Akrofuom get 10000 coconut seedlings to support 1D1F programme',\n",
       " 'Accra Police officer allegedly shoots himself to death',\n",
       " 'US police hunt for missing prison inmate and guard',\n",
       " 'Collaborate with police in fight against crime  Dampare urges Zongo communities']"
      ]
     },
     "execution_count": 294,
     "metadata": {},
     "output_type": "execute_result"
    }
   ],
   "source": [
    "new_lists"
   ]
  },
  {
   "cell_type": "code",
   "execution_count": null,
   "id": "e475db71-2722-4411-a5b7-d60035d008b1",
   "metadata": {},
   "outputs": [],
   "source": []
  },
  {
   "cell_type": "code",
   "execution_count": 295,
   "id": "34efad5f-1815-4ccb-8067-c0a71d49e11a",
   "metadata": {},
   "outputs": [],
   "source": [
    "urls = new_lists\n"
   ]
  },
  {
   "cell_type": "code",
   "execution_count": 296,
   "id": "ff1e5fda-69bb-4f8e-81bb-59cec6396272",
   "metadata": {},
   "outputs": [
    {
     "data": {
      "text/plain": [
       "list"
      ]
     },
     "execution_count": 296,
     "metadata": {},
     "output_type": "execute_result"
    }
   ],
   "source": [
    "type(urls)"
   ]
  },
  {
   "cell_type": "code",
   "execution_count": 297,
   "id": "0086b297-c84d-4d65-885a-7a0df2ef3fff",
   "metadata": {},
   "outputs": [],
   "source": [
    "col1 = \"topics\""
   ]
  },
  {
   "cell_type": "code",
   "execution_count": 298,
   "id": "c0ad515a-dea3-49cf-ad09-2c38bdfdbc6e",
   "metadata": {},
   "outputs": [],
   "source": [
    "data = pd.DataFrame({col1:urls})"
   ]
  },
  {
   "cell_type": "code",
   "execution_count": 299,
   "id": "e55fbcf6-9205-466a-940e-96206d302cab",
   "metadata": {},
   "outputs": [],
   "source": [
    "today = (datetime.today().strftime('%Y-%m-%d'),'citinews')"
   ]
  },
  {
   "cell_type": "code",
   "execution_count": 300,
   "id": "3901e5ec-8ff0-4a0b-9012-ed7124b919de",
   "metadata": {},
   "outputs": [],
   "source": [
    "# Use str.join() to convert tuple to string.\n",
    "today = ''.join(today)\n"
   ]
  },
  {
   "cell_type": "code",
   "execution_count": 301,
   "id": "3c22cd22-e7e7-4700-a01f-288256a516fc",
   "metadata": {},
   "outputs": [],
   "source": [
    "with pd.ExcelWriter(\"C:\\\\Users\\\\kofi\\\\Desktop\\\\selenium.xlsx\", engine=\"openpyxl\", mode=\"a\") as writer:\n",
    "    data.to_excel(writer, sheet_name=today, startrow=0, startcol=0)"
   ]
  },
  {
   "cell_type": "code",
   "execution_count": null,
   "id": "3fc8b8b9-4208-44db-a9e7-ed3c6b2aa133",
   "metadata": {},
   "outputs": [],
   "source": []
  },
  {
   "cell_type": "markdown",
   "id": "dca7d038-e6e9-4a80-9443-a73400085dc1",
   "metadata": {},
   "source": [
    "## pulse"
   ]
  },
  {
   "cell_type": "code",
   "execution_count": null,
   "id": "6770281c-3783-4e9b-a10c-587172fe0192",
   "metadata": {},
   "outputs": [],
   "source": []
  },
  {
   "cell_type": "code",
   "execution_count": 302,
   "id": "723c0d3d-4318-4ac4-90ec-13865ada2122",
   "metadata": {},
   "outputs": [
    {
     "name": "stdout",
     "output_type": "stream",
     "text": [
      "did not finish loading\n"
     ]
    }
   ],
   "source": [
    "try:\n",
    "    \n",
    "    driver.get(\"https://www.pulse.com.gh/\")    \n",
    "    time.sleep(30)   \n",
    "except Exception:\n",
    "    pass\n",
    "print('did not finish loading')"
   ]
  },
  {
   "cell_type": "code",
   "execution_count": 303,
   "id": "b621e486-19b0-479f-961c-09be4f703f6f",
   "metadata": {},
   "outputs": [
    {
     "name": "stderr",
     "output_type": "stream",
     "text": [
      "C:\\Users\\kofi\\AppData\\Local\\Temp/ipykernel_17312/1622795889.py:1: DeprecationWarning: find_element_by_xpath is deprecated. Please use find_element(by=By.XPATH, value=xpath) instead\n",
      "  i = driver.find_element_by_xpath(\"(//body)[1]\")\n"
     ]
    }
   ],
   "source": [
    "i = driver.find_element_by_xpath(\"(//body)[1]\")\n",
    " #(//div)[39]\n",
    "    #(//div[@class='jeg_viewport'])[1]"
   ]
  },
  {
   "cell_type": "code",
   "execution_count": 304,
   "id": "5cf93db4-b8dc-43aa-8638-d51d074d4f6c",
   "metadata": {},
   "outputs": [],
   "source": [
    "k = i.text"
   ]
  },
  {
   "cell_type": "code",
   "execution_count": 305,
   "id": "9536713f-b4b0-4f23-968c-1a05c058feeb",
   "metadata": {},
   "outputs": [],
   "source": [
    "rep = k.replace(\"\\n\", \". \")"
   ]
  },
  {
   "cell_type": "code",
   "execution_count": 306,
   "id": "d2eb0dc1-49e5-4bf7-8241-d5ab210b43ef",
   "metadata": {},
   "outputs": [],
   "source": [
    "import re\n",
    "expression = re.compile(r'([A-Z][^\\.!?]*[\\.!?])')\n",
    "new_list = re.findall(expression, rep)"
   ]
  },
  {
   "cell_type": "code",
   "execution_count": 307,
   "id": "150c9445-0b2a-45ff-aa21-5c1251857394",
   "metadata": {},
   "outputs": [
    {
     "data": {
      "text/plain": [
       "['This site can’t be reached.',\n",
       " 'DNS address could not be found.',\n",
       " 'Diagnosing the problem.',\n",
       " 'Try running Windows Network Diagnostics.',\n",
       " 'DNS_PROBE_STARTED.']"
      ]
     },
     "execution_count": 307,
     "metadata": {},
     "output_type": "execute_result"
    }
   ],
   "source": [
    "new_list"
   ]
  },
  {
   "cell_type": "code",
   "execution_count": 308,
   "id": "c84d9fb4-da0e-4f46-91ee-176d575fe68b",
   "metadata": {},
   "outputs": [
    {
     "name": "stdout",
     "output_type": "stream",
     "text": [
      "[]\n"
     ]
    }
   ],
   "source": [
    "matches = []\n",
    "#('arm','weapon', 'shot', 'police', 'military', 'drugs', 'suspect')\n",
    "for match in new_list:\n",
    "    if \"arm\" in match:\n",
    "        matches.append(match)\n",
    "    if \"weapon\" in match:\n",
    "        matches.append(match)\n",
    "    if \"shot\" in match:\n",
    "        matches.append(match)\n",
    "    if \"police\" in match:\n",
    "        matches.append(match)\n",
    "    if \"military\" in match:\n",
    "        matches.append(match)\n",
    "    if \"drugs\" in match:\n",
    "        matches.append(match)\n",
    "    if \"suspects\" in match:\n",
    "        matches.append(match)\n",
    "    if \"Arm\" in match:\n",
    "        matches.append(match)\n",
    "    if \"Weapon\" in match:\n",
    "        matches.append(match)\n",
    "    if \"Shot\" in match:\n",
    "        matches.append(match)\n",
    "    if \"Police\" in match:\n",
    "        matches.append(match)\n",
    "    if \"Military\" in match:\n",
    "        matches.append(match)\n",
    "    if \"Drugs\" in match:\n",
    "        matches.append(match)\n",
    "    if \"Kill\" in match:\n",
    "        matches.append(match)\n",
    "    if \"Cannabis\" in match:\n",
    "        matches.append(match)\n",
    "    if \"connnabis\" in match:\n",
    "        matches.append(match)\n",
    "    if \"Cocaine\" in match:\n",
    "        matches.append(match)\n",
    "    if \"cocaine\" in match:\n",
    "        matches.append(match)\n",
    "    if \"weed\" in match:\n",
    "        matches.append(match)\n",
    "print(matches)\n",
    "#kill"
   ]
  },
  {
   "cell_type": "code",
   "execution_count": 309,
   "id": "8764e9de-d136-46ee-ad2a-34052473c45c",
   "metadata": {},
   "outputs": [],
   "source": [
    "new_ = [s.replace(\",\", \"\") for s in matches]\n",
    "new_l = [s.replace(\".\", \"\") for s in new_]\n",
    "new_li = [s.replace(\"–\", \"\") for s in new_l]\n",
    "new_lis = [s.replace(\"?\", \"\") for s in new_li]\n",
    "new_list = [s.replace(\":\", \"\") for s in new_lis]\n",
    "new_lists = [s.replace(\";\", \"\") for s in new_list]"
   ]
  },
  {
   "cell_type": "code",
   "execution_count": 310,
   "id": "fe82f2dc-a234-4935-8399-2498d5626fd6",
   "metadata": {},
   "outputs": [
    {
     "data": {
      "text/plain": [
       "0"
      ]
     },
     "execution_count": 310,
     "metadata": {},
     "output_type": "execute_result"
    }
   ],
   "source": [
    "len(new_lists)"
   ]
  },
  {
   "cell_type": "code",
   "execution_count": 311,
   "id": "8b93eb2a-35c2-4647-8b80-3f5e4ad0e777",
   "metadata": {},
   "outputs": [
    {
     "data": {
      "text/plain": [
       "[]"
      ]
     },
     "execution_count": 311,
     "metadata": {},
     "output_type": "execute_result"
    }
   ],
   "source": [
    "new_lists"
   ]
  },
  {
   "cell_type": "code",
   "execution_count": null,
   "id": "a724c156-a6f4-417e-9ac0-2ce7b0c496c2",
   "metadata": {},
   "outputs": [],
   "source": []
  },
  {
   "cell_type": "code",
   "execution_count": 312,
   "id": "1515571e-3603-4917-9d43-48209befc494",
   "metadata": {},
   "outputs": [],
   "source": [
    "urls = new_lists\n"
   ]
  },
  {
   "cell_type": "code",
   "execution_count": 313,
   "id": "39f1eb5c-3de7-4403-8683-0833394f38f0",
   "metadata": {},
   "outputs": [
    {
     "data": {
      "text/plain": [
       "list"
      ]
     },
     "execution_count": 313,
     "metadata": {},
     "output_type": "execute_result"
    }
   ],
   "source": [
    "type(urls)"
   ]
  },
  {
   "cell_type": "code",
   "execution_count": 314,
   "id": "db3e238e-7b49-436c-b16a-2b92891ad252",
   "metadata": {},
   "outputs": [],
   "source": [
    "col1 = \"topics\""
   ]
  },
  {
   "cell_type": "code",
   "execution_count": 315,
   "id": "7987afdb-e41c-4a04-907f-1dc6ef889a93",
   "metadata": {},
   "outputs": [],
   "source": [
    "data = pd.DataFrame({col1:urls})"
   ]
  },
  {
   "cell_type": "code",
   "execution_count": 316,
   "id": "16e21fd0-afc9-4658-a972-1e8d400230c3",
   "metadata": {},
   "outputs": [],
   "source": [
    "today = (datetime.today().strftime('%Y-%m-%d'),'pulse')"
   ]
  },
  {
   "cell_type": "code",
   "execution_count": 317,
   "id": "200ab3ca-0449-411c-bbe6-84cd07db4c56",
   "metadata": {},
   "outputs": [],
   "source": [
    "# Use str.join() to convert tuple to string.\n",
    "today = ''.join(today)\n"
   ]
  },
  {
   "cell_type": "code",
   "execution_count": 318,
   "id": "5b9b1328-840c-4735-bfb1-87a60926d542",
   "metadata": {},
   "outputs": [],
   "source": [
    "with pd.ExcelWriter(\"C:\\\\Users\\\\kofi\\\\Desktop\\\\selenium.xlsx\", engine=\"openpyxl\", mode=\"a\") as writer:\n",
    "    data.to_excel(writer, sheet_name=today, startrow=0, startcol=0)"
   ]
  },
  {
   "cell_type": "code",
   "execution_count": null,
   "id": "7508d5fb-3b3b-4869-a801-cf8d19b278fb",
   "metadata": {},
   "outputs": [],
   "source": []
  },
  {
   "cell_type": "markdown",
   "id": "d60b0caa-8227-4567-afc9-55993784135c",
   "metadata": {},
   "source": [
    "## adomonline"
   ]
  },
  {
   "cell_type": "code",
   "execution_count": null,
   "id": "f2030e79-6675-442a-aa81-93e8e5ad70aa",
   "metadata": {},
   "outputs": [],
   "source": []
  },
  {
   "cell_type": "code",
   "execution_count": 319,
   "id": "8f1f0cf8-f3bf-4e1f-980d-6e70f4bc3716",
   "metadata": {},
   "outputs": [
    {
     "name": "stdout",
     "output_type": "stream",
     "text": [
      "did not finish loading\n"
     ]
    }
   ],
   "source": [
    "try: \n",
    "    driver.get(\"https://www.adomonline.com/\")    \n",
    "    time.sleep(30)   \n",
    "except Exception:\n",
    "    pass\n",
    "print('did not finish loading')"
   ]
  },
  {
   "cell_type": "code",
   "execution_count": 320,
   "id": "b7b8dbdc-a75d-426a-9ed6-5f4f70cad31a",
   "metadata": {},
   "outputs": [
    {
     "name": "stderr",
     "output_type": "stream",
     "text": [
      "C:\\Users\\kofi\\AppData\\Local\\Temp/ipykernel_17312/1622795889.py:1: DeprecationWarning: find_element_by_xpath is deprecated. Please use find_element(by=By.XPATH, value=xpath) instead\n",
      "  i = driver.find_element_by_xpath(\"(//body)[1]\")\n"
     ]
    }
   ],
   "source": [
    "i = driver.find_element_by_xpath(\"(//body)[1]\")\n",
    " #(//div)[39]\n",
    "    #(//div[@class='jeg_viewport'])[1]"
   ]
  },
  {
   "cell_type": "code",
   "execution_count": 321,
   "id": "59e008d4-87ed-48d0-8b33-5ef005615025",
   "metadata": {},
   "outputs": [],
   "source": [
    "k = i.text"
   ]
  },
  {
   "cell_type": "code",
   "execution_count": 322,
   "id": "c447eeba-a095-4708-804c-048ec4318ca9",
   "metadata": {},
   "outputs": [],
   "source": [
    "rep = k.replace(\"\\n\", \". \")"
   ]
  },
  {
   "cell_type": "code",
   "execution_count": 323,
   "id": "a2d8e168-e6a6-40bb-b0ed-483ecf89ebef",
   "metadata": {},
   "outputs": [],
   "source": [
    "import re\n",
    "expression = re.compile(r'([A-Z][^\\.!?]*[\\.!?])')\n",
    "new_list = re.findall(expression, rep)"
   ]
  },
  {
   "cell_type": "code",
   "execution_count": 324,
   "id": "25f0da25-03eb-461b-a034-7fa7dd72771e",
   "metadata": {},
   "outputs": [
    {
     "data": {
      "text/plain": [
       "['Sign in / Join.',\n",
       " 'Live TV Live Radio Contact us Privacy Policy.',\n",
       " 'Adomonline.',\n",
       " 'Home.',\n",
       " 'Election HQ.',\n",
       " 'News.',\n",
       " 'Politics.',\n",
       " 'Business.',\n",
       " 'Entertainment.',\n",
       " 'Sports.',\n",
       " 'Opinion.',\n",
       " 'Media.',\n",
       " 'More.',\n",
       " 'TRENDING NOW.',\n",
       " 'Televise court proceedings to avoid bias accusations – Judge urges.',\n",
       " 'LIFESTYLE.',\n",
       " 'My husband and I don’t speak for days and haven’t had sex for 10 years.',\n",
       " 'May 6, 2022 11:13 am.',\n",
       " 'CRIME.',\n",
       " 'Girl needs urgent surgery to save fingers dipped into boiling water over ¢2.',\n",
       " 'CRIME.',\n",
       " 'Police give update on Nkroful Magistrate Court, Esiama Police station chaos.',\n",
       " 'ENTERTAINMENT.',\n",
       " 'I lost roles because of my size’ – Popular actress.',\n",
       " 'AFRICA.',\n",
       " 'Airport boss sacked over low fuel and dark runways.',\n",
       " 'TOP STORIES.',\n",
       " 'Local News.',\n",
       " 'Pastor charges $700 fee to ‘take people to heaven’.',\n",
       " 'May 6, 2022 5:54 am.',\n",
       " 'An evangelist is in trouble after telling people he knows of a gate leading to heaven from south-western Nigeria that he can.',\n",
       " 'SHS 2 student invents car from scraps.',\n",
       " 'May 5, 2022 12:01 pm.',\n",
       " 'Police officer arrested for allegedly raping girl who reported gang rape.',\n",
       " 'May 5, 2022 11:37 am.',\n",
       " 'Nollywood suffers great loss as popular veteran actor dies after movie.',\n",
       " 'May 5, 2022 11:16 am.',\n",
       " 'Popular Radio Gold broadcaster reported dead.',\n",
       " 'May 5, 2022 9:11 am.',\n",
       " 'PODCASTS.',\n",
       " 'HOT AUDIO.',\n",
       " 'Hot Audio.',\n",
       " 'Mahama is luckiest person in Ghana politics – Owusu Bempah.',\n",
       " 'Business.',\n",
       " 'E-levy: Panic withdrawals hit mobile money vendors – Spokesperson for Association.',\n",
       " 'Hot Audio.',\n",
       " 'TUC sends important message to Akufo-Addo over removal of taxes on.',\n",
       " 'Nkuranhyensem Starting this Monday 9th May at 5:45AM on Badwam (6-5-22).',\n",
       " 'Aseda fabrics - Badwam Afisem on Adom TV (6-5-22).',\n",
       " 'Adom TV to celebrate mothers on Sunday 8 May at 4pm - Badwam Afisem on Adom TV (6-5-22).',\n",
       " 'Badwam Sports News on Adom TV (6-5-22).',\n",
       " 'Badwam News on Adom TV (6-5-22).',\n",
       " 'Badwam Newspaper Review on Adom TV (6-5-22).',\n",
       " 'Kasiebo Tau at 10AM on Adom TV (6-5-22).',\n",
       " 'He accused my sister of killing his mother and now my sister has mental illness - Obra on Adom TV.',\n",
       " 'TRENDING PHOTO.',\n",
       " 'Diminutive man’s pre-wedding photos with second wife causes stir.',\n",
       " 'May 2, 2022 9:28 am.',\n",
       " 'The pre-wedding photos of a man identified as Amos Ufuoma Asigri and his second wife has caused a stir in Nigeria.',\n",
       " 'Amos, known for his diminutive figure, tied the knot with his lover, Hope Ogheneuzuazor Ogbokor on Saturday, April.',\n",
       " 'Read more.',\n",
       " 'NEWS.',\n",
       " 'Crime.',\n",
       " 'Girl needs urgent surgery to save fingers dipped into boiling water.',\n",
       " 'May 6, 2022 11:13 am.',\n",
       " 'A nine-year-old girl has given a chilling account of how her guardian held her hand into boiling water as punishment for taking.',\n",
       " 'Police give update on Nkroful Magistrate Court, Esiama Police station chaos.',\n",
       " 'May 6, 2022 11:04 am.',\n",
       " 'Asian Games in China postponed amid Covid-19.',\n",
       " 'May 6, 2022 11:01 am.',\n",
       " 'Mikel Arteta, Jonas Eidevall sign new Arsenal contracts.',\n",
       " 'May 6, 2022 10:49 am.',\n",
       " 'Andy Yiadom voted Reading FC Player of the Season.',\n",
       " 'May 6, 2022 10:48 am.',\n",
       " 'ENTERTAINMENT.',\n",
       " 'Entertainment.',\n",
       " 'I lost roles because of my size’ – Popular actress.',\n",
       " 'May 6, 2022 11:01 am.',\n",
       " 'One of Ghana’s prominent actresses, Roselyn Ngissah, has revealed that she lost lots of movie roles because of her plus size.',\n",
       " 'Mr Drew professes love for famed Ghanaian singer.',\n",
       " 'May 6, 2022 10:28 am.',\n",
       " 'Jackie Appiah steals show at movie premiere.',\n",
       " 'May 6, 2022 7:06 am.',\n",
       " 'Video of Yul Edochie’s 2nd wife and their son causes stir.',\n",
       " 'May 6, 2022 6:31 am.',\n",
       " 'This throwback photo of A Plus will make your day.',\n",
       " 'May 5, 2022 4:38 pm.',\n",
       " 'POLITICS.',\n",
       " 'Chieftancy.',\n",
       " 'Curfew imposed at Kwabenya.',\n",
       " 'May 6, 2022 10:42 am.',\n",
       " 'A 12-hour curfew has been imposed on Kwabenya and its environs in the Dome Kwabenya Constituency of the Greater Accra Region.',\n",
       " 'Allotey Jacobs takes on Akufo-Addo’s appointees.',\n",
       " 'May 6, 2022 10:36 am.',\n",
       " 'Mahama is luckiest person in Ghana politics – Owusu Bempah.',\n",
       " 'May 6, 2022 10:25 am.',\n",
       " 'I want Ghana to be on God’s side – Akufo-Addo declares.',\n",
       " 'May 6, 2022 5:57 am.',\n",
       " 'Govt is free to spend E-levy revenue despite case challenging it’s.',\n",
       " 'May 5, 2022 6:11 pm.',\n",
       " 'ODD NEWS.',\n",
       " 'News.',\n",
       " 'Best friends who met as females get married after one transitioned.',\n",
       " 'May 4, 2022 12:23 pm.',\n",
       " 'Two best friends who have known each other since they were classmates are now married after one transitioned into a man.',\n",
       " 'Teenager shoots dead his mum after she told him to stop.',\n",
       " 'May 4, 2022 10:18 am.',\n",
       " 'Man marries three girlfriends in bizarre ceremony after 15 years together.',\n",
       " 'May 4, 2022 9:54 am.',\n",
       " 'Dead’ woman knocks on her coffin at her own funeral.',\n",
       " 'May 4, 2022 9:45 am.',\n",
       " 'Model with ‘world’s biggest cheeks’ gets even bigger implants to enhance.',\n",
       " 'May 3, 2022 10:24 am.',\n",
       " 'Advertisement -.',\n",
       " 'Advertisement -.',\n",
       " 'Advertisement -.',\n",
       " 'NEWSPAPER HEADLINES.',\n",
       " 'Newspaper Headlines.',\n",
       " 'Newspaper Headlines: Friday, May 6, 2022.',\n",
       " 'May 6, 2022 8:48 am.',\n",
       " 'MOST POPULAR.',\n",
       " 'Asamoah Gyan’s manager fights Ayew family’s spokesperson over book launch.',\n",
       " 'Popular Ghanaian sports journalist passes on.',\n",
       " 'A look at Edwina Akufo-Addo’s elegant kente dress with 500 peacock feathers.',\n",
       " 'E-levy: Mobile Money Agents send SOS message to members.',\n",
       " 'CCTV footage of gory accident at Labone junction.',\n",
       " 'E-levy: Mobile money transactions drop by 50%.',\n",
       " 'He camped me and raped me everyday – Juliet Ibrahim details abuse from toxic ex.',\n",
       " 'Pastor chases bridesmaids out of church over indecent dressing [Video].',\n",
       " 'The African nation that lasted only 12 days.',\n",
       " 'I will campaign against govt if … – Prince David Osei.',\n",
       " 'TRENDING VIDEOS.',\n",
       " 'CCTV footage of gory accident at Labone junction.',\n",
       " 'May 4, 2022 2:00 pm.',\n",
       " 'Nurse who lost legs in Russian war dances with husband during.',\n",
       " 'May 4, 2022 1:50 pm.',\n",
       " 'TUC demands 20% cost of living allowance for public sector workers.',\n",
       " 'May 2, 2022 7:42 am.',\n",
       " 'Fans.',\n",
       " 'Followers.',\n",
       " 'Subscribers.',\n",
       " 'EDITORIAL.',\n",
       " 'World swimming champion suspended for cheating on his wife.',\n",
       " 'Sports News October 16, 2020 7:01 pm.',\n",
       " 'MY HUSBAND AND I DON’T SPEAK FOR DAYS AND HAVEN’T HAD SEX FOR 10 YEARS.',\n",
       " 'May 6, 2022 11:13 am.',\n",
       " 'DISADVANTAGES OF BEING SINGLE FOR TOO LONG.',\n",
       " 'May 6, 2022 10:49 am.',\n",
       " 'WORDS YOU CAN USE TO MAKE A WOMAN FEEL SEXY.',\n",
       " 'May 6, 2022 6:11 am.',\n",
       " 'MY HUSBAND AND I DON’T SPEAK FOR DAYS AND HAVEN’T HAD SEX FOR 10 YEARS’.',\n",
       " 'May 6, 2022 6:06 am.',\n",
       " 'BUSINESS.',\n",
       " 'Business.',\n",
       " 'E-levy: Panic withdrawals hit mobile money vendors – Spokesperson for Association.',\n",
       " 'May 5, 2022 6:28 pm.',\n",
       " 'The Mobile Money Agents Association of Ghana has stated that there has been unprecedented panic withdrawals at the mobile money vending stations.',\n",
       " 'Basic Legal Q&As when setting up private liability company in Ghana.',\n",
       " 'May 5, 2022 5:02 pm.',\n",
       " 'E-Levy: Supreme Court dismisses application for interlocutory injunction.',\n",
       " 'May 4, 2022 2:17 pm.',\n",
       " 'Nick Danso Adjei honored at 5th Ghana Business Leaders Excellence Awards.',\n",
       " 'May 4, 2022 10:34 am.',\n",
       " 'CEO of Ghana Link Network Services Ltd honored at 2022 maiden.',\n",
       " 'May 4, 2022 6:48 am.',\n",
       " 'SPORTS.',\n",
       " 'Football.',\n",
       " 'Bet becomes title sponsor of Legon Cities FC.',\n",
       " 'May 6, 2022 11:11 am.',\n",
       " 'World-famous betting brand 1xBet is expanding its presence in Africa.',\n",
       " 'This time the renowned bookmaker has signed a.',\n",
       " 'Asian Games in China postponed amid Covid-19.',\n",
       " 'May 6, 2022 11:01 am.',\n",
       " 'Mikel Arteta, Jonas Eidevall sign new Arsenal contracts.',\n",
       " 'May 6, 2022 10:49 am.',\n",
       " 'Andy Yiadom voted Reading FC Player of the Season.',\n",
       " 'May 6, 2022 10:48 am.',\n",
       " 'Jacky Hunt-Broersma: The cancer survivor who ran 104 marathons in 104.',\n",
       " 'May 6, 2022 7:10 am.',\n",
       " 'OPINION.',\n",
       " 'Basic Legal Q&As when setting up private liability company in Ghana.',\n",
       " 'May 5, 2022 5:02 pm.',\n",
       " 'Business.',\n",
       " 'The Registrar General Department (RGD) is the only institution authorised to undertake the registration or incorporation of businesses in Ghana.',\n",
       " 'Elizabeth Ohene’s letter to BBC on their piece on free speech.',\n",
       " 'April 30, 2022 7:40 pm.',\n",
       " 'Opinion.',\n",
       " 'See below her letter to the Editor, Mike Wendling; Dear Mike, Back in January 1982, I.',\n",
       " 'Recommended for you.',\n",
       " 'Promoted.',\n",
       " \"Floyd Mayweather's new home in Miami Beach is absolutely breathtaking!\",\n",
       " 'Mansion Global.',\n",
       " 'Promoted.',\n",
       " 'Online Jobs from Ghana.',\n",
       " 'Salaries May Surprise You.',\n",
       " 'Work From Home | Search ads.',\n",
       " 'Man breaks down in tears over Adwoa Safo [Photos].',\n",
       " 'Promoted.',\n",
       " 'Do you speak English?',\n",
       " 'Work for a USA company, Live in Accra.',\n",
       " 'Find Jobs Online | Search Ads.',\n",
       " 'Video of nurses being taught s3x positions goes viral.',\n",
       " 'Just in: Afia Schwarzenegger arrested by Ghana Police.',\n",
       " 'LATEST ARTICLES.',\n",
       " 'Lifestyle.',\n",
       " 'My husband and I don’t speak for days and haven’t had.',\n",
       " 'May 6, 2022 11:13 am.',\n",
       " 'Dear Coleen I’ve been with my husband for 30 years – since we were both 22 \\xad– but.',\n",
       " 'Crime.',\n",
       " 'Girl needs urgent surgery to save fingers dipped into boiling water.',\n",
       " 'May 6, 2022 11:13 am.',\n",
       " 'A nine-year-old girl has given a chilling account of how her guardian held her hand into boiling water as punishment for taking.',\n",
       " 'Football.',\n",
       " 'Bet becomes title sponsor of Legon Cities FC.',\n",
       " 'May 6, 2022 11:11 am.',\n",
       " 'World-famous betting brand 1xBet is expanding its presence in Africa.',\n",
       " 'This time the renowned bookmaker has signed a.',\n",
       " 'Crime.',\n",
       " 'Police give update on Nkroful Magistrate Court, Esiama Police station chaos.',\n",
       " 'May 6, 2022 11:04 am.',\n",
       " 'The Western Regional Police Command has, so far, arrested eleven persons for their involvement in the attacks on the Esiama Divisional Headquarters,.',\n",
       " 'International.',\n",
       " 'Asian Games in China postponed amid Covid-19.',\n",
       " 'May 6, 2022 11:01 am.',\n",
       " 'The Asian Games in China have been postponed because of the coronavirus pandemic, says the Olympic Council of Asia (OCA).',\n",
       " 'Entertainment.',\n",
       " 'I lost roles because of my size’ – Popular actress.',\n",
       " 'May 6, 2022 11:01 am.',\n",
       " 'One of Ghana’s prominent actresses, Roselyn Ngissah, has revealed that she lost lots of movie roles because of her plus size.',\n",
       " 'Africa.',\n",
       " 'Airport boss sacked over low fuel and dark runways.',\n",
       " 'May 6, 2022 10:50 am.',\n",
       " 'Liberia’s president has sacked the head of the country’s only international airport after dark runways, caused by power failures, had forced numerous.',\n",
       " 'Football.',\n",
       " 'Mikel Arteta, Jonas Eidevall sign new Arsenal contracts.',\n",
       " 'May 6, 2022 10:49 am.',\n",
       " \"Arsenal men's manager Mikel Arteta and women's boss Jonas Eidevall have signed new contracts with the Gunners.\",\n",
       " 'Arteta was.',\n",
       " 'Lifestyle.',\n",
       " 'Disadvantages of being single for too long.',\n",
       " 'May 6, 2022 10:49 am.',\n",
       " 'While being free of any romantic engagements may actually be a positive way to improve yourself, being single can sometimes wear you.',\n",
       " 'Football.',\n",
       " 'Andy Yiadom voted Reading FC Player of the Season.',\n",
       " 'May 6, 2022 10:48 am.',\n",
       " \"Black Stars right back, Andy Yiadom has been named as Reading FC Men's Player of the Season.\",\n",
       " 'The 30-year-old.',\n",
       " 'Local News.',\n",
       " 'Man, 40, dies in hotel after allegedly taking sex enhancement drug.',\n",
       " 'May 6, 2022 10:45 am.',\n",
       " 'A 40-year-old man identified as Albert Agomavi has died in a hotel room after allegedly using an aphrodisiac to enhance his sexual.',\n",
       " 'Local News.',\n",
       " 'Televise court proceedings to avoid bias accusations – Judge urges.',\n",
       " 'May 6, 2022 10:44 am.',\n",
       " 'A Justice of the Court of Appeal, Justice Sir Dennis Dominic Adjei, is calling for court proceedings to be televised to give.',\n",
       " 'Chieftancy.',\n",
       " 'Curfew imposed at Kwabenya.',\n",
       " 'May 6, 2022 10:42 am.',\n",
       " 'A 12-hour curfew has been imposed on Kwabenya and its environs in the Dome Kwabenya Constituency of the Greater Accra Region.',\n",
       " 'Local News.',\n",
       " 'Corrupt people hate transparency – Dr Bawumia.',\n",
       " 'May 6, 2022 10:36 am.',\n",
       " 'The Akufo-Addo government’s infusion of digitalization in the provision of government services as part of the fight against corruption is beginning to.',\n",
       " 'Politics.',\n",
       " 'Allotey Jacobs takes on Akufo-Addo’s appointees.',\n",
       " 'May 6, 2022 10:36 am.',\n",
       " 'Social commentator, Bernard Allotey Jacobs, has advised President Nana Addo Dankwa Akufo-Addo to begin reshuffling his government officials.',\n",
       " 'Speaking.',\n",
       " 'Entertainment.',\n",
       " 'Mr Drew professes love for famed Ghanaian singer.',\n",
       " 'May 6, 2022 10:28 am.',\n",
       " 'Highlife musician, Mr Drew, has named his female colleague Cina Soul as a celebrity he has an interest in.',\n",
       " 'Hot Audio.',\n",
       " 'Mahama is luckiest person in Ghana politics – Owusu Bempah.',\n",
       " 'May 6, 2022 10:25 am.',\n",
       " 'The Director of Communications at Ghana Gas Company Limited, Ernest Owusu Bempah, has said former President John Mahama is the luckiest man.',\n",
       " 'Newspaper Headlines.',\n",
       " 'Newspaper Headlines: Friday, May 6, 2022.',\n",
       " 'May 6, 2022 8:48 am.',\n",
       " 'Sports News.',\n",
       " 'Jacky Hunt-Broersma: The cancer survivor who ran 104 marathons in 104.',\n",
       " 'May 6, 2022 7:10 am.',\n",
       " 'A woman who took up running after she lost her left leg to cancer has passed the Guinness World Record for most.',\n",
       " 'Africa.',\n",
       " 'Senegal midwives go on trial over mother’s death.',\n",
       " 'May 6, 2022 7:09 am.',\n",
       " 'Six midwives have gone on trial in Senegal following the death of a pregnant woman and her unborn child in a public.',\n",
       " 'Entertainment.',\n",
       " 'Jackie Appiah steals show at movie premiere.',\n",
       " 'May 6, 2022 7:06 am.',\n",
       " 'Ghanaian actress, Jackie Appiah looked gorgeous at the premiere of her newly released movie, \"Red Carpet\".',\n",
       " 'She wore.',\n",
       " 'Football.',\n",
       " 'Asamoah Gyan is welcome to the club – Asante Kotoko CEO.',\n",
       " 'May 6, 2022 6:42 am.',\n",
       " 'Chief Executive Officer of Kumasi Asante Kotoko, Nana Yaw Amponsah has said former Black Stars captain, Asamoah Gyan can join the.',\n",
       " 'Football.',\n",
       " 'Black Stars: We were asked to pay compensation before Goerge Boateng.',\n",
       " 'May 6, 2022 6:35 am.',\n",
       " 'Communications Director of the Ghana Football Association , Henry Asante Twum has revealed that Aston Villa were not ready to release George.',\n",
       " 'Football.',\n",
       " 'Chelsea sale: Abramovich denies he wants loan to Blues repaid when.',\n",
       " 'May 6, 2022 6:32 am.',\n",
       " 'Roman Abramovich has denied he wants his £1.',\n",
       " 'Chelsea repaid and has committed to giving proceeds from the sale of.',\n",
       " 'Entertainment.',\n",
       " 'Video of Yul Edochie’s 2nd wife and their son causes stir.',\n",
       " 'May 6, 2022 6:31 am.',\n",
       " 'The second wife of embattled Nollywood actor, Yul Edochie has been lampooned after posing video on social media.',\n",
       " 'Judy.',\n",
       " 'Football.',\n",
       " 'Serie A matchday 36 preview.',\n",
       " 'May 6, 2022 6:20 am.',\n",
       " 'SuperSport viewers on DStv and GOtv can look forward to Round 36 action from Serie A, with matches scheduled to run from.',\n",
       " 'Local News.',\n",
       " 'Fumesua Anglican Basic JHS students endure congestion and intense heat.',\n",
       " 'May 6, 2022 6:19 am.',\n",
       " 'Students of Fumesua Anglican Basic and Junior High School have called on the government to immediately complete a six-unit classroom block abandoned at the.',\n",
       " 'International.',\n",
       " 'Madison Cawthorn: US lawmaker ‘won’t back down’ after naked tape leak.',\n",
       " 'May 6, 2022 6:16 am.',\n",
       " 'The United States’ youngest congressman has said he won’t “back down” after a naked video of him in bed was leaked.',\n",
       " 'Local News.',\n",
       " 'Emotional tribute by Dag Heward-Mills’ wife to late son [read].',\n",
       " 'May 6, 2022 6:15 am.',\n",
       " 'The death of the eldest child of the Heward-Mills’ came as a huge surprise to many across the world but even more.',\n",
       " 'Lifestyle.',\n",
       " 'May 6, 2022 6:11 am.',\n",
       " 'Need to tell a woman how sexy she is without being too obvious or repetitive?',\n",
       " \"This is the article you've been looking.\",\n",
       " 'Local News.',\n",
       " 'E-levy: Some money transfers have already been done to the Consolidated.',\n",
       " 'May 6, 2022 6:10 am.',\n",
       " 'The Chief Executive Officer of the Ghana Chamber of Telecommunications, Dr.',\n",
       " 'Ken Ashigbey, says since the implementation of the E-levy some 5.',\n",
       " 'International.',\n",
       " 'US plane prepped for action 24 hours after Vladimir Putin’s flew.',\n",
       " 'May 6, 2022 6:08 am.',\n",
       " 'America’s ‘doomsday’ plane has been seen being prepped for action, 24 hours after Vladimir Putin’s aircraft for use in the event of nuclear war with the.',\n",
       " 'Lifestyle.',\n",
       " 'My husband and I don’t speak for days and haven’t had.',\n",
       " 'May 6, 2022 6:06 am.',\n",
       " 'Dear Coleen I’ve been with my husband for 30 years – since we were both 22 \\xad– but.',\n",
       " 'Crime.',\n",
       " 'Farmer remanded into prison custody for stealing plantains.',\n",
       " 'May 6, 2022 6:05 am.',\n",
       " 'A Circuit Court at Dormaa-Ahenkro in the Dormaa Central Municipality of the Bono Region has remanded Ibrahim Quattara, 27, farmer, into prison.',\n",
       " 'Football.',\n",
       " 'La Liga: Preview of matchday 35 games.',\n",
       " 'May 6, 2022 6:04 am.',\n",
       " 'SuperSport viewers on DStv and GOtv can look forward to Round 35 action from La Liga, with matches scheduled to run from.',\n",
       " 'Football.',\n",
       " 'Premier League: Preview of Round of 36 games.',\n",
       " 'May 6, 2022 6:03 am.',\n",
       " 'SuperSport viewers on DStv and GOtv can look forward to round 36 action from the Premier League, with matches scheduled to run.',\n",
       " 'Football.',\n",
       " 'U-20 WWC: Ghana paired with Japan, USA & Netherlands in Group.',\n",
       " 'May 6, 2022 6:02 am.',\n",
       " 'The Black Princess of Ghana have been drawn in Group D in the FIFA U20 World Cup which comes off in Costa.',\n",
       " 'Local News.',\n",
       " 'ECG extends debt payment to five years for Krobo customers.',\n",
       " 'May 6, 2022 6:01 am.',\n",
       " 'The Electricity Company of Ghana (ECG) has offered customers within the Krobo District five years repayment period to clear all their indebtedness.',\n",
       " 'International.',\n",
       " 'Young Russian woman sews her mouth [photo].',\n",
       " 'May 6, 2022 5:58 am.',\n",
       " \"A Russian woman woman faces prosecution after she sewed her mouth shut in protest about censorship of protests against Russia's invasion of Ukraine.\",\n",
       " 'Nadezhda.',\n",
       " 'Politics.',\n",
       " 'I want Ghana to be on God’s side – Akufo-Addo declares.',\n",
       " 'May 6, 2022 5:57 am.',\n",
       " 'President Nana Addo Dankwa Akufo-Addo is encouraging Christians to be strong in faith and let faith be integral part of their chosen profession.',\n",
       " 'DOWNLOAD APPS.',\n",
       " 'PODCAST.',\n",
       " 'Google Podcast.',\n",
       " 'TuneIn.',\n",
       " 'Tunes.',\n",
       " 'Spotify.',\n",
       " 'SUBSCRIBE TO NEWSLETTER.',\n",
       " 'Email Address *.',\n",
       " 'First Name.',\n",
       " 'Last Name.',\n",
       " 'ABOUT US.',\n",
       " 'AdomOnline.',\n",
       " 'We provide you with the latest breaking news and content straight from the motherland Ghana and other countries beyond.',\n",
       " 'Contact us: info@adomonline.',\n",
       " 'FOLLOW US.']"
      ]
     },
     "execution_count": 324,
     "metadata": {},
     "output_type": "execute_result"
    }
   ],
   "source": [
    "new_list"
   ]
  },
  {
   "cell_type": "code",
   "execution_count": 325,
   "id": "15ae333c-68d3-4bcf-891a-8549534b8499",
   "metadata": {},
   "outputs": [
    {
     "name": "stdout",
     "output_type": "stream",
     "text": [
      "['Police give update on Nkroful Magistrate Court, Esiama Police station chaos.', 'Police officer arrested for allegedly raping girl who reported gang rape.', 'Police give update on Nkroful Magistrate Court, Esiama Police station chaos.', 'Just in: Afia Schwarzenegger arrested by Ghana Police.', 'Police give update on Nkroful Magistrate Court, Esiama Police station chaos.', 'The Western Regional Police Command has, so far, arrested eleven persons for their involvement in the attacks on the Esiama Divisional Headquarters,.', 'Farmer remanded into prison custody for stealing plantains.', 'A Circuit Court at Dormaa-Ahenkro in the Dormaa Central Municipality of the Bono Region has remanded Ibrahim Quattara, 27, farmer, into prison.']\n"
     ]
    }
   ],
   "source": [
    "matches = []\n",
    "#('arm','weapon', 'shot', 'police', 'military', 'drugs', 'suspect')\n",
    "for match in new_list:\n",
    "    if \"arm\" in match:\n",
    "        matches.append(match)\n",
    "    if \"weapon\" in match:\n",
    "        matches.append(match)\n",
    "    if \"shot\" in match:\n",
    "        matches.append(match)\n",
    "    if \"police\" in match:\n",
    "        matches.append(match)\n",
    "    if \"military\" in match:\n",
    "        matches.append(match)\n",
    "    if \"drugs\" in match:\n",
    "        matches.append(match)\n",
    "    if \"suspects\" in match:\n",
    "        matches.append(match)\n",
    "    if \"Arm\" in match:\n",
    "        matches.append(match)\n",
    "    if \"Weapon\" in match:\n",
    "        matches.append(match)\n",
    "    if \"Shot\" in match:\n",
    "        matches.append(match)\n",
    "    if \"Police\" in match:\n",
    "        matches.append(match)\n",
    "    if \"Military\" in match:\n",
    "        matches.append(match)\n",
    "    if \"Drugs\" in match:\n",
    "        matches.append(match)\n",
    "    if \"Kill\" in match:\n",
    "        matches.append(match)\n",
    "    if \"Cannabis\" in match:\n",
    "        matches.append(match)\n",
    "    if \"connnabis\" in match:\n",
    "        matches.append(match)\n",
    "    if \"Cocaine\" in match:\n",
    "        matches.append(match)\n",
    "    if \"cocaine\" in match:\n",
    "        matches.append(match)\n",
    "    if \"weed\" in match:\n",
    "        matches.append(match)\n",
    "print(matches)\n",
    "#kill"
   ]
  },
  {
   "cell_type": "code",
   "execution_count": 326,
   "id": "db35d8c4-8d90-4e23-8f65-bb22f6a845c3",
   "metadata": {},
   "outputs": [],
   "source": [
    "new_ = [s.replace(\",\", \"\") for s in matches]\n",
    "new_l = [s.replace(\".\", \"\") for s in new_]\n",
    "new_li = [s.replace(\"–\", \"\") for s in new_l]\n",
    "new_lis = [s.replace(\"?\", \"\") for s in new_li]\n",
    "new_list = [s.replace(\":\", \"\") for s in new_lis]\n",
    "new_lists = [s.replace(\";\", \"\") for s in new_list]"
   ]
  },
  {
   "cell_type": "code",
   "execution_count": 327,
   "id": "d2f1d66d-6f14-4816-b694-ff06f6ecbbda",
   "metadata": {},
   "outputs": [
    {
     "data": {
      "text/plain": [
       "8"
      ]
     },
     "execution_count": 327,
     "metadata": {},
     "output_type": "execute_result"
    }
   ],
   "source": [
    "len(new_lists)"
   ]
  },
  {
   "cell_type": "code",
   "execution_count": 328,
   "id": "d3d20b30-a49f-43ab-8eca-3f956f3ef2d2",
   "metadata": {},
   "outputs": [
    {
     "data": {
      "text/plain": [
       "['Police give update on Nkroful Magistrate Court Esiama Police station chaos',\n",
       " 'Police officer arrested for allegedly raping girl who reported gang rape',\n",
       " 'Police give update on Nkroful Magistrate Court Esiama Police station chaos',\n",
       " 'Just in Afia Schwarzenegger arrested by Ghana Police',\n",
       " 'Police give update on Nkroful Magistrate Court Esiama Police station chaos',\n",
       " 'The Western Regional Police Command has so far arrested eleven persons for their involvement in the attacks on the Esiama Divisional Headquarters',\n",
       " 'Farmer remanded into prison custody for stealing plantains',\n",
       " 'A Circuit Court at Dormaa-Ahenkro in the Dormaa Central Municipality of the Bono Region has remanded Ibrahim Quattara 27 farmer into prison']"
      ]
     },
     "execution_count": 328,
     "metadata": {},
     "output_type": "execute_result"
    }
   ],
   "source": [
    "new_lists"
   ]
  },
  {
   "cell_type": "code",
   "execution_count": null,
   "id": "5afeafd7-38a0-40eb-9769-cb0d9f22d337",
   "metadata": {},
   "outputs": [],
   "source": []
  },
  {
   "cell_type": "code",
   "execution_count": 329,
   "id": "ed5e909f-cc5b-4330-8dbd-c527cc3b262f",
   "metadata": {},
   "outputs": [],
   "source": [
    "urls = new_lists\n"
   ]
  },
  {
   "cell_type": "code",
   "execution_count": 330,
   "id": "bf353f43-e2e6-4345-94a4-d0a7e0aa7eaf",
   "metadata": {},
   "outputs": [
    {
     "data": {
      "text/plain": [
       "list"
      ]
     },
     "execution_count": 330,
     "metadata": {},
     "output_type": "execute_result"
    }
   ],
   "source": [
    "type(urls)"
   ]
  },
  {
   "cell_type": "code",
   "execution_count": 331,
   "id": "a3560465-e7ba-4ea3-89f7-f903415a8977",
   "metadata": {},
   "outputs": [],
   "source": [
    "col1 = \"topics\""
   ]
  },
  {
   "cell_type": "code",
   "execution_count": 332,
   "id": "88ce6063-51ce-4f52-a689-5cec39d95d4a",
   "metadata": {},
   "outputs": [],
   "source": [
    "data = pd.DataFrame({col1:urls})"
   ]
  },
  {
   "cell_type": "code",
   "execution_count": 333,
   "id": "fbfe9388-d776-4c0f-a0c4-fee5140cfdce",
   "metadata": {},
   "outputs": [],
   "source": [
    "today = (datetime.today().strftime('%Y-%m-%d'),'adomonline')"
   ]
  },
  {
   "cell_type": "code",
   "execution_count": 334,
   "id": "33f99074-2144-4c21-a7f0-31eb60ee1184",
   "metadata": {},
   "outputs": [],
   "source": [
    "# Use str.join() to convert tuple to string.\n",
    "today = ''.join(today)\n"
   ]
  },
  {
   "cell_type": "code",
   "execution_count": 335,
   "id": "6c8b9018-3385-4b50-8f6c-f492503ddf5b",
   "metadata": {},
   "outputs": [],
   "source": [
    "with pd.ExcelWriter(\"C:\\\\Users\\\\kofi\\\\Desktop\\\\selenium.xlsx\", engine=\"openpyxl\", mode=\"a\") as writer:\n",
    "    data.to_excel(writer, sheet_name=today, startrow=0, startcol=0)"
   ]
  },
  {
   "cell_type": "code",
   "execution_count": null,
   "id": "dc2c7514-ea44-441a-ab89-a1b4db3c438e",
   "metadata": {},
   "outputs": [],
   "source": []
  },
  {
   "cell_type": "markdown",
   "id": "aa2e3586-1df8-4d6c-9c0a-df1820b14de6",
   "metadata": {},
   "source": [
    "## atinka"
   ]
  },
  {
   "cell_type": "code",
   "execution_count": 336,
   "id": "b06efdf2-198b-42e2-80ca-5ac44b597f12",
   "metadata": {},
   "outputs": [
    {
     "name": "stdout",
     "output_type": "stream",
     "text": [
      "did not finish loading\n"
     ]
    }
   ],
   "source": [
    "try:\n",
    "    \n",
    "    driver.get(\"https://www.atinkanews.net/\")    \n",
    "    time.sleep(30)   \n",
    "except Exception:\n",
    "    pass\n",
    "print('did not finish loading')"
   ]
  },
  {
   "cell_type": "code",
   "execution_count": 337,
   "id": "11f25875-8ca9-4054-9f75-71e0c8f8f0df",
   "metadata": {},
   "outputs": [
    {
     "name": "stderr",
     "output_type": "stream",
     "text": [
      "C:\\Users\\kofi\\AppData\\Local\\Temp/ipykernel_17312/1622795889.py:1: DeprecationWarning: find_element_by_xpath is deprecated. Please use find_element(by=By.XPATH, value=xpath) instead\n",
      "  i = driver.find_element_by_xpath(\"(//body)[1]\")\n"
     ]
    }
   ],
   "source": [
    "i = driver.find_element_by_xpath(\"(//body)[1]\")\n",
    " #(//div)[39]\n",
    "    #(//div[@class='jeg_viewport'])[1]"
   ]
  },
  {
   "cell_type": "code",
   "execution_count": 338,
   "id": "b9bdc7c9-ea6f-4b95-be8e-4583e69f209d",
   "metadata": {},
   "outputs": [],
   "source": [
    "k = i.text"
   ]
  },
  {
   "cell_type": "code",
   "execution_count": 339,
   "id": "e52871f7-c2f2-4cdb-aeab-0724d6766798",
   "metadata": {},
   "outputs": [],
   "source": [
    "rep = k.replace(\"\\n\", \". \")"
   ]
  },
  {
   "cell_type": "code",
   "execution_count": 340,
   "id": "48c949fd-abf5-45c3-b575-d4bfcdbf0cd1",
   "metadata": {},
   "outputs": [],
   "source": [
    "import re\n",
    "expression = re.compile(r'([A-Z][^\\.!?]*[\\.!?])')\n",
    "new_list = re.findall(expression, rep)"
   ]
  },
  {
   "cell_type": "code",
   "execution_count": 341,
   "id": "f4792581-0967-4932-b39a-85baa60693d4",
   "metadata": {},
   "outputs": [
    {
     "data": {
      "text/plain": [
       "['Atinkanews.',\n",
       " 'Net.',\n",
       " 'NEWS.',\n",
       " 'ENTERTAINMENT NEWS.',\n",
       " 'GOSSIP.',\n",
       " 'VIRAL.',\n",
       " 'Advertisement.',\n",
       " 'Entertainment NewsKabutey Simon - May 6, 2022.',\n",
       " 'Bob Marley’s son, Rohan Marley reacts to Black Sherif’s ‘Kwaku the Traveler [Watch].',\n",
       " 'Entertainment NewsKabutey Simon - May 6, 2022.',\n",
       " 'The thing smells nice – Tonto Dikeh reacts after being ridiculed for showing off her goodies.',\n",
       " 'NewsKabutey Simon - May 6, 2022.',\n",
       " 'Monica Karungi: Govt identifies Ugandan lady who jumped off a building in Dubai.',\n",
       " 'Entertainment NewsKabutey Simon - May 6, 2022.',\n",
       " 'Actress Salma Mumin finally breaks silence on food poisoned reports.',\n",
       " 'Latest News.',\n",
       " 'Entertainment NewsKabutey Simon - May 6, 2022.',\n",
       " 'Tonto Dikeh ridiculed for showing off her raw goodies at a park [video].',\n",
       " 'Nollywood actress Tonto Dikeh has been mocked by netizens after she shared a video of her at a park.',\n",
       " 'Entertainment News.',\n",
       " 'Fantana tension social media with her latest ‘badgirl’ video [Watch].',\n",
       " 'Kabutey Simon - May 5, 2022.',\n",
       " 'Entertainment News.',\n",
       " 'Lady with one leg drops her cruches, shakes waist in cute dance video.',\n",
       " 'Kabutey Simon - May 5, 2022.',\n",
       " 'Movies.',\n",
       " 'Crossdresser attacked & given the beatings of his life by angry mob [Watch].',\n",
       " 'Kabutey Simon - May 5, 2022.',\n",
       " 'Entertainment News.',\n",
       " 'Watch how Captain Smart was celebrated on his birthday [video].',\n",
       " 'Kabutey Simon - May 5, 2022.',\n",
       " 'More News.',\n",
       " 'CelebritiesKabutey Simon - May 5, 2022.',\n",
       " 'All I need in life now is to get married and stop fornicating – Tracey Boakye [watch].',\n",
       " 'Ghanaian actress and producer, Tracey Boakye has told Accra-based Utv that she has achieved a lot in her young life.',\n",
       " 'Seemingly impressed with her level.',\n",
       " 'Entertainment News.',\n",
       " 'Tonto Dikeh causes stir as she shows off her acrobatic skills at a water park [Watch].',\n",
       " 'Kabutey Simon - May 5, 2022.',\n",
       " 'Celebrities.',\n",
       " 'Tracey Boakye puts her East Legon mansion on full display [Watch].',\n",
       " 'Kabutey Simon - May 5, 2022.',\n",
       " 'Entertainment News.',\n",
       " 'Rev Obofour breaks silence on rumours of wedding second wife [video].',\n",
       " 'Kabutey Simon - May 5, 2022.',\n",
       " 'Entertainment News.',\n",
       " 'Dave Chappelle tackled on stage while performing at Hollywood Bowl [Watch].',\n",
       " 'Kabutey Simon - May 5, 2022.',\n",
       " 'Trending Today.',\n",
       " 'Lifestyle BuzzKabutey Simon - May 3, 2022.',\n",
       " 'Dubai Porta Potty : Viral videos of Dubai rich man and Slay Queens.',\n",
       " 'Entertainment NewsKabutey Simon - May 5, 2022.',\n",
       " 'Tonto Dikeh causes stir as she shows off her acrobatic skills at a water park [Watch].',\n",
       " 'Entertainment NewsKabutey Simon - May 5, 2022.',\n",
       " 'Dubai Porta Potty : A celebrity once lured my friend into sleeping with a dog – Korkor discloses.',\n",
       " 'GossipKabutey Simon - May 3, 2022.',\n",
       " 'Dubai Porta Potty : Video of Rich Dubai man єχcretiŋg into Slay Queen’s mouth [watch].',\n",
       " 'Lifestyle BuzzKabutey Simon - May 3, 2022.',\n",
       " 'Confessions from ladies in Dubai Porta Potty (Porta a Potty) business.',\n",
       " 'Advertisement -.',\n",
       " 'General.',\n",
       " 'Serwaa Broni: CHRAJ responds to ASEPA petition to probe Akufo-Addo.',\n",
       " 'Kabutey Simon - May 5, 2022.',\n",
       " 'News.',\n",
       " 'Kabutey Simon - May 5, 2022.',\n",
       " 'News.',\n",
       " 'Mirabel Ezinne : Lady found dead in a hotel in with her private part missing.',\n",
       " 'Kabutey Simon - May 5, 2022.',\n",
       " 'General.',\n",
       " 'CCTV footage of horrific accident at Labone junction emerges [Watch].',\n",
       " 'Kabutey Simon - May 5, 2022.',\n",
       " 'Must Read.',\n",
       " 'Entertainment NewsMay 5, 2022.',\n",
       " 'Mercy Johnson rants over unauthorised debit, urges bank to return her money [video].',\n",
       " 'Entertainment NewsMay 5, 2022.',\n",
       " 'Dubai Porta Potty : A celebrity once lured my friend into sleeping with a dog – Korkor discloses.',\n",
       " 'GeneralMay 4, 2022.',\n",
       " 'Otumfuo Osei Tutu’s arrival in the U.',\n",
       " 'S.',\n",
       " 'A for Memphis in May Festival [Watch].',\n",
       " 'Entertainment NewsMay 4, 2022.',\n",
       " 'Nollywood actor David Osagie dies hours after filming on set.',\n",
       " 'CelebritiesMay 4, 2022.',\n",
       " 'Rising concern for Nollywood actress Genevieve Nnaji as she goes MIA.',\n",
       " 'Lifestyle BuzzMay 4, 2022.',\n",
       " 'Monica Karungi: More details on Ugandan lady who jumped off Dubai tower emerge [Watch].',\n",
       " 'Entertainment News.',\n",
       " 'Nana Agradaa goofs on live radio, quotes non-existent Bible quotation while preaching [video].',\n",
       " 'Kabutey Simon - May 4, 2022.',\n",
       " 'Evangelist Patricia Oduro Koranteng aka Nana Agradaa has invited scrutiny over her repentance after a disastrous attempt to preach the word of God.',\n",
       " \"Just when social media is recovering from how Nana Agradaa goofed by mistaking 'alter call' as 'water.\",\n",
       " 'CelebritiesMay 4, 2022.',\n",
       " 'Travelling and shopping keep me entertained – Actress Jackie Appiah.',\n",
       " 'GeneralMay 4, 2022.',\n",
       " 'Video of dirty Korle Bu mortuary with bodies scattered around disturbs Ghanaians.',\n",
       " 'CelebritiesMay 4, 2022.',\n",
       " 'Nana Frema : Ghanaian actress hints at suicide for the second time.',\n",
       " 'GeneralMay 3, 2022.',\n",
       " 'Adwoa Safo’s son cruises in a convertible Lamborghini on his birthday [watch].',\n",
       " 'Lifestyle BuzzKabutey Simon - May 3, 2022.',\n",
       " 'Confessions from ladies in Dubai Porta Potty (Porta a Potty) business.',\n",
       " 'The ‘Dubai Porta Potty’ is rumoured to be something that influencers and other young women do in exchange for money or gifts in the.',\n",
       " 'NewsMay 3, 2022.',\n",
       " 'Heart-breaking video shows how Mona Kizz jump to her death from Dubai tower [Watch].',\n",
       " 'GossipMay 3, 2022.',\n",
       " 'Dubai Porta Potty : Video of Rich Dubai man єχcretiŋg into Slay Queen’s mouth [watch].',\n",
       " 'Lifestyle BuzzMay 3, 2022.',\n",
       " 'Dubai Porta Potty : Viral videos of Dubai rich man and Slay Queens.',\n",
       " 'Entertainment NewsMay 3, 2022.',\n",
       " 'Marrying a second wife my best decision in life – Nollywood actor Yul Edochie.',\n",
       " 'GeneralMay 3, 2022.',\n",
       " 'A new NDC government in 2025 will repeal the E-Levy Act’ – John Mahama.',\n",
       " 'GossipMay 3, 2022.',\n",
       " 'Lady steals show at wedding ceremony, scatters dance floor with wild moves [video].',\n",
       " 'GossipMay 3, 2022.',\n",
       " 'Man shocks internet with photos of every woman he has slept with.',\n",
       " 'NewsMay 3, 2022.',\n",
       " 'Shocking details emerge on Ugandan lady who jumped to her death from Dubai tower [Watch].',\n",
       " 'CelebritiesMay 3, 2022.',\n",
       " 'Mercy Johnson and her kids jump, dance, and swim as rain pours heavily on them [watch].',\n",
       " 'CelebritiesMay 3, 2022.',\n",
       " 'Yul Edochie is my dream job and I don’t dream of suffering”- Judy Austin writes.',\n",
       " 'CelebritiesMay 2, 2022.',\n",
       " 'Yvonne Nelson and Majid Michel crack ribs as they recreate throwback video.',\n",
       " 'Ghana NewsMay 2, 2022.',\n",
       " 'Police on manhunt for lady who slept with a dog for 1.',\n",
       " 'NewsMay 2, 2022.',\n",
       " 'Ugandan woman jumps to her death from lavish hotel in Dubai [Watch].',\n",
       " 'Entertainment NewsMay 2, 2022.',\n",
       " 'E-levy : Actress Fella Makafui cries out after losing GH¢150 on one transaction.',\n",
       " 'Entertainment NewsMay 2, 2022.',\n",
       " 'You are pitiful’ – Nana Tornado to Afia Schwar amidst KLM flight brouhaha [watch].',\n",
       " 'GossipMay 2, 2022.',\n",
       " 'Small-sized man marries tall and huge lady as second wife [video].',\n",
       " 'Load more.',\n",
       " 'AtinkaNews.',\n",
       " 'Ghana’s online news and entertainment platform of a new generation that delivers most original content to readers in Ghana and Global AtinkaNews.',\n",
       " 'Viral Content, and Latest News.',\n",
       " 'Contact us: info@atinkanews.',\n",
       " 'Editor Picks.',\n",
       " 'Latest video of Maame Serwaa shaking her big body while dancing causes stir.',\n",
       " 'February 11, 2020.',\n",
       " 'Watch | Sarkodie Requests Kelvyn Boy’s “Down Flat” At A Club In London.',\n",
       " 'March 8, 2022.',\n",
       " 'Video of Police Officers beating up Blackman in “wheelchair” causes stirs online.',\n",
       " 'March 2, 2021.',\n",
       " 'Latest News.',\n",
       " 'Bob Marley’s son, Rohan Marley reacts to Black Sherif’s ‘Kwaku the Traveler [Watch].',\n",
       " 'May 6, 2022.',\n",
       " 'The thing smells nice – Tonto Dikeh reacts after being ridiculed for showing off her goodies.',\n",
       " 'May 6, 2022.',\n",
       " 'Monica Karungi: Govt identifies Ugandan lady who jumped off a building in Dubai.',\n",
       " 'May 6, 2022.',\n",
       " 'Popular Categories.',\n",
       " 'Entertainment News.',\n",
       " 'Gossip.',\n",
       " 'Videos.',\n",
       " 'News.',\n",
       " 'Celebrities.',\n",
       " 'Lifestyle Buzz.',\n",
       " 'Nigeria News.',\n",
       " 'General.',\n",
       " 'AtinkNews.',\n",
       " 'Net - All RIghts Reserved 2021.',\n",
       " 'About us.',\n",
       " 'Contact Us.',\n",
       " 'Advertise With Us.',\n",
       " 'Privacy Policy.',\n",
       " 'Terms and Conditions.',\n",
       " 'Stay updated with the latest Entertainment & Lifestyle News.',\n",
       " 'Enable.']"
      ]
     },
     "execution_count": 341,
     "metadata": {},
     "output_type": "execute_result"
    }
   ],
   "source": [
    "new_list"
   ]
  },
  {
   "cell_type": "code",
   "execution_count": 342,
   "id": "f49206a9-f4bd-4aea-9779-dfc6622c69ed",
   "metadata": {},
   "outputs": [
    {
     "name": "stdout",
     "output_type": "stream",
     "text": [
      "['Police on manhunt for lady who slept with a dog for 1.', 'Video of Police Officers beating up Blackman in “wheelchair” causes stirs online.']\n"
     ]
    }
   ],
   "source": [
    "matches = []\n",
    "#('arm','weapon', 'shot', 'police', 'military', 'drugs', 'suspect')\n",
    "for match in new_list:\n",
    "    if \"arm\" in match:\n",
    "        matches.append(match)\n",
    "    if \"weapon\" in match:\n",
    "        matches.append(match)\n",
    "    if \"shot\" in match:\n",
    "        matches.append(match)\n",
    "    if \"police\" in match:\n",
    "        matches.append(match)\n",
    "    if \"military\" in match:\n",
    "        matches.append(match)\n",
    "    if \"drugs\" in match:\n",
    "        matches.append(match)\n",
    "    if \"suspects\" in match:\n",
    "        matches.append(match)\n",
    "    if \"Arm\" in match:\n",
    "        matches.append(match)\n",
    "    if \"Weapon\" in match:\n",
    "        matches.append(match)\n",
    "    if \"Shot\" in match:\n",
    "        matches.append(match)\n",
    "    if \"Police\" in match:\n",
    "        matches.append(match)\n",
    "    if \"Military\" in match:\n",
    "        matches.append(match)\n",
    "    if \"Drugs\" in match:\n",
    "        matches.append(match)\n",
    "    if \"Kill\" in match:\n",
    "        matches.append(match)\n",
    "    if \"Cannabis\" in match:\n",
    "        matches.append(match)\n",
    "    if \"connnabis\" in match:\n",
    "        matches.append(match)\n",
    "    if \"Cocaine\" in match:\n",
    "        matches.append(match)\n",
    "    if \"cocaine\" in match:\n",
    "        matches.append(match)\n",
    "    if \"weed\" in match:\n",
    "        matches.append(match)\n",
    "print(matches)\n",
    "#kill"
   ]
  },
  {
   "cell_type": "code",
   "execution_count": 343,
   "id": "43aa5202-dc5c-45bf-8343-a736bb681584",
   "metadata": {},
   "outputs": [],
   "source": [
    "new_ = [s.replace(\",\", \"\") for s in matches]\n",
    "new_l = [s.replace(\".\", \"\") for s in new_]\n",
    "new_li = [s.replace(\"–\", \"\") for s in new_l]\n",
    "new_lis = [s.replace(\"?\", \"\") for s in new_li]\n",
    "new_list = [s.replace(\":\", \"\") for s in new_lis]\n",
    "new_lists = [s.replace(\";\", \"\") for s in new_list]"
   ]
  },
  {
   "cell_type": "code",
   "execution_count": 344,
   "id": "d0a30c0a-855f-4fc0-9bf6-4c7c8a7f0fc1",
   "metadata": {},
   "outputs": [
    {
     "data": {
      "text/plain": [
       "2"
      ]
     },
     "execution_count": 344,
     "metadata": {},
     "output_type": "execute_result"
    }
   ],
   "source": [
    "len(new_lists)"
   ]
  },
  {
   "cell_type": "code",
   "execution_count": 345,
   "id": "588c6e49-4e88-4801-bfb1-e5a12c6cca6c",
   "metadata": {},
   "outputs": [
    {
     "data": {
      "text/plain": [
       "['Police on manhunt for lady who slept with a dog for 1',\n",
       " 'Video of Police Officers beating up Blackman in “wheelchair” causes stirs online']"
      ]
     },
     "execution_count": 345,
     "metadata": {},
     "output_type": "execute_result"
    }
   ],
   "source": [
    "new_lists"
   ]
  },
  {
   "cell_type": "code",
   "execution_count": null,
   "id": "5b00b093-3e19-4947-a181-8d23253a78cb",
   "metadata": {},
   "outputs": [],
   "source": []
  },
  {
   "cell_type": "code",
   "execution_count": 346,
   "id": "c3e01d73-3903-4be8-a001-048d564d5db9",
   "metadata": {},
   "outputs": [],
   "source": [
    "urls = new_lists\n"
   ]
  },
  {
   "cell_type": "code",
   "execution_count": 347,
   "id": "d4c3c210-1e95-42b3-adb9-2af8eeb1e43c",
   "metadata": {},
   "outputs": [
    {
     "data": {
      "text/plain": [
       "list"
      ]
     },
     "execution_count": 347,
     "metadata": {},
     "output_type": "execute_result"
    }
   ],
   "source": [
    "type(urls)"
   ]
  },
  {
   "cell_type": "code",
   "execution_count": 348,
   "id": "ce2a3d10-c429-400e-a2cd-5d2a9de22d7d",
   "metadata": {},
   "outputs": [],
   "source": [
    "col1 = \"topics\""
   ]
  },
  {
   "cell_type": "code",
   "execution_count": 349,
   "id": "1860221d-3561-4eb7-919a-53ec1353e0ab",
   "metadata": {},
   "outputs": [],
   "source": [
    "data = pd.DataFrame({col1:urls})"
   ]
  },
  {
   "cell_type": "code",
   "execution_count": 350,
   "id": "7a1cc236-ed5a-4755-9534-29ec4f5613e1",
   "metadata": {},
   "outputs": [],
   "source": [
    "today = (datetime.today().strftime('%Y-%m-%d'),'atinka')"
   ]
  },
  {
   "cell_type": "code",
   "execution_count": 351,
   "id": "60256d7b-44b2-479d-a777-a5e039465479",
   "metadata": {},
   "outputs": [],
   "source": [
    "# Use str.join() to convert tuple to string.\n",
    "today = ''.join(today)\n"
   ]
  },
  {
   "cell_type": "code",
   "execution_count": 352,
   "id": "0f5c9bd7-f3c4-48f6-b181-5222f6cf6dd4",
   "metadata": {},
   "outputs": [],
   "source": [
    "with pd.ExcelWriter(\"C:\\\\Users\\\\kofi\\\\Desktop\\\\selenium.xlsx\", engine=\"openpyxl\", mode=\"a\") as writer:\n",
    "    data.to_excel(writer, sheet_name=today, startrow=0, startcol=0)"
   ]
  },
  {
   "cell_type": "markdown",
   "id": "1b9c29d6-07e2-46a8-8237-413f743a7f96",
   "metadata": {},
   "source": [
    "## dailyguide"
   ]
  },
  {
   "cell_type": "code",
   "execution_count": 353,
   "id": "21569a08-8f26-4f0f-95d0-d4c2d3edf8ef",
   "metadata": {},
   "outputs": [
    {
     "name": "stdout",
     "output_type": "stream",
     "text": [
      "did not finish loading\n"
     ]
    }
   ],
   "source": [
    "try:\n",
    "    \n",
    "    driver.get(\"https://dailyguidenetwork.com/\")    \n",
    "    time.sleep(30)   \n",
    "except Exception:\n",
    "    pass\n",
    "print('did not finish loading')"
   ]
  },
  {
   "cell_type": "code",
   "execution_count": 354,
   "id": "450b4a73-af7b-4091-bf5f-8bb6983bbf4f",
   "metadata": {},
   "outputs": [
    {
     "name": "stderr",
     "output_type": "stream",
     "text": [
      "C:\\Users\\kofi\\AppData\\Local\\Temp/ipykernel_17312/1622795889.py:1: DeprecationWarning: find_element_by_xpath is deprecated. Please use find_element(by=By.XPATH, value=xpath) instead\n",
      "  i = driver.find_element_by_xpath(\"(//body)[1]\")\n"
     ]
    }
   ],
   "source": [
    "i = driver.find_element_by_xpath(\"(//body)[1]\")\n",
    " #(//div)[39]\n",
    "    #(//div[@class='jeg_viewport'])[1]"
   ]
  },
  {
   "cell_type": "code",
   "execution_count": 355,
   "id": "61328ca6-e75c-44a7-a50d-ed251a348d95",
   "metadata": {},
   "outputs": [],
   "source": [
    "k = i.text"
   ]
  },
  {
   "cell_type": "code",
   "execution_count": 356,
   "id": "0062222e-0879-4982-ad32-e3319fcb2a86",
   "metadata": {},
   "outputs": [],
   "source": [
    "rep = k.replace(\"\\n\", \". \")"
   ]
  },
  {
   "cell_type": "code",
   "execution_count": 357,
   "id": "6f01ca0d-938a-40f5-8607-c5565a740d1b",
   "metadata": {},
   "outputs": [],
   "source": [
    "import re\n",
    "expression = re.compile(r'([A-Z][^\\.!?]*[\\.!?])')\n",
    "new_list = re.findall(expression, rep)"
   ]
  },
  {
   "cell_type": "code",
   "execution_count": 358,
   "id": "4523e3a0-3160-498b-b5a1-6cfaeb7518b8",
   "metadata": {},
   "outputs": [
    {
     "data": {
      "text/plain": [
       "['NEWS.',\n",
       " 'COVID-19.',\n",
       " 'GUIDE RADIO.',\n",
       " 'ENTERTAINMENT.',\n",
       " 'COLUMNIST.',\n",
       " 'EDITORIAL.',\n",
       " 'GALLERY.',\n",
       " 'GUIDE RADIO LIVE.',\n",
       " 'LIVE TV.',\n",
       " \"WHAT'S NEW.\",\n",
       " 'GENERAL NEWS ECG EXTENDS DEBT PAYMENT FOR KROBO CUSTOMERS.',\n",
       " 'POLITICS.',\n",
       " 'I’ve Strong Faith In God -Says Akufo-Addo.',\n",
       " 'GENERAL NEWS.',\n",
       " 'Digitization: Passport Office Rakes In Over GH¢56m in 2021 – Bawumia.',\n",
       " 'GENERAL NEWS.',\n",
       " 'Ato Essien Dares High Court.',\n",
       " 'GENERAL NEWS.',\n",
       " 'Man Dies In Hotel After Marathon Sex.',\n",
       " 'GENERAL NEWS.',\n",
       " 'JHS Student In Trouble For Faking Kidnap, Demanding GH¢20,000 From Father.',\n",
       " 'GENERAL NEWS.',\n",
       " 'Nkroful Youth Arrested For Attacking Police Station.',\n",
       " 'CORONAVIRUS PANDEMIC.',\n",
       " 'COVID-19 HEALTH.',\n",
       " 'No COVID-19 Case On Admission- GHS.',\n",
       " 'April 27, 2022.',\n",
       " 'COVID-19 HEALTH.',\n",
       " 'US Gives Ghana $24.',\n",
       " 'For COVID-19 Vaccination.',\n",
       " 'April 4, 2022.',\n",
       " 'COVID-19 GENERAL NEWS.',\n",
       " 'COVID-19 Wahala: Nana Opens Borders, No Nose Masks, Testing At KIA.',\n",
       " 'March 28, 2022.',\n",
       " 'COVID-19 HEALTH.',\n",
       " 'Ghana Signs Covid-19 Vaccine Protection Deal February.',\n",
       " 'January 26, 2022.',\n",
       " 'GENERAL NEWS.',\n",
       " 'GENERAL NEWS.',\n",
       " 'Stop Food Wastage’.',\n",
       " 'May 6, 2022.',\n",
       " 'Dr.',\n",
       " 'Stella Duah Agyemang (seated 3rd right) with the stakeholders A Research Scientist at the Biotechnology and Nuclear Agriculture Research Institute of the Ghana Atomic Energy Commission, Dr.',\n",
       " 'Stella Duah Agyemang,.',\n",
       " 'Read More….',\n",
       " 'GENERAL NEWS.',\n",
       " 'Youth In Afforestation Embark On Strike.',\n",
       " 'May 6, 2022.',\n",
       " 'GENERAL NEWS.',\n",
       " 'ECG Extends Debt Payment For Krobo Customers.',\n",
       " 'May 6, 2022.',\n",
       " 'GENERAL NEWS.',\n",
       " 'Die In Accident On Amonokrom-Mamfe Road.',\n",
       " 'May 6, 2022.',\n",
       " 'GENERAL NEWS.',\n",
       " 'Father Shoots Son Over TV Set.',\n",
       " 'May 6, 2022.',\n",
       " 'POLITICS.',\n",
       " 'POLITICS.',\n",
       " 'Corruption Needs Transparency Vaccine’.',\n",
       " 'May 6, 2022.',\n",
       " 'Vice President Dr.',\n",
       " 'Mahamudu Bawumia VICE PRESIDENT Dr.',\n",
       " 'Mahamudu Bawumia has stated that transparency is the vaccine to provide the country immunity against corruption.',\n",
       " 'According to him, corrupt people hate transparency,.',\n",
       " 'Read More….',\n",
       " 'POLITICS.',\n",
       " 'I’ve Strong Faith In God -Says Akufo-Addo.',\n",
       " 'May 6, 2022.',\n",
       " 'President Nana Akufo-Addo exchanging pleasantries with an official of the Museum of the Bible in Washington President Nana Addo Dankwa Akufo-Addo has been sharing amazing real life stories far away.',\n",
       " 'Read More….',\n",
       " 'POLITICS.',\n",
       " 'John Kumah Denies Momo Rejection Arrest.',\n",
       " 'May 6, 2022.',\n",
       " 'POLITICS.',\n",
       " 'Corrupt people hate transparency – Dr Bawumia.',\n",
       " 'May 5, 2022.',\n",
       " 'POLITICS.',\n",
       " 'NPP Charges New Officers.',\n",
       " 'May 5, 2022.',\n",
       " 'POLITICS.',\n",
       " 'Mahama Marshalls Professionals Against NPP.',\n",
       " 'May 5, 2022.',\n",
       " 'BUSINESS.',\n",
       " 'BUSINESS.',\n",
       " 'Gold Fields 1st Quarter Results Exciting.',\n",
       " 'May 6, 2022.',\n",
       " 'Chris Griffith DESPITE THE global challenges, Gold Fields had a solid first quarter of this year.',\n",
       " 'The group’s attributable equivalent gold production was 580,000 ounces, up 7% year-on-year (YoY), down.',\n",
       " 'Read More….',\n",
       " 'BUSINESS.',\n",
       " 'Jamila Home Wins Responsible Interior Business & Leadership Excellence Award.',\n",
       " 'May 6, 2022.',\n",
       " 'BUSINESS.',\n",
       " 'Access Bank Honours 30 Women Under ‘W’ Project.',\n",
       " 'May 5, 2022.',\n",
       " 'BUSINESS.',\n",
       " 'Ghana’s Petroleum Industry Offering Higher Returns’.',\n",
       " 'May 5, 2022.',\n",
       " 'BUSINESS.',\n",
       " 'Unilever Launches Closeup Complete Fresh Protection.',\n",
       " 'May 5, 2022.',\n",
       " 'BUSINESS.',\n",
       " 'CSA, GAB Collaborate To Improve Digital Ecosystem.',\n",
       " 'May 5, 2022.',\n",
       " 'SPORTS.',\n",
       " 'SPORTS.',\n",
       " 'Chelsea sale: Abramovich Denies He Wants Loan To Blues Repaid When Club Is Sold.',\n",
       " 'May 6, 2022.',\n",
       " 'SPORTS.',\n",
       " 'Tammy Abraham fires Roma into Conference League final.',\n",
       " 'May 6, 2022.',\n",
       " 'SPORTS.',\n",
       " 'Salah Wants Real – Liverpool Final.',\n",
       " 'May 5, 2022.',\n",
       " 'SPORTS.',\n",
       " 'De-luxy Professional Boxing League Fight Night 5 Produces Fireworks.',\n",
       " 'May 5, 2022.',\n",
       " 'SPORTS.',\n",
       " 'Real Madrid Fight Back To Stun Manchester City And Reach 16th European Cup final.',\n",
       " 'May 5, 2022.',\n",
       " 'SPORTS.',\n",
       " 'Dortmund Have Permitted Me To Lead Black Stars- Otto Addo.',\n",
       " 'May 4, 2022.',\n",
       " 'LIFE STYLE & ENTERTAINMENT.',\n",
       " 'ENTERTAINMENT.',\n",
       " 'Miss Tourism Ghana 2022 Launched.',\n",
       " 'May 6, 2022.',\n",
       " 'Sedinam; Miss Tourism Ghana Chaperone and Delphine Brew-Hammond; Director of Events and Operations Miss Tourism Ghana organisation Miss Tourism Ghana 2022 has been launched to continue the tradition of promoting.',\n",
       " 'Read More….',\n",
       " 'ENTERTAINMENT.',\n",
       " 'DJ Sly Rebrands To DJ Sly King.',\n",
       " 'May 6, 2022.',\n",
       " 'DJ Sly King  Multi-talented disc jockey and producer, Gideon Alorgbey, popularly known as DJ Sly, has rebranded to a new stage name.',\n",
       " 'He is now called DJ Sly King.',\n",
       " 'The new.',\n",
       " 'Read More….',\n",
       " 'ENTERTAINMENT.',\n",
       " 'Ghone TV Loses Another Presenter To TV3 Family.',\n",
       " 'May 6, 2022.',\n",
       " 'ENTERTAINMENT.',\n",
       " 'Support Def Jam Deal, It’s Big-Stonebwoy.',\n",
       " 'May 5, 2022.',\n",
       " 'ENTERTAINMENT.',\n",
       " 'MzVee Celebrates 10 Years In Music.',\n",
       " 'May 5, 2022.',\n",
       " 'ENTERTAINMENT.',\n",
       " 'I Lost Roles Because Of My Size’.',\n",
       " 'May 5, 2022.',\n",
       " 'COVID-19 STATS.',\n",
       " 'Ghana.',\n",
       " 'Active Cases.',\n",
       " 'New Cases | 159,592 Recoveries.',\n",
       " 'Deaths.',\n",
       " 'Source : Ghana Health Service COVID-19 Page.',\n",
       " 'Global.',\n",
       " 'Cases | 6,176,420 Deaths.',\n",
       " 'Global Doses Administered.',\n",
       " \"Source : John's Hopkins Coronavirus Resource Center Page.\",\n",
       " 'GUIDE RADIO LIVE.',\n",
       " 'Location :.',\n",
       " 'Nima Police Station, turn right to Stephen Amartey Close, Nima Residential.',\n",
       " 'Phone : (+233) 302 229 576 | (+233) 302 232 760 | (+233) 302 231 459.',\n",
       " 'Daily Guide Network.']"
      ]
     },
     "execution_count": 358,
     "metadata": {},
     "output_type": "execute_result"
    }
   ],
   "source": [
    "new_list"
   ]
  },
  {
   "cell_type": "code",
   "execution_count": 359,
   "id": "5621ff83-d084-44f9-a95b-28713c806941",
   "metadata": {},
   "outputs": [
    {
     "name": "stdout",
     "output_type": "stream",
     "text": [
      "['Nkroful Youth Arrested For Attacking Police Station.', 'Nima Police Station, turn right to Stephen Amartey Close, Nima Residential.']\n"
     ]
    }
   ],
   "source": [
    "matches = []\n",
    "#('arm','weapon', 'shot', 'police', 'military', 'drugs', 'suspect')\n",
    "for match in new_list:\n",
    "    if \"arm\" in match:\n",
    "        matches.append(match)\n",
    "    if \"weapon\" in match:\n",
    "        matches.append(match)\n",
    "    if \"shot\" in match:\n",
    "        matches.append(match)\n",
    "    if \"police\" in match:\n",
    "        matches.append(match)\n",
    "    if \"military\" in match:\n",
    "        matches.append(match)\n",
    "    if \"drugs\" in match:\n",
    "        matches.append(match)\n",
    "    if \"suspects\" in match:\n",
    "        matches.append(match)\n",
    "    if \"Arm\" in match:\n",
    "        matches.append(match)\n",
    "    if \"Weapon\" in match:\n",
    "        matches.append(match)\n",
    "    if \"Shot\" in match:\n",
    "        matches.append(match)\n",
    "    if \"Police\" in match:\n",
    "        matches.append(match)\n",
    "    if \"Military\" in match:\n",
    "        matches.append(match)\n",
    "    if \"Drugs\" in match:\n",
    "        matches.append(match)\n",
    "    if \"Kill\" in match:\n",
    "        matches.append(match)\n",
    "    if \"Cannabis\" in match:\n",
    "        matches.append(match)\n",
    "    if \"connnabis\" in match:\n",
    "        matches.append(match)\n",
    "    if \"Cocaine\" in match:\n",
    "        matches.append(match)\n",
    "    if \"cocaine\" in match:\n",
    "        matches.append(match)\n",
    "    if \"weed\" in match:\n",
    "        matches.append(match)\n",
    "print(matches)\n",
    "#kill"
   ]
  },
  {
   "cell_type": "code",
   "execution_count": 360,
   "id": "bb3fe277-b514-4205-be10-684a9b6b43a6",
   "metadata": {},
   "outputs": [],
   "source": [
    "new_ = [s.replace(\",\", \"\") for s in matches]\n",
    "new_l = [s.replace(\".\", \"\") for s in new_]\n",
    "new_li = [s.replace(\"–\", \"\") for s in new_l]\n",
    "new_lis = [s.replace(\"?\", \"\") for s in new_li]\n",
    "new_list = [s.replace(\":\", \"\") for s in new_lis]\n",
    "new_lists = [s.replace(\";\", \"\") for s in new_list]"
   ]
  },
  {
   "cell_type": "code",
   "execution_count": 361,
   "id": "360c4fb5-8cd9-4302-b30f-a9486b7c77a1",
   "metadata": {},
   "outputs": [
    {
     "data": {
      "text/plain": [
       "2"
      ]
     },
     "execution_count": 361,
     "metadata": {},
     "output_type": "execute_result"
    }
   ],
   "source": [
    "len(new_lists)"
   ]
  },
  {
   "cell_type": "code",
   "execution_count": 362,
   "id": "cc598997-1cc0-4cb9-85c2-d3db65cc0172",
   "metadata": {},
   "outputs": [
    {
     "data": {
      "text/plain": [
       "['Nkroful Youth Arrested For Attacking Police Station',\n",
       " 'Nima Police Station turn right to Stephen Amartey Close Nima Residential']"
      ]
     },
     "execution_count": 362,
     "metadata": {},
     "output_type": "execute_result"
    }
   ],
   "source": [
    "new_lists"
   ]
  },
  {
   "cell_type": "code",
   "execution_count": null,
   "id": "23f2a9af-97ff-4856-8ad4-27773e100e06",
   "metadata": {},
   "outputs": [],
   "source": []
  },
  {
   "cell_type": "code",
   "execution_count": 363,
   "id": "0fd799bc-2a8b-4e41-b67e-cd2b7ef239a3",
   "metadata": {},
   "outputs": [],
   "source": [
    "urls = new_lists\n"
   ]
  },
  {
   "cell_type": "code",
   "execution_count": 364,
   "id": "9a038f2d-3da0-4369-a0ac-b3bce35af2d8",
   "metadata": {},
   "outputs": [
    {
     "data": {
      "text/plain": [
       "list"
      ]
     },
     "execution_count": 364,
     "metadata": {},
     "output_type": "execute_result"
    }
   ],
   "source": [
    "type(urls)"
   ]
  },
  {
   "cell_type": "code",
   "execution_count": 365,
   "id": "c301ecdc-c0d0-4a5c-8b50-4793fba1ca02",
   "metadata": {},
   "outputs": [],
   "source": [
    "col1 = \"topics\""
   ]
  },
  {
   "cell_type": "code",
   "execution_count": 366,
   "id": "3e1b33d6-653d-4d24-9f8a-fb98ea3d21c7",
   "metadata": {},
   "outputs": [],
   "source": [
    "data = pd.DataFrame({col1:urls})"
   ]
  },
  {
   "cell_type": "code",
   "execution_count": 367,
   "id": "e7a8ae0c-c68f-4e0d-ba7b-21532ca4debd",
   "metadata": {},
   "outputs": [],
   "source": [
    "today = (datetime.today().strftime('%Y-%m-%d'),'dailyguide')"
   ]
  },
  {
   "cell_type": "code",
   "execution_count": 368,
   "id": "b4174df3-25a8-443f-908a-90a0fb98f431",
   "metadata": {},
   "outputs": [],
   "source": [
    "# Use str.join() to convert tuple to string.\n",
    "today = ''.join(today)\n"
   ]
  },
  {
   "cell_type": "code",
   "execution_count": 369,
   "id": "6ba2cc51-2110-4b13-9d8f-92c94649b996",
   "metadata": {},
   "outputs": [],
   "source": [
    "with pd.ExcelWriter(\"C:\\\\Users\\\\kofi\\\\Desktop\\\\selenium.xlsx\", engine=\"openpyxl\", mode=\"a\") as writer:\n",
    "    data.to_excel(writer, sheet_name=today, startrow=0, startcol=0)"
   ]
  },
  {
   "cell_type": "code",
   "execution_count": null,
   "id": "b1c1fc6a-955c-464a-82db-6f2b4c226ea3",
   "metadata": {},
   "outputs": [],
   "source": []
  },
  {
   "cell_type": "markdown",
   "id": "ff1a93a0-0e81-4c49-86e9-472b4060fd76",
   "metadata": {},
   "source": [
    "## thechronicle"
   ]
  },
  {
   "cell_type": "code",
   "execution_count": 370,
   "id": "ddfdd478-2cd9-4764-ae9f-4fa84a77dc8f",
   "metadata": {},
   "outputs": [
    {
     "name": "stdout",
     "output_type": "stream",
     "text": [
      "did not finish loading\n"
     ]
    }
   ],
   "source": [
    "try:\n",
    "    \n",
    "    driver.get(\"https://thechronicle.com.gh/\")    \n",
    "    time.sleep(30)   \n",
    "except Exception:\n",
    "    pass\n",
    "print('did not finish loading')"
   ]
  },
  {
   "cell_type": "code",
   "execution_count": 371,
   "id": "bc2b8951-378d-402f-90cc-50fcd595dc12",
   "metadata": {},
   "outputs": [
    {
     "name": "stderr",
     "output_type": "stream",
     "text": [
      "C:\\Users\\kofi\\AppData\\Local\\Temp/ipykernel_17312/1622795889.py:1: DeprecationWarning: find_element_by_xpath is deprecated. Please use find_element(by=By.XPATH, value=xpath) instead\n",
      "  i = driver.find_element_by_xpath(\"(//body)[1]\")\n"
     ]
    }
   ],
   "source": [
    "i = driver.find_element_by_xpath(\"(//body)[1]\")\n",
    " #(//div)[39]\n",
    "    #(//div[@class='jeg_viewport'])[1]"
   ]
  },
  {
   "cell_type": "code",
   "execution_count": 372,
   "id": "e5924fc0-4f46-44bd-a17f-61d2247f2fd2",
   "metadata": {},
   "outputs": [],
   "source": [
    "k = i.text"
   ]
  },
  {
   "cell_type": "code",
   "execution_count": 373,
   "id": "cedf94b3-f260-4c02-98e4-69b8f93fdb2c",
   "metadata": {},
   "outputs": [],
   "source": [
    "rep = k.replace(\"\\n\", \". \")"
   ]
  },
  {
   "cell_type": "code",
   "execution_count": 374,
   "id": "90f9ec32-e6f8-4c7e-8e6d-54d83de19b1f",
   "metadata": {},
   "outputs": [],
   "source": [
    "import re\n",
    "expression = re.compile(r'([A-Z][^\\.!?]*[\\.!?])')\n",
    "new_list = re.findall(expression, rep)"
   ]
  },
  {
   "cell_type": "code",
   "execution_count": 375,
   "id": "8cc8c8fa-ca99-4dab-bd18-2856fd9b584b",
   "metadata": {},
   "outputs": [
    {
     "data": {
      "text/plain": [
       "['NEWS.',\n",
       " 'BUSINESS.',\n",
       " 'POLITICS.',\n",
       " 'ENTERTAINMENT.',\n",
       " 'OPINION EDITORIAL SPORTS HEALTH NIGERIA MORE.',\n",
       " 'NIGERIA.',\n",
       " 'Two killed as explosion rocks another oil facility in Imo.',\n",
       " 'Two persons were killed, on Wednesday, when bomb exploded at an oil facility in Izombe, Oguta Local Government Area of .',\n",
       " 'By ADMIN.',\n",
       " 'NIGERIA.',\n",
       " 'Lebanese arrested for knocking down woman in Lagos.',\n",
       " 'NIGERIA.',\n",
       " 'Royal family member to die by hanging for killing Ekiti monarch.',\n",
       " 'NIGERIA.',\n",
       " 'Presidency is not an inheritance …Fayemi on allegations of betraying Tinubu.',\n",
       " 'BUSINESS.',\n",
       " 'By ADMIN.',\n",
       " 'BUSINESS.',\n",
       " 'Promise to scrap e-levy: it’s a scam – NPP.',\n",
       " 'By ADMIN.',\n",
       " 'GENERAL NEWS.',\n",
       " 'Dormaahene proposes monthly stipend for Assembly Members.',\n",
       " 'BUSINESS.',\n",
       " 'Newmont Ghana trains 24 illegal miners in alternative livelihood.',\n",
       " 'BUSINESS.',\n",
       " 'NPP election: Incumbent Asuogyamn execs defeated.',\n",
       " 'POLITICS.',\n",
       " 'Zenith Bank (Ghana) gets new MD.',\n",
       " 'BUSINESS.',\n",
       " 'LATEST NEWS.',\n",
       " 'Two killed as explosion rocks another oil facility in Imo.',\n",
       " 'By ADMIN22 mins ago.',\n",
       " 'NIGERIA.',\n",
       " 'Lebanese arrested for knocking down woman in Lagos.',\n",
       " 'By ADMIN25 mins ago.',\n",
       " 'NIGERIA.',\n",
       " 'Royal family member to die by hanging for killing Ekiti monarch.',\n",
       " 'By ADMIN28 mins ago.',\n",
       " 'NIGERIA.',\n",
       " 'Presidency is not an inheritance …Fayemi on allegations of betraying Tinubu.',\n",
       " 'By ADMIN29 mins ago.',\n",
       " 'NIGERIA.',\n",
       " 'By ADMIN31 mins ago.',\n",
       " 'BUSINESS.',\n",
       " 'Broccoli: Food of Choice for lowering  blood sugar, fights Cancer.',\n",
       " 'By ADMIN38 mins ago.',\n",
       " 'HEALTH.',\n",
       " 'Kanye West sued by Pastor over his sermon on ‘Donda’ track.',\n",
       " 'By NANA KWESI COOMSON47 mins ago.',\n",
       " 'ENTERTAINMENT NEWS.',\n",
       " 'Ray J reveals how his sex tape with Kim Kardashian was negotiated.',\n",
       " 'By NANA KWESI COOMSON49 mins ago.',\n",
       " 'ENTERTAINMENT NEWS.',\n",
       " 'Tom Cruise arrives in helicopter to star-studded premiere.',\n",
       " 'By NANA KWESI COOMSON51 mins ago.',\n",
       " 'ENTERTAINMENT NEWS.',\n",
       " 'MzVee hints of marriage plans.',\n",
       " 'By NANA KWESI COOMSON53 mins ago.',\n",
       " 'ENTERTAINMENT NEWS.',\n",
       " 'Truths About Jesus – Part I.',\n",
       " 'By ADMIN55 mins ago.',\n",
       " 'OPINION.',\n",
       " 'Israel court paves way for eviction of 1,000 Palestinians from West Bank.',\n",
       " 'By ADMIN57 mins ago.',\n",
       " 'WORLD NEWS.',\n",
       " 'Load more news.',\n",
       " 'POPULAR.',\n",
       " 'GENERAL NEWS.',\n",
       " 'Rounds Of Ammo Stolen From Osu Castle.',\n",
       " 'April 27, 20221728 views.',\n",
       " 'BUSINESS.',\n",
       " 'Cocoa Processing Company In Turmoil.',\n",
       " 'April 25, 20221427 views.',\n",
       " 'FOLLOW US.',\n",
       " 'FACEBOOK.',\n",
       " 'TWITTER.',\n",
       " 'K+ followers.',\n",
       " 'TODAY’S FRONTPAGE.',\n",
       " 'ENTERTAINMENT.',\n",
       " 'ENTERTAINMENT NEWS.',\n",
       " 'Kanye West sued by Pastor over his sermon on ‘Donda’ track.',\n",
       " 'ENTERTAINMENT NEWS.',\n",
       " 'Ray J reveals how his sex tape with Kim Kardashian was negotiated.',\n",
       " 'ENTERTAINMENT NEWS.',\n",
       " 'Tom Cruise arrives in helicopter to star-studded premiere.',\n",
       " 'HEALTH.',\n",
       " 'HEALTH.',\n",
       " 'Broccoli: Food of Choice for lowering  blood sugar, fights Cancer.',\n",
       " 'HEALTH.',\n",
       " 'Health Benefit Of Prekese.',\n",
       " 'HEALTH.',\n",
       " 'How To Treat Sore Throat.',\n",
       " 'AFRICAN NEWS.',\n",
       " 'NIGERIA.',\n",
       " 'Two killed as explosion rocks another oil facility in Imo.',\n",
       " 'NIGERIA.',\n",
       " 'Lebanese arrested for knocking down woman in Lagos.',\n",
       " 'NIGERIA.',\n",
       " 'Royal family member to die by hanging for killing Ekiti monarch.',\n",
       " 'SPORTS.',\n",
       " 'SPORTS.',\n",
       " 'Asamoah Gyan can deliver Champions League trophy for Kotoko –Nana Yaw Amponsah.',\n",
       " 'SPORTS.',\n",
       " 'Satellites leave for Niger for WAFU Zone B Championship.',\n",
       " 'SPORTS.',\n",
       " 'AshantiGold Yaw Annor expresses readiness to play for Black Stars.',\n",
       " 'SPORTS.',\n",
       " 'Aduana’s Bright Adjei confident of beating Etouga in goalking race.',\n",
       " 'By The Chronicle News Online.']"
      ]
     },
     "execution_count": 375,
     "metadata": {},
     "output_type": "execute_result"
    }
   ],
   "source": [
    "new_list"
   ]
  },
  {
   "cell_type": "code",
   "execution_count": 376,
   "id": "99dcd3f9-45a2-4387-b8e1-24a3150fc963",
   "metadata": {},
   "outputs": [
    {
     "name": "stdout",
     "output_type": "stream",
     "text": [
      "[]\n"
     ]
    }
   ],
   "source": [
    "matches = []\n",
    "#('arm','weapon', 'shot', 'police', 'military', 'drugs', 'suspect')\n",
    "for match in new_list:\n",
    "    if \"arm\" in match:\n",
    "        matches.append(match)\n",
    "    if \"weapon\" in match:\n",
    "        matches.append(match)\n",
    "    if \"shot\" in match:\n",
    "        matches.append(match)\n",
    "    if \"police\" in match:\n",
    "        matches.append(match)\n",
    "    if \"military\" in match:\n",
    "        matches.append(match)\n",
    "    if \"drugs\" in match:\n",
    "        matches.append(match)\n",
    "    if \"suspects\" in match:\n",
    "        matches.append(match)\n",
    "    if \"Arm\" in match:\n",
    "        matches.append(match)\n",
    "    if \"Weapon\" in match:\n",
    "        matches.append(match)\n",
    "    if \"Shot\" in match:\n",
    "        matches.append(match)\n",
    "    if \"Police\" in match:\n",
    "        matches.append(match)\n",
    "    if \"Military\" in match:\n",
    "        matches.append(match)\n",
    "    if \"Drugs\" in match:\n",
    "        matches.append(match)\n",
    "    if \"Kill\" in match:\n",
    "        matches.append(match)\n",
    "    if \"Cannabis\" in match:\n",
    "        matches.append(match)\n",
    "    if \"connnabis\" in match:\n",
    "        matches.append(match)\n",
    "    if \"Cocaine\" in match:\n",
    "        matches.append(match)\n",
    "    if \"cocaine\" in match:\n",
    "        matches.append(match)\n",
    "    if \"weed\" in match:\n",
    "        matches.append(match)\n",
    "print(matches)\n",
    "#kill"
   ]
  },
  {
   "cell_type": "code",
   "execution_count": 377,
   "id": "8c5bd1f3-13b9-4454-b25e-40223c4a0823",
   "metadata": {},
   "outputs": [],
   "source": [
    "new_ = [s.replace(\",\", \"\") for s in matches]\n",
    "new_l = [s.replace(\".\", \"\") for s in new_]\n",
    "new_li = [s.replace(\"–\", \"\") for s in new_l]\n",
    "new_lis = [s.replace(\"?\", \"\") for s in new_li]\n",
    "new_list = [s.replace(\":\", \"\") for s in new_lis]\n",
    "new_lists = [s.replace(\";\", \"\") for s in new_list]"
   ]
  },
  {
   "cell_type": "code",
   "execution_count": 378,
   "id": "2ba260be-aded-4f11-80aa-939fbd867061",
   "metadata": {},
   "outputs": [
    {
     "data": {
      "text/plain": [
       "0"
      ]
     },
     "execution_count": 378,
     "metadata": {},
     "output_type": "execute_result"
    }
   ],
   "source": [
    "len(new_lists)"
   ]
  },
  {
   "cell_type": "code",
   "execution_count": 379,
   "id": "51b0545a-6507-4aae-988b-a2cab3fb1ca4",
   "metadata": {},
   "outputs": [
    {
     "data": {
      "text/plain": [
       "[]"
      ]
     },
     "execution_count": 379,
     "metadata": {},
     "output_type": "execute_result"
    }
   ],
   "source": [
    "new_lists"
   ]
  },
  {
   "cell_type": "code",
   "execution_count": null,
   "id": "89f94cc2-6cae-49cb-9e08-868624a989e3",
   "metadata": {},
   "outputs": [],
   "source": []
  },
  {
   "cell_type": "code",
   "execution_count": 380,
   "id": "f928828c-8827-4eb4-bf5c-207d1c43ba8d",
   "metadata": {},
   "outputs": [],
   "source": [
    "urls = new_lists\n"
   ]
  },
  {
   "cell_type": "code",
   "execution_count": 381,
   "id": "d250ac91-4f81-41b5-acf3-a3ca6cc955ce",
   "metadata": {},
   "outputs": [
    {
     "data": {
      "text/plain": [
       "list"
      ]
     },
     "execution_count": 381,
     "metadata": {},
     "output_type": "execute_result"
    }
   ],
   "source": [
    "type(urls)"
   ]
  },
  {
   "cell_type": "code",
   "execution_count": 382,
   "id": "1ace8e97-42f9-4a16-bcd1-cd0b7cbece6d",
   "metadata": {},
   "outputs": [],
   "source": [
    "col1 = \"topics\""
   ]
  },
  {
   "cell_type": "code",
   "execution_count": 383,
   "id": "cb467a0e-d21d-4155-b423-8ffe24df2dfc",
   "metadata": {},
   "outputs": [],
   "source": [
    "data = pd.DataFrame({col1:urls})"
   ]
  },
  {
   "cell_type": "code",
   "execution_count": 384,
   "id": "b62bf53c-b0e4-46cd-9135-20f255dc4684",
   "metadata": {},
   "outputs": [],
   "source": [
    "today = (datetime.today().strftime('%Y-%m-%d'),'thechronicle')"
   ]
  },
  {
   "cell_type": "code",
   "execution_count": 385,
   "id": "07191678-3a1e-4e1a-8542-18a78e0dc776",
   "metadata": {},
   "outputs": [],
   "source": [
    "# Use str.join() to convert tuple to string.\n",
    "today = ''.join(today)\n"
   ]
  },
  {
   "cell_type": "code",
   "execution_count": 386,
   "id": "6d675d2c-eab7-483f-8efb-244b04892654",
   "metadata": {},
   "outputs": [],
   "source": [
    "with pd.ExcelWriter(\"C:\\\\Users\\\\kofi\\\\Desktop\\\\selenium.xlsx\", engine=\"openpyxl\", mode=\"a\") as writer:\n",
    "    data.to_excel(writer, sheet_name=today, startrow=0, startcol=0)"
   ]
  },
  {
   "cell_type": "code",
   "execution_count": null,
   "id": "d650bfbf-51be-4ce8-9783-081702c31840",
   "metadata": {},
   "outputs": [],
   "source": []
  },
  {
   "cell_type": "markdown",
   "id": "067060bb-7da2-48cf-a7b8-84a94253e15b",
   "metadata": {},
   "source": [
    "## ghanaiantimes"
   ]
  },
  {
   "cell_type": "code",
   "execution_count": 387,
   "id": "563c95a0-222c-4f57-b73e-b5efec6f57aa",
   "metadata": {},
   "outputs": [
    {
     "name": "stdout",
     "output_type": "stream",
     "text": [
      "did not finish loading\n"
     ]
    }
   ],
   "source": [
    "try:\n",
    "    \n",
    "    driver.get(\"https://www.ghanaiantimes.com.gh/\")    \n",
    "    time.sleep(30)   \n",
    "except Exception:\n",
    "    pass\n",
    "print('did not finish loading')"
   ]
  },
  {
   "cell_type": "code",
   "execution_count": 388,
   "id": "2f591dc1-29b9-422e-803d-735b3bc08236",
   "metadata": {},
   "outputs": [
    {
     "name": "stderr",
     "output_type": "stream",
     "text": [
      "C:\\Users\\kofi\\AppData\\Local\\Temp/ipykernel_17312/1622795889.py:1: DeprecationWarning: find_element_by_xpath is deprecated. Please use find_element(by=By.XPATH, value=xpath) instead\n",
      "  i = driver.find_element_by_xpath(\"(//body)[1]\")\n"
     ]
    }
   ],
   "source": [
    "i = driver.find_element_by_xpath(\"(//body)[1]\")\n",
    " #(//div)[39]\n",
    "    #(//div[@class='jeg_viewport'])[1]"
   ]
  },
  {
   "cell_type": "code",
   "execution_count": 389,
   "id": "4c1cbda2-526e-4a76-88d2-bb73d48db932",
   "metadata": {},
   "outputs": [],
   "source": [
    "k = i.text"
   ]
  },
  {
   "cell_type": "code",
   "execution_count": 390,
   "id": "e057daaf-4ec0-4dfa-8f14-f90fac3fda10",
   "metadata": {},
   "outputs": [],
   "source": [
    "rep = k.replace(\"\\n\", \". \")"
   ]
  },
  {
   "cell_type": "code",
   "execution_count": 391,
   "id": "2020f7c1-8bbe-463b-b033-30875404016c",
   "metadata": {},
   "outputs": [],
   "source": [
    "import re\n",
    "expression = re.compile(r'([A-Z][^\\.!?]*[\\.!?])')\n",
    "new_list = re.findall(expression, rep)"
   ]
  },
  {
   "cell_type": "code",
   "execution_count": 392,
   "id": "400c45b1-19d1-4946-82b2-8358d032439d",
   "metadata": {},
   "outputs": [
    {
     "data": {
      "text/plain": [
       "['Home.',\n",
       " 'News.',\n",
       " 'Politics.',\n",
       " 'Business.',\n",
       " 'Sports.',\n",
       " 'Crime.',\n",
       " 'More.',\n",
       " 'E News.',\n",
       " 'Contact Us.',\n",
       " 'Search for.',\n",
       " 'Random Article.',\n",
       " 'RSS.',\n",
       " 'Twitter.',\n",
       " 'Facebook.',\n",
       " 'News.',\n",
       " 'May 6, 2022.',\n",
       " 'Adopt digital tech for internal audit …Veep tasks  internal auditors.',\n",
       " 'Vice President Alhaji Dr Mahamudu Bawumia has called on Internal Auditors to take advantage of….',\n",
       " 'News.',\n",
       " 'May 6, 2022.',\n",
       " 'ECOWAS Chiefs of Defence Staff discuss security in sub-region.',\n",
       " 'World.',\n",
       " 'May 6, 2022.',\n",
       " 'True COVID-19 pandemic death toll 15m’.',\n",
       " 'Africa.',\n",
       " 'May 6, 2022.',\n",
       " 'Pastor charges $700 fee to ‘take people to heaven’ …He is under investigation.',\n",
       " 'Business.',\n",
       " 'May 6, 2022.',\n",
       " 'Vodafone Cash customers will not pay transfer charges despite E-Levy – CEO.',\n",
       " 'Latest News.',\n",
       " 'All.',\n",
       " 'Africa.',\n",
       " 'News.',\n",
       " 'News.',\n",
       " 'Adopt digital tech for internal audit …Veep tasks  internal auditors.',\n",
       " 'GTonlineMay 6, 2022.',\n",
       " 'May 6, 2022.',\n",
       " 'ECOWAS Chiefs of Defence Staff discuss security in sub-region.',\n",
       " 'May 6, 2022.',\n",
       " 'Pastor charges $700 fee to ‘take people to heaven’ …He is under investigation.',\n",
       " 'May 6, 2022.',\n",
       " 'Togolese president agrees to mediate Mali crisis.',\n",
       " 'May 6, 2022.',\n",
       " 'UN chief hits out at UK-Rwanda deal, vaccine.',\n",
       " 'May 6, 2022.',\n",
       " 'PCG to establish cancer treatment centre in Ghana.',\n",
       " 'May 6, 2022.',\n",
       " 'AMA warns women against processing food in markets.',\n",
       " 'May 6, 2022.',\n",
       " 'MAG beneficiary institutions.',\n",
       " 'May 6, 2022.',\n",
       " 'Prisons Service decries GH¢1.',\n",
       " 'May 6, 2022.',\n",
       " 'Regional GNFS personnel mark Int’l Fire Fighters Day.',\n",
       " 'May 6, 2022.',\n",
       " 'Uphold virtues of truthfulness – Imam Abubakar.',\n",
       " 'May 6, 2022.',\n",
       " 'NLA organises free health screening for Korle Worko residents.',\n",
       " 'Load More.',\n",
       " 'Sports.',\n",
       " 'All.',\n",
       " 'Sports.',\n",
       " 'GTonlineMay 6, 2022.',\n",
       " 'Black Princesses in Pot 3 forWWC draw.',\n",
       " 'Ghana’s Black Princesses are in Pot 3 ahead of the 2022 FIFA U-20 Women’s World Cup draw.',\n",
       " 'Ghana booked their spot at….',\n",
       " 'Read More ».',\n",
       " 'May 6, 2022.',\n",
       " 'FIFAe registration ends today.',\n",
       " 'May 6, 2022.',\n",
       " 'Aduana striker Adjei eyes goal king gong …despite injury concerns.',\n",
       " 'May 6, 2022.',\n",
       " 'Danbort outmuscle  Rences in top clash.',\n",
       " 'May 6, 2022.',\n",
       " 'Make Thompson-Herah 100m world record holder’.',\n",
       " 'Show More.',\n",
       " 'Politics.',\n",
       " 'Politics.',\n",
       " 'GTonlineMay 6, 2022.',\n",
       " 'Mahama: Disruptions of constitutional order cannot be option.',\n",
       " 'Former President John Mahama has postulated that notwithstanding the challenges the country is facing, disruptions of the constitutional order cannot….',\n",
       " 'Read More ».',\n",
       " 'May 6, 2022.',\n",
       " 'Stakeholders advocate deepening of democratic norms.',\n",
       " 'May 5, 2022.',\n",
       " 'Stakeholders advocate deepening of democratic norms.',\n",
       " 'May 5, 2022.',\n",
       " 'Implementation of E-Levy insensitive – CPP.',\n",
       " 'May 5, 2022.',\n",
       " 'Workforce ready to sacrifice for nation’s devt if… – PPP.',\n",
       " 'Show More.',\n",
       " 'Entertainment | Lifestyle.',\n",
       " 'February 8, 2022.',\n",
       " 'Alyst” Jared Woodson Opens Up About “Gleeming” Ruling Hot 97.',\n",
       " 'January 14, 2022.',\n",
       " 'Sports Betting Lifestyle- Why Ghana Must Keep Betting Industry in Check.',\n",
       " 'November 9, 2021.',\n",
       " 'Mona4reall rocks stage with stonebwouy at tropical fiesta.',\n",
       " 'Crime Stories.',\n",
       " 'May 6, 2022.',\n",
       " 'Trader remanded over alleged GH¢33, 000 visa fraud.',\n",
       " 'May 6, 2022.',\n",
       " 'GH¢612 for burying baby without permit.',\n",
       " 'May 6, 2022.',\n",
       " 'Nukpesekope.',\n",
       " 'May 6, 2022.',\n",
       " 'Driver remanded for allegedly defiling 15-year-old girl.',\n",
       " 'Business.',\n",
       " 'All.',\n",
       " 'Business.',\n",
       " 'May.',\n",
       " 'May.',\n",
       " 'Business.',\n",
       " 'GTonline.',\n",
       " 'Vodafone Cash customers will not pay transfer charges despite E-Levy – CEO.',\n",
       " 'Vodafone Ghana has said subscribers of Vodafone will still not pay any charges in spite of the implementation of the Electronic Transfer….',\n",
       " 'Read More ».',\n",
       " 'May.',\n",
       " 'Business.',\n",
       " 'GTonline.',\n",
       " 'Drop in debt-to-GDP ratio not guarantee to borrow more – Economist to government.',\n",
       " 'Economist, Professor Godfred Bokpin, has cautioned government to be measured in its appetite for borrowing as result of a drop in Ghana’s….',\n",
       " 'Read More ».',\n",
       " 'May.',\n",
       " 'Business.',\n",
       " 'GTonline.',\n",
       " 'Ghana to establish financial mechanism against climate change impact – Finance Minister.',\n",
       " 'Ghana plans to establish a financial mechanism for loss and damage associated with climate change impacts, as the country assumes the presidency….',\n",
       " 'Read More ».',\n",
       " 'May.',\n",
       " 'Business.',\n",
       " 'GTonline.',\n",
       " 'World Bank provides $200m to accelerate Ghana’s digital transformation agenda.',\n",
       " 'The World Bank has approved $200 million to help the Government of Ghana increase access to broadband, enhance the efficiency and quality….',\n",
       " 'Read More ».',\n",
       " 'Show More.',\n",
       " 'World News.',\n",
       " 'Woman rescued from rubble in China after 6 days.',\n",
       " 'True COVID-19 pandemic death toll 15m’.',\n",
       " 'Risking capture to evacuate vulnerable in Donbas.',\n",
       " 'May 5, 2022.',\n",
       " 'YouTube Go is going away.',\n",
       " 'May 5, 2022.',\n",
       " 'Instagram has a new TikTok attack plan.',\n",
       " 'Home About News Ads Contact.',\n",
       " 'Facebook.',\n",
       " 'Twitter.',\n",
       " 'RSS.']"
      ]
     },
     "execution_count": 392,
     "metadata": {},
     "output_type": "execute_result"
    }
   ],
   "source": [
    "new_list"
   ]
  },
  {
   "cell_type": "code",
   "execution_count": 393,
   "id": "d6b61770-6555-4ca9-935c-0cbebf84c1ef",
   "metadata": {},
   "outputs": [
    {
     "name": "stdout",
     "output_type": "stream",
     "text": [
      "[]\n"
     ]
    }
   ],
   "source": [
    "matches = []\n",
    "#('arm','weapon', 'shot', 'police', 'military', 'drugs', 'suspect')\n",
    "for match in new_list:\n",
    "    if \"arm\" in match:\n",
    "        matches.append(match)\n",
    "    if \"weapon\" in match:\n",
    "        matches.append(match)\n",
    "    if \"shot\" in match:\n",
    "        matches.append(match)\n",
    "    if \"police\" in match:\n",
    "        matches.append(match)\n",
    "    if \"military\" in match:\n",
    "        matches.append(match)\n",
    "    if \"drugs\" in match:\n",
    "        matches.append(match)\n",
    "    if \"suspects\" in match:\n",
    "        matches.append(match)\n",
    "    if \"Arm\" in match:\n",
    "        matches.append(match)\n",
    "    if \"Weapon\" in match:\n",
    "        matches.append(match)\n",
    "    if \"Shot\" in match:\n",
    "        matches.append(match)\n",
    "    if \"Police\" in match:\n",
    "        matches.append(match)\n",
    "    if \"Military\" in match:\n",
    "        matches.append(match)\n",
    "    if \"Drugs\" in match:\n",
    "        matches.append(match)\n",
    "    if \"Kill\" in match:\n",
    "        matches.append(match)\n",
    "    if \"Cannabis\" in match:\n",
    "        matches.append(match)\n",
    "    if \"connnabis\" in match:\n",
    "        matches.append(match)\n",
    "    if \"Cocaine\" in match:\n",
    "        matches.append(match)\n",
    "    if \"cocaine\" in match:\n",
    "        matches.append(match)\n",
    "    if \"weed\" in match:\n",
    "        matches.append(match)\n",
    "print(matches)\n",
    "#kill"
   ]
  },
  {
   "cell_type": "code",
   "execution_count": 394,
   "id": "94089eef-3817-4082-846a-7311ec148397",
   "metadata": {},
   "outputs": [],
   "source": [
    "new_ = [s.replace(\",\", \"\") for s in matches]\n",
    "new_l = [s.replace(\".\", \"\") for s in new_]\n",
    "new_li = [s.replace(\"–\", \"\") for s in new_l]\n",
    "new_lis = [s.replace(\"?\", \"\") for s in new_li]\n",
    "new_list = [s.replace(\":\", \"\") for s in new_lis]\n",
    "new_lists = [s.replace(\";\", \"\") for s in new_list]"
   ]
  },
  {
   "cell_type": "code",
   "execution_count": 395,
   "id": "234225db-28be-472e-88ac-6b2b535d0006",
   "metadata": {},
   "outputs": [
    {
     "data": {
      "text/plain": [
       "0"
      ]
     },
     "execution_count": 395,
     "metadata": {},
     "output_type": "execute_result"
    }
   ],
   "source": [
    "len(new_lists)"
   ]
  },
  {
   "cell_type": "code",
   "execution_count": 396,
   "id": "83f0d0e6-890a-431b-8901-a28a3607c09e",
   "metadata": {},
   "outputs": [
    {
     "data": {
      "text/plain": [
       "[]"
      ]
     },
     "execution_count": 396,
     "metadata": {},
     "output_type": "execute_result"
    }
   ],
   "source": [
    "new_lists"
   ]
  },
  {
   "cell_type": "code",
   "execution_count": null,
   "id": "c07a2d74-5b6a-4537-b4f3-d968294f1381",
   "metadata": {},
   "outputs": [],
   "source": []
  },
  {
   "cell_type": "code",
   "execution_count": 397,
   "id": "edf6193c-85d1-4d1f-b02a-51dc1dc3459f",
   "metadata": {},
   "outputs": [],
   "source": [
    "urls = new_lists\n"
   ]
  },
  {
   "cell_type": "code",
   "execution_count": 398,
   "id": "f95d4b2a-9ee1-4694-86f3-fbb2b2b91673",
   "metadata": {},
   "outputs": [
    {
     "data": {
      "text/plain": [
       "list"
      ]
     },
     "execution_count": 398,
     "metadata": {},
     "output_type": "execute_result"
    }
   ],
   "source": [
    "type(urls)"
   ]
  },
  {
   "cell_type": "code",
   "execution_count": 399,
   "id": "5e9cf75c-aef9-449c-ac3a-95eb9270bcef",
   "metadata": {},
   "outputs": [],
   "source": [
    "col1 = \"topics\""
   ]
  },
  {
   "cell_type": "code",
   "execution_count": 400,
   "id": "8b6a910a-db79-4d3b-9b30-5a504db1a21f",
   "metadata": {},
   "outputs": [],
   "source": [
    "data = pd.DataFrame({col1:urls})"
   ]
  },
  {
   "cell_type": "code",
   "execution_count": 401,
   "id": "7d9f1ee1-7567-4ba8-b9ce-367e3b6cc95b",
   "metadata": {},
   "outputs": [],
   "source": [
    "today = (datetime.today().strftime('%Y-%m-%d'),'ghanaiantimes')"
   ]
  },
  {
   "cell_type": "code",
   "execution_count": 402,
   "id": "cf50467a-b4dd-47af-b076-b8f161d64c39",
   "metadata": {},
   "outputs": [],
   "source": [
    "# Use str.join() to convert tuple to string.\n",
    "today = ''.join(today)\n"
   ]
  },
  {
   "cell_type": "code",
   "execution_count": 403,
   "id": "8126b359-b4fa-41e3-97bf-183e5ae1c9ca",
   "metadata": {},
   "outputs": [],
   "source": [
    "with pd.ExcelWriter(\"C:\\\\Users\\\\kofi\\\\Desktop\\\\selenium.xlsx\", engine=\"openpyxl\", mode=\"a\") as writer:\n",
    "    data.to_excel(writer, sheet_name=today, startrow=0, startcol=0)"
   ]
  },
  {
   "cell_type": "code",
   "execution_count": null,
   "id": "e7663f6a-2381-4fa8-b39a-878c328e441b",
   "metadata": {},
   "outputs": [],
   "source": []
  },
  {
   "cell_type": "markdown",
   "id": "5e8c4dff-98e2-45cd-8764-d03e5260dbc2",
   "metadata": {},
   "source": [
    "## yen"
   ]
  },
  {
   "cell_type": "code",
   "execution_count": 404,
   "id": "8eee55ce-835c-4809-93a2-efcca5653cbd",
   "metadata": {},
   "outputs": [
    {
     "name": "stdout",
     "output_type": "stream",
     "text": [
      "did not finish loading\n"
     ]
    }
   ],
   "source": [
    "try:\n",
    "    \n",
    "    driver.get(\"https://yen.com.gh/\")    \n",
    "    time.sleep(30)   \n",
    "except Exception:\n",
    "    pass\n",
    "print('did not finish loading')"
   ]
  },
  {
   "cell_type": "code",
   "execution_count": 405,
   "id": "c2fea842-358e-46d3-b16f-6b9ff0527884",
   "metadata": {},
   "outputs": [
    {
     "name": "stderr",
     "output_type": "stream",
     "text": [
      "C:\\Users\\kofi\\AppData\\Local\\Temp/ipykernel_17312/1622795889.py:1: DeprecationWarning: find_element_by_xpath is deprecated. Please use find_element(by=By.XPATH, value=xpath) instead\n",
      "  i = driver.find_element_by_xpath(\"(//body)[1]\")\n"
     ]
    }
   ],
   "source": [
    "i = driver.find_element_by_xpath(\"(//body)[1]\")\n",
    " #(//div)[39]\n",
    "    #(//div[@class='jeg_viewport'])[1]"
   ]
  },
  {
   "cell_type": "code",
   "execution_count": 406,
   "id": "be6ade37-cc44-4553-95e4-1898e0789be8",
   "metadata": {},
   "outputs": [],
   "source": [
    "k = i.text"
   ]
  },
  {
   "cell_type": "code",
   "execution_count": 407,
   "id": "fa2b4232-f46b-4ffa-a577-0d02b10a8966",
   "metadata": {},
   "outputs": [],
   "source": [
    "rep = k.replace(\"\\n\", \". \")"
   ]
  },
  {
   "cell_type": "code",
   "execution_count": 408,
   "id": "d6963c58-c3a5-4b9a-a897-628fa22d00e8",
   "metadata": {},
   "outputs": [],
   "source": [
    "import re\n",
    "expression = re.compile(r'([A-Z][^\\.!?]*[\\.!?])')\n",
    "new_list = re.findall(expression, rep)"
   ]
  },
  {
   "cell_type": "code",
   "execution_count": 409,
   "id": "634bcf59-1ae8-49a7-ac61-a8ab6ddeaa00",
   "metadata": {},
   "outputs": [
    {
     "data": {
      "text/plain": [
       "['Online News Portal.',\n",
       " 'Year.',\n",
       " 'FREE SUBSCRIPTION.',\n",
       " 'Get the news that matters from one of the leading news sites in Ghana.',\n",
       " 'HOME.',\n",
       " 'Ghana.',\n",
       " 'Politics.',\n",
       " 'World.',\n",
       " 'Business.',\n",
       " 'Entertainment.',\n",
       " 'People.',\n",
       " 'Sports.',\n",
       " 'GHANA NEWS.',\n",
       " 'LATEST.',\n",
       " 'Meet my bundle of joy: Michy breaks the internet with beautiful baby bump photo;.',\n",
       " 'Ladies twerk and shake backsides, men do fast leg work as church dance enters top gea.',\n",
       " \"GH woman 'forgiven' by Ireland court after involvement in GH¢32k money laundering.\",\n",
       " 'Inspirational: Ghanaian Bobie Ansah is the first to create bio fertilizer in Ghana.',\n",
       " 'I am not ashamed of expressing my Christian faith in my politics – Akufo-Addo justifi.',\n",
       " 'Sketch Restaurant: Africa’s first 2D/3D Restaurant Opens up in Abuja.',\n",
       " 'Ghanaian lady with cancer breaks down as she narrates paying GH₵6k every 3 weeks to s.',\n",
       " 'LATEST.',\n",
       " 'Read more.',\n",
       " 'RECOMMENDED FOR YOU.',\n",
       " 'Ravishing cutie: Handsome little boy with glowing Black skin and strange ey.',\n",
       " 'Secrets to renting out your house as a landlord in Ghana.',\n",
       " 'Lady gives mom a rough sketch design to make an outfit, Mzansi impressed wi.',\n",
       " \"It's a gift: GH CEO builds workers 30-bed hostel equipped with electricity and water for free; many praise him.\",\n",
       " 'The Chief Executive Officer and Founder of Seloart, Selorm Betepe, has provided employees of his company with a fully-furnished 30-bed hostel at no cost.',\n",
       " 'Photos.',\n",
       " \"She's bold and smart: Student makes history as her school's first Black valedictorian.\",\n",
       " 'Rich landlady: Tracey Boakye shows interior of her mansion for the first time in video; fans in awe.',\n",
       " 'You are truly blessed” - Fans say as Tracey Boakye unveils large ‘his only chick’ fountain in her mansion.',\n",
       " \"You will give birth to two sons' - Duncan Williams' prophecy to Sammy Kuffour came to pass.\",\n",
       " 'TRENDING.',\n",
       " 'Meet my bundle of joy: Michy breaks the internet with beautiful baby bump photo;.',\n",
       " 'Lady finishes half plate of well-packaged fried rice only to realize it had live.',\n",
       " 'Meet the talented Ghanaian military officer who makes extraordinary cake designs.',\n",
       " 'Funny and catchy names of some towns in Ghana.',\n",
       " 'Young man who graduated from UG purchases ladies shoe worth Gh¢6k & wears it to.',\n",
       " 'Africa that Rival those in Europe and America.',\n",
       " \"My dad wanted me to be a priest but I followed my passion & now I'm the best pho.\",\n",
       " 'Lady finds mad man on street, dances, plays with him and changes his clothes, vi.',\n",
       " 'Homeless mum with kid by roadside tries to sell artwork for GH¢36, man buys it f.',\n",
       " 'She put smiles on their faces: Actress helps people as she gives out free food t.',\n",
       " \"Shy groom turns down bride's attempt to kiss him; social media reacts.\",\n",
       " 'MOST SHARED.',\n",
       " 'Meet the Black woman who has fed thousands for free for nearly 40 years.',\n",
       " 'She died after delivery: Kind man visits motherless triplets, gives them over GH.',\n",
       " \"Jackie Appiah's son flaunts riches as he steps out in a Maserati and drips in di.\",\n",
       " \"Parent faints at Dean's office at KNUST upon finding out son who's meant to grad.\",\n",
       " \"Bob Marley's son Rohan posts video of himself jamming to Black Sherif's Kwaku Th.\",\n",
       " 'Meet the 20-year-old Ghanaian who has become the youngest finance manager & acco.',\n",
       " 'GHANA.',\n",
       " 'Petition to investigate Akufo-Addo over Serwaa Broni getting \"necessary attention\" – CHRAJ.',\n",
       " \"Prof Aryeetey's five reasons Free SHS and general public education in Ghana are failing.\",\n",
       " \"He's kind-hearted: Ghanaian police officer gifts little girl GH¢50; many praise him as pho.\",\n",
       " 'Secrets to renting out your house as a landlord in Ghana.',\n",
       " 'Rental scams in Ghana are avoidable with these simple tricks.',\n",
       " \"Akufo-Addo wins 'Africa Peace Award' for promoting peace in Ghana, other countries.\",\n",
       " 'GHANA.',\n",
       " 'Read more.',\n",
       " 'ENTERTAINMENT.',\n",
       " 'Jackie Appiah Steals Show At \"Red Carpet\" Movie Premiere In Emerald Green Gown.',\n",
       " 'Fans react to 10 year throwback photo of Kwame A Plus.',\n",
       " 'Ray J drops major bombshell, claims Kim Kardashian & Kris Jenner were in on leaking the 20.',\n",
       " 'Gyakie Thrills Fans With Performance At Clout Africa Awards.',\n",
       " 'Strongman’s 2-year-old daughter names months of the year to December in video; fans amazed.',\n",
       " \"Keche Andrew's millionaire wife pregnant with their 1st child, name of unborn causes confu.\",\n",
       " 'ENTERTAINMENT.',\n",
       " 'Read more.',\n",
       " 'GOSSIP TV SHOWS MOVIES CELEBRITIES MUSIC.',\n",
       " 'POLITICS.',\n",
       " 'E-Levy is useless” – Mahama’s aide goes after critics who doubt tax will be scrapped.',\n",
       " \"NDC gov't will repeal E-Levy Act in 2025 - Mahama boldly assures Ghanaians in video; many.\",\n",
       " 'Heartbreaking: Youthful NPP delegate collapses and dies after his candidate lost at party.',\n",
       " 'Akufo-Addo openly supports calls for constitution to be reviewed; urges Ghanaians to do sa.',\n",
       " 'Minority in Parliament releases statement on Serwaa Broni’s \"scandalous allegations\" again.',\n",
       " 'Police to beef up security at violence hotspots ahead of NPP constituency elections.',\n",
       " 'POLITICS.',\n",
       " 'Read more.',\n",
       " 'SPORTS.',\n",
       " 'After almost 10 years, court finally rules Odartey Lamptey can take possession of his hous.',\n",
       " 'Throwback photos of Thomas Partey travelling to Europe for the 1st time pop up after WC qu.',\n",
       " \"Photo of Thomas Partey and his look-alike mom hits the internet after Black Stars' World C.\",\n",
       " 'Diehard Black Stars supporter who went viral for crying to be sponsored to Qatar.',\n",
       " 'Akufo-Addo gifts Black Stars presidential diaries after WC qualification, video drops.',\n",
       " 'Black Stars arrive at Jubilee House to meet Akufo-Addo.',\n",
       " 'SPORTS.',\n",
       " 'Read more.',\n",
       " 'TENNIS ATHLETICS BOXING FOOTBALL.',\n",
       " 'PEOPLE.',\n",
       " \"Lady transforms her room from 'hustler girl' to 'slay queen'; heaps reactions.\",\n",
       " 'Any woman above 18 who wants to give birth should take folic acid - Doctor at Korle-Bu in.',\n",
       " 'Online shopping palava: Lady pays GH₵2k for cut-out dress only to receive a sleeve instead.',\n",
       " \"Lady orders GH¢2,200 worth of clothing online only to realize after delivery it's just the.\",\n",
       " 'Benevolent Okudzeto Ablakwa blesses female Muslim students with bicycles & helmets.',\n",
       " \"It's gorgeous: Video of couple's unique umbrella-themed cake designed on wheels blows mind.\",\n",
       " 'PEOPLE.',\n",
       " 'Read more.',\n",
       " 'FAMILY & RELATIONSHIPS.',\n",
       " 'EDUCATION.',\n",
       " \"She's made history: At 19, teen becomes youngest Black student ever to graduate law school.\",\n",
       " \"I'm a dedicated hardworking person” - Black teen who received over $8m in scholarship off.\",\n",
       " 'Determined lady who battled sickle cell set to graduate from university; shares beautiful.',\n",
       " 'Tech geniuses: 3 students from KNUST build device to determine water quality.',\n",
       " \"He's kind: Ghanaian man builds library for rural community with support from donors; inspi.\",\n",
       " 'Smart and young: Black teen accepted into all 8 Ivies on a path to becoming doctor and law.',\n",
       " 'EDUCATION.',\n",
       " 'Read more.',\n",
       " 'WORLD.',\n",
       " 'Who taught him?',\n",
       " \"Nigerian kid sings Olamide's verse on Zazu Zeh song word for word in viral.\",\n",
       " 'Man displays Louis Vuitton bag which he transformed into a jacket in trending video.',\n",
       " 'Some of them are very pretty: Fans react to video of Rita Dominic, 29 other stars without.',\n",
       " \"Little girl who dances in front of her mum's shop after school to attract customers causes.\",\n",
       " 'Mystery: How teen mortician discovered her passion to work on dead bodies at age 13.',\n",
       " 'Russia is set to keep gas pipelines closed and demands that Poland and Bulgaria pays for f.',\n",
       " 'WORLD.',\n",
       " 'Read more.',\n",
       " 'US ASIA AFRICA EUROPE.',\n",
       " 'BUSINESS AND ECONOMY.',\n",
       " \"World Bank approves $200m to improve the quality of Ghana's digital infrastructure.\",\n",
       " 'GRA blames “technical hitches” for wrong deductions on E-Levy, promises to refund cash.',\n",
       " 'Elon Musk: Nigerian businessman, Stephen Akintayo, offers to buy Nairaland for N1bn.',\n",
       " 'Sam George vindicated as GRA reverses decision on full operation of E-Levy on May 1.',\n",
       " 'Photos: Tony Blair visits Bawumia at Jubilee House for digitalisation discussions.',\n",
       " 'Ghana cedi predicted to make modest gains against US dollar in coming days – Fitch.',\n",
       " 'BUSINESS AND ECONOMY.',\n",
       " 'Read more.',\n",
       " 'ENERGY MONEY INDUSTRY TECHNOLOGY ECONOMY.',\n",
       " 'FACTS AND LIFEHACKS.',\n",
       " 'Scholarship Secretariat: what does it cover, registrations, how to apply.',\n",
       " 'Ghana without collateral.',\n",
       " 'NABCO portal login: How to register, application form, check payment history and more.',\n",
       " \"Marshmello's face: What is known so far about the face behind the mask.\",\n",
       " 'How to open null file on Android, iOS, Windows and MacOS.',\n",
       " 'What state has the most serial killers in the United States of America?',\n",
       " 'FACTS AND LIFEHACKS.',\n",
       " 'Read more.',\n",
       " 'STUDY GUIDES BIZARRE FACTS СELEBRITY BIOGRAPHIES FASHION MESSAGES - WISHES - QUOTES TV-SHOWS AND MOVIES.',\n",
       " 'MORE ABOUT OUR COMPANY.',\n",
       " 'About Us.',\n",
       " 'Our Team.',\n",
       " 'Our Manifesto.',\n",
       " 'Contact Us.',\n",
       " 'Advertise with us.',\n",
       " 'DMCA Removal.',\n",
       " 'Privacy Policy.',\n",
       " 'Terms and conditions.',\n",
       " 'Policies and standards.',\n",
       " 'Tags.',\n",
       " 'Categories.',\n",
       " 'Do Not Sell My Personal Information.',\n",
       " 'SOCIAL MEDIA.',\n",
       " 'Instagram.',\n",
       " 'YouTube.',\n",
       " 'Facebook.',\n",
       " 'Twitter.',\n",
       " 'Telegram.',\n",
       " 'READ US.',\n",
       " 'Be the first to get hottest news from our Editor-in-Chief.',\n",
       " 'SIGN UP.',\n",
       " 'Our applications for phones.',\n",
       " 'Yen.',\n",
       " 'All rights reserved.',\n",
       " 'Would you like to be aware of all the hottest news and events from YEN?',\n",
       " 'Sure.']"
      ]
     },
     "execution_count": 409,
     "metadata": {},
     "output_type": "execute_result"
    }
   ],
   "source": [
    "new_list"
   ]
  },
  {
   "cell_type": "code",
   "execution_count": 410,
   "id": "8a358ff1-97d7-409b-9020-6f6c5166f8ba",
   "metadata": {},
   "outputs": [
    {
     "name": "stdout",
     "output_type": "stream",
     "text": [
      "['Meet the talented Ghanaian military officer who makes extraordinary cake designs.', \"He's kind-hearted: Ghanaian police officer gifts little girl GH¢50; many praise him as pho.\", 'Police to beef up security at violence hotspots ahead of NPP constituency elections.']\n"
     ]
    }
   ],
   "source": [
    "matches = []\n",
    "#('arm','weapon', 'shot', 'police', 'military', 'drugs', 'suspect')\n",
    "for match in new_list:\n",
    "    if \"arm\" in match:\n",
    "        matches.append(match)\n",
    "    if \"weapon\" in match:\n",
    "        matches.append(match)\n",
    "    if \"shot\" in match:\n",
    "        matches.append(match)\n",
    "    if \"police\" in match:\n",
    "        matches.append(match)\n",
    "    if \"military\" in match:\n",
    "        matches.append(match)\n",
    "    if \"drugs\" in match:\n",
    "        matches.append(match)\n",
    "    if \"suspects\" in match:\n",
    "        matches.append(match)\n",
    "    if \"Arm\" in match:\n",
    "        matches.append(match)\n",
    "    if \"Weapon\" in match:\n",
    "        matches.append(match)\n",
    "    if \"Shot\" in match:\n",
    "        matches.append(match)\n",
    "    if \"Police\" in match:\n",
    "        matches.append(match)\n",
    "    if \"Military\" in match:\n",
    "        matches.append(match)\n",
    "    if \"Drugs\" in match:\n",
    "        matches.append(match)\n",
    "    if \"Kill\" in match:\n",
    "        matches.append(match)\n",
    "    if \"Cannabis\" in match:\n",
    "        matches.append(match)\n",
    "    if \"connnabis\" in match:\n",
    "        matches.append(match)\n",
    "    if \"Cocaine\" in match:\n",
    "        matches.append(match)\n",
    "    if \"cocaine\" in match:\n",
    "        matches.append(match)\n",
    "    if \"weed\" in match:\n",
    "        matches.append(match)\n",
    "print(matches)\n",
    "#kill"
   ]
  },
  {
   "cell_type": "code",
   "execution_count": 411,
   "id": "e7880ec3-6a1b-4762-b040-1cee37f78ba9",
   "metadata": {},
   "outputs": [],
   "source": [
    "new_ = [s.replace(\",\", \"\") for s in matches]\n",
    "new_l = [s.replace(\".\", \"\") for s in new_]\n",
    "new_li = [s.replace(\"–\", \"\") for s in new_l]\n",
    "new_lis = [s.replace(\"?\", \"\") for s in new_li]\n",
    "new_list = [s.replace(\":\", \"\") for s in new_lis]\n",
    "new_lists = [s.replace(\";\", \"\") for s in new_list]"
   ]
  },
  {
   "cell_type": "code",
   "execution_count": 412,
   "id": "44dea71e-b7e9-46e7-956f-a322e187e3b8",
   "metadata": {},
   "outputs": [
    {
     "data": {
      "text/plain": [
       "3"
      ]
     },
     "execution_count": 412,
     "metadata": {},
     "output_type": "execute_result"
    }
   ],
   "source": [
    "len(new_lists)"
   ]
  },
  {
   "cell_type": "code",
   "execution_count": 413,
   "id": "abe6e3af-dec1-4344-8f57-ba4693af7fb4",
   "metadata": {},
   "outputs": [
    {
     "data": {
      "text/plain": [
       "['Meet the talented Ghanaian military officer who makes extraordinary cake designs',\n",
       " \"He's kind-hearted Ghanaian police officer gifts little girl GH¢50 many praise him as pho\",\n",
       " 'Police to beef up security at violence hotspots ahead of NPP constituency elections']"
      ]
     },
     "execution_count": 413,
     "metadata": {},
     "output_type": "execute_result"
    }
   ],
   "source": [
    "new_lists"
   ]
  },
  {
   "cell_type": "code",
   "execution_count": null,
   "id": "9147632c-5e4c-417c-bc00-5665c8c07864",
   "metadata": {},
   "outputs": [],
   "source": []
  },
  {
   "cell_type": "code",
   "execution_count": 414,
   "id": "36392a4e-9f0c-40a8-87bc-07624ca5f5ea",
   "metadata": {},
   "outputs": [],
   "source": [
    "urls = new_lists\n"
   ]
  },
  {
   "cell_type": "code",
   "execution_count": 415,
   "id": "2ddc4379-5905-4f7b-be6e-3d5365f4ede9",
   "metadata": {},
   "outputs": [
    {
     "data": {
      "text/plain": [
       "list"
      ]
     },
     "execution_count": 415,
     "metadata": {},
     "output_type": "execute_result"
    }
   ],
   "source": [
    "type(urls)"
   ]
  },
  {
   "cell_type": "code",
   "execution_count": 416,
   "id": "d4c4ae97-82b4-4d0d-b88d-e20a9c8e2845",
   "metadata": {},
   "outputs": [],
   "source": [
    "col1 = \"topics\""
   ]
  },
  {
   "cell_type": "code",
   "execution_count": 417,
   "id": "bfcee5ac-17c2-4e54-861e-0bb8619c3ad5",
   "metadata": {},
   "outputs": [],
   "source": [
    "data = pd.DataFrame({col1:urls})"
   ]
  },
  {
   "cell_type": "code",
   "execution_count": 418,
   "id": "66be9ded-60a2-4e14-b5c6-2be2d6030a2c",
   "metadata": {},
   "outputs": [],
   "source": [
    "today = (datetime.today().strftime('%Y-%m-%d'),'yen')"
   ]
  },
  {
   "cell_type": "code",
   "execution_count": 419,
   "id": "629580c0-9a45-4518-b370-129b553db1ad",
   "metadata": {},
   "outputs": [],
   "source": [
    "# Use str.join() to convert tuple to string.\n",
    "today = ''.join(today)\n"
   ]
  },
  {
   "cell_type": "code",
   "execution_count": 420,
   "id": "5fb288ba-1065-4ed7-a55d-a9a8f498d49a",
   "metadata": {},
   "outputs": [],
   "source": [
    "with pd.ExcelWriter(\"C:\\\\Users\\\\kofi\\\\Desktop\\\\selenium.xlsx\", engine=\"openpyxl\", mode=\"a\") as writer:\n",
    "    data.to_excel(writer, sheet_name=today, startrow=0, startcol=0)"
   ]
  },
  {
   "cell_type": "markdown",
   "id": "29b10d54-2004-47c4-803c-68f709335dc6",
   "metadata": {},
   "source": [
    "## gna"
   ]
  },
  {
   "cell_type": "code",
   "execution_count": 421,
   "id": "464dc508-f766-42cd-8d98-91e2e049e1e7",
   "metadata": {},
   "outputs": [
    {
     "name": "stdout",
     "output_type": "stream",
     "text": [
      "did not finish loading\n"
     ]
    }
   ],
   "source": [
    "try:\n",
    "    \n",
    "    driver.get(\"https://www.gna.org.gh/home\")    \n",
    "    time.sleep(30)   \n",
    "except Exception:\n",
    "    pass\n",
    "print('did not finish loading')"
   ]
  },
  {
   "cell_type": "code",
   "execution_count": 422,
   "id": "31752232-47da-43f2-8c78-1653caabb6db",
   "metadata": {},
   "outputs": [
    {
     "name": "stderr",
     "output_type": "stream",
     "text": [
      "C:\\Users\\kofi\\AppData\\Local\\Temp/ipykernel_17312/1622795889.py:1: DeprecationWarning: find_element_by_xpath is deprecated. Please use find_element(by=By.XPATH, value=xpath) instead\n",
      "  i = driver.find_element_by_xpath(\"(//body)[1]\")\n"
     ]
    }
   ],
   "source": [
    "i = driver.find_element_by_xpath(\"(//body)[1]\")\n",
    " #(//div)[39]\n",
    "    #(//div[@class='jeg_viewport'])[1]"
   ]
  },
  {
   "cell_type": "code",
   "execution_count": 423,
   "id": "181bf51e-044e-4252-bebc-0be6d009436d",
   "metadata": {},
   "outputs": [],
   "source": [
    "k = i.text"
   ]
  },
  {
   "cell_type": "code",
   "execution_count": 424,
   "id": "4aa35532-9d05-4bd4-a51b-bb13ec2c0da8",
   "metadata": {},
   "outputs": [],
   "source": [
    "rep = k.replace(\"\\n\", \". \")"
   ]
  },
  {
   "cell_type": "code",
   "execution_count": 425,
   "id": "2a54a735-2712-4069-9c4a-e315766bd53f",
   "metadata": {},
   "outputs": [],
   "source": [
    "import re\n",
    "expression = re.compile(r'([A-Z][^\\.!?]*[\\.!?])')\n",
    "new_list = re.findall(expression, rep)"
   ]
  },
  {
   "cell_type": "code",
   "execution_count": 426,
   "id": "a27dbe4a-64f8-48e0-9d6b-b989c5be8b69",
   "metadata": {},
   "outputs": [
    {
     "data": {
      "text/plain": [
       "['Close the Ad.',\n",
       " 'Home.',\n",
       " 'Social.',\n",
       " 'Business.',\n",
       " 'Education.',\n",
       " 'Entertainment.',\n",
       " 'Science.',\n",
       " 'Features.',\n",
       " 'Politics.',\n",
       " 'Sports.',\n",
       " 'World.',\n",
       " 'Gallery.',\n",
       " 'Subscription.',\n",
       " 'Archive.',\n",
       " 'Search.',\n",
       " 'MARKETS.',\n",
       " 'LATEST NEWS.',\n",
       " 'ECOWAS Court holds international conference to examine Integration model.',\n",
       " 'Start the process to ratify the Social Protection Protocol – AU to Government.',\n",
       " 'One dead, two in critical condition in accident at Gomoa-Okyereko.',\n",
       " 'ECOWAS must address conflicts, challenges impeding trade integration.',\n",
       " 'Time for a Shift: Making Trade Sustainable.',\n",
       " 'Methodist Church petitions government, police to tackle sand winning activities.',\n",
       " 'Hepatitis Programme Seeks partnership with corporate Ghana.',\n",
       " 'COCOBOD raises 140 millon cocoa seedlings to increase yields.',\n",
       " 'Train Regional Ministers, MMDCEs on security issues—Amenorwode.',\n",
       " 'Africa needs to accelerate social policies to protect the vulnerable.',\n",
       " 'Previous.',\n",
       " 'Next.',\n",
       " 'COCOBOD raises 140 millon cocoa seedlings to increase yields.',\n",
       " \"Government responds to Ghana's drop in press freedom ranking.\",\n",
       " 'Identify risks and weaknesses in public economic management—Veep.',\n",
       " 'Jomoro Rural Bank records 1,198.',\n",
       " 'Chief calls on communities to use the palace to settle disputes.',\n",
       " 'GNA TV.',\n",
       " 'AD.',\n",
       " 'FEATURES.',\n",
       " 'Time for a Shift: Making Trade Sustainable.',\n",
       " \"Trade promotion agencies can tip the balance towards business resilience and ‘good trade'.\",\n",
       " 'Accra, May 6, GNA - Businesses everywhere are facing supply chain woes, while feeling the impact of the pandemic in their lives.',\n",
       " 'The supply chain crisis is sparking a rise in inflation in many countries, as firms seek new supply sources and new ways to ship and source goods.',\n",
       " 'May 06, 2022 at 10:38am.',\n",
       " 'Ghanaian sculptor gets global plaudits for promoting rights of PWDs.',\n",
       " 'Accra, May 05, GNA - Yajim Amadu, a Ghanaian based in the United States, continuous to receive international plaudits for using sculpture to change perceptions of the over one billion persons in the world suffering some form of disability.',\n",
       " 'Amadu, who went to the States in 2017, has used found materials and sculpted blue foam to fashion one small sculpture and three life-size.',\n",
       " 'May 05, 2022 at 3:42pm.',\n",
       " 'Implement the Global Security Initiative for Lasting Peace and Universal Security.',\n",
       " 'Accra, May 05, GNA - For the world, the year 2022 started with a number of challenges.',\n",
       " 'The world, far from being peaceful and tranquil, has not yet recovered from COVID-19 pandemic, and the Ukraine crisis comes on the heel.',\n",
       " 'As regional security hotspots keep flaring up and the European security issue receives worldwide attention, the international situation, which is already rife with uncertainties.',\n",
       " 'May 05, 2022 at 10:24am.',\n",
       " 'Addressing conflicts of Herders and Farmers in Ghana: The way forward.',\n",
       " 'Accra, May 4, GNA – Two of the basic components involved in the discussion of Sustainable National Development are optimal crop and animal production levels and the effective management of the two components continues to challenge the entire West African sub region.',\n",
       " 'Issues at stake For decades or over some centuries, the perennial issue of migration and herder-farmers.',\n",
       " 'May 04, 2022 at 6:31pm.',\n",
       " 'Africa for Africa—the Toyota Way.',\n",
       " 'Accra, May 4, GNA- Product developers have lately realized that customers’ unique preferences and needs when selecting a product keep changing.',\n",
       " 'This is aided by multiple sources of information via the internet, companies just to mention a few.',\n",
       " 'The theory of ‘one size fits all’ will no longer apply to the recent, knowledgeable customer who knows exactly what.',\n",
       " 'May 04, 2022 at 6:00pm.',\n",
       " 'Eid Al-Fitr: Significance of the blessed festival.',\n",
       " 'Accra, May 2, GNA - The Festival of Eid Al-Fitr or the Festival of Fast-breaking is an important religious day celebrated by Muslims worldwide to mark the end of Ramadan, the Islamic holy month of fasting.',\n",
       " 'For Muslims around the world, the day which is one of the most important festivals on the Islamic calendar, is celebrated to mark the end of the 29 or 30 days of dawn-to-sunset.',\n",
       " 'May 02, 2022 at 2:24pm.',\n",
       " 'BUSINESS.',\n",
       " 'ECOWAS must address conflicts, challenges impeding trade integration.',\n",
       " 'COCOBOD raises 140 millon cocoa seedlings to increase yields.',\n",
       " 'Identify risks and weaknesses in public economic management—Veep.',\n",
       " 'Jomoro Rural Bank records 1,198.',\n",
       " 'SPORTS.',\n",
       " 'Ada Assurance, Sunset Sports paired in Group C for Beach Soccer FA Cup.',\n",
       " 'Ghana to host Madagascar at the Cape Coast Stadium after CAF’s\\u202fapproval.',\n",
       " 'Beach Soccer FA Cup Draw set for Thursday.',\n",
       " 'PFAG to launch YouTube platform for Ghanaian football legends.',\n",
       " 'ENTERTAINMENT.',\n",
       " 'Stonebwoy urges support after signing a global deal with Universal Music Group - Def Jam.',\n",
       " 'Amansan Krakye gets C/R Entertainment Program host award.',\n",
       " 'VGMA Best New Artiste to perform at Ghana Party in the Park event.',\n",
       " 'Miss Kidi Ghana pageantry to return with a bang.',\n",
       " 'EDUCATION.',\n",
       " 'UMaT inaugurates student volunteer group.',\n",
       " 'Female students should not shun engineering courses - Senior Assistant Registrar.',\n",
       " 'UENR lays foundation for multi-purpose office complex.',\n",
       " 'STEM schools will be resourced - Education Minister.',\n",
       " 'SOCIAL.',\n",
       " 'ECOWAS Court holds international conference to examine Integration model.',\n",
       " 'One dead, two in critical condition in accident at Gomoa-Okyereko.',\n",
       " 'Methodist Church petitions government, police to tackle sand winning activities.',\n",
       " 'Train Regional Ministers, MMDCEs on security issues—Amenorwode.',\n",
       " 'POLITICS.',\n",
       " 'NPP is arguably the freest and most democratic society in Africa\" - Prime Minister Harper.',\n",
       " 'E-levy: Minority remains resolute despite injunction application.',\n",
       " 'Let’s work to strengthen the pillars of democracy—NCCE.',\n",
       " 'Sunyani Municipal Assembly re-elects PM to serve another term.',\n",
       " 'Follow Ghana News Agency:.',\n",
       " 'Ghana News Agency| About us| Advertise with us| Privacy Policy| GNA Staff.',\n",
       " 'Ghana News Agency.',\n",
       " 'All Rights Reserved.',\n",
       " 'Site Feedback.',\n",
       " 'Contact.',\n",
       " 'Cookies.',\n",
       " 'Terms of Use.']"
      ]
     },
     "execution_count": 426,
     "metadata": {},
     "output_type": "execute_result"
    }
   ],
   "source": [
    "new_list"
   ]
  },
  {
   "cell_type": "code",
   "execution_count": 427,
   "id": "5cb02fc6-dedd-40b8-bf3e-956cdd8f8b12",
   "metadata": {},
   "outputs": [
    {
     "name": "stdout",
     "output_type": "stream",
     "text": [
      "['Methodist Church petitions government, police to tackle sand winning activities.', 'Addressing conflicts of Herders and Farmers in Ghana: The way forward.', 'Issues at stake For decades or over some centuries, the perennial issue of migration and herder-farmers.', 'Methodist Church petitions government, police to tackle sand winning activities.']\n"
     ]
    }
   ],
   "source": [
    "matches = []\n",
    "#('arm','weapon', 'shot', 'police', 'military', 'drugs', 'suspect')\n",
    "for match in new_list:\n",
    "    if \"arm\" in match:\n",
    "        matches.append(match)\n",
    "    if \"weapon\" in match:\n",
    "        matches.append(match)\n",
    "    if \"shot\" in match:\n",
    "        matches.append(match)\n",
    "    if \"police\" in match:\n",
    "        matches.append(match)\n",
    "    if \"military\" in match:\n",
    "        matches.append(match)\n",
    "    if \"drugs\" in match:\n",
    "        matches.append(match)\n",
    "    if \"suspects\" in match:\n",
    "        matches.append(match)\n",
    "    if \"Arm\" in match:\n",
    "        matches.append(match)\n",
    "    if \"Weapon\" in match:\n",
    "        matches.append(match)\n",
    "    if \"Shot\" in match:\n",
    "        matches.append(match)\n",
    "    if \"Police\" in match:\n",
    "        matches.append(match)\n",
    "    if \"Military\" in match:\n",
    "        matches.append(match)\n",
    "    if \"Drugs\" in match:\n",
    "        matches.append(match)\n",
    "    if \"Kill\" in match:\n",
    "        matches.append(match)\n",
    "    if \"Cannabis\" in match:\n",
    "        matches.append(match)\n",
    "    if \"connnabis\" in match:\n",
    "        matches.append(match)\n",
    "    if \"Cocaine\" in match:\n",
    "        matches.append(match)\n",
    "    if \"cocaine\" in match:\n",
    "        matches.append(match)\n",
    "    if \"weed\" in match:\n",
    "        matches.append(match)\n",
    "print(matches)\n",
    "#kill"
   ]
  },
  {
   "cell_type": "code",
   "execution_count": 428,
   "id": "e5bcb021-ebc7-492b-9b05-64e54d892e4b",
   "metadata": {},
   "outputs": [],
   "source": [
    "new_ = [s.replace(\",\", \"\") for s in matches]\n",
    "new_l = [s.replace(\".\", \"\") for s in new_]\n",
    "new_li = [s.replace(\"–\", \"\") for s in new_l]\n",
    "new_lis = [s.replace(\"?\", \"\") for s in new_li]\n",
    "new_list = [s.replace(\":\", \"\") for s in new_lis]\n",
    "new_lists = [s.replace(\";\", \"\") for s in new_list]"
   ]
  },
  {
   "cell_type": "code",
   "execution_count": 429,
   "id": "7868eb32-730b-4527-9f6b-75f82028a46e",
   "metadata": {},
   "outputs": [
    {
     "data": {
      "text/plain": [
       "4"
      ]
     },
     "execution_count": 429,
     "metadata": {},
     "output_type": "execute_result"
    }
   ],
   "source": [
    "len(new_lists)"
   ]
  },
  {
   "cell_type": "code",
   "execution_count": 430,
   "id": "894d3d4e-ac6d-4782-9035-60e5dfceb310",
   "metadata": {},
   "outputs": [
    {
     "data": {
      "text/plain": [
       "['Methodist Church petitions government police to tackle sand winning activities',\n",
       " 'Addressing conflicts of Herders and Farmers in Ghana The way forward',\n",
       " 'Issues at stake For decades or over some centuries the perennial issue of migration and herder-farmers',\n",
       " 'Methodist Church petitions government police to tackle sand winning activities']"
      ]
     },
     "execution_count": 430,
     "metadata": {},
     "output_type": "execute_result"
    }
   ],
   "source": [
    "new_lists"
   ]
  },
  {
   "cell_type": "code",
   "execution_count": null,
   "id": "4facda50-d167-4470-823e-6da570eeea02",
   "metadata": {},
   "outputs": [],
   "source": []
  },
  {
   "cell_type": "code",
   "execution_count": 431,
   "id": "3366964f-60df-4d53-94a4-8b2221dfa25b",
   "metadata": {},
   "outputs": [],
   "source": [
    "urls = new_lists\n"
   ]
  },
  {
   "cell_type": "code",
   "execution_count": 432,
   "id": "b1e7812b-8fc3-4141-9a68-d17469ee6f1b",
   "metadata": {},
   "outputs": [
    {
     "data": {
      "text/plain": [
       "list"
      ]
     },
     "execution_count": 432,
     "metadata": {},
     "output_type": "execute_result"
    }
   ],
   "source": [
    "type(urls)"
   ]
  },
  {
   "cell_type": "code",
   "execution_count": 433,
   "id": "a9ca3fbe-94ef-4081-a987-809dfb76b7c4",
   "metadata": {},
   "outputs": [],
   "source": [
    "col1 = \"topics\""
   ]
  },
  {
   "cell_type": "code",
   "execution_count": 434,
   "id": "f49d0644-9791-40b5-8e6e-e8353901b6dd",
   "metadata": {},
   "outputs": [],
   "source": [
    "data = pd.DataFrame({col1:urls})"
   ]
  },
  {
   "cell_type": "code",
   "execution_count": 435,
   "id": "13a71252-ed21-41ed-bbb3-d5c9764a1431",
   "metadata": {},
   "outputs": [],
   "source": [
    "today = (datetime.today().strftime('%Y-%m-%d'),'gna')"
   ]
  },
  {
   "cell_type": "code",
   "execution_count": 436,
   "id": "d82cbd81-7760-40d5-8bbc-abe9318abce1",
   "metadata": {},
   "outputs": [],
   "source": [
    "# Use str.join() to convert tuple to string.\n",
    "today = ''.join(today)\n"
   ]
  },
  {
   "cell_type": "code",
   "execution_count": 437,
   "id": "7f298d1c-82a3-453d-ac4f-9137709faca2",
   "metadata": {},
   "outputs": [],
   "source": [
    "with pd.ExcelWriter(\"C:\\\\Users\\\\kofi\\\\Desktop\\\\selenium.xlsx\", engine=\"openpyxl\", mode=\"a\") as writer:\n",
    "    data.to_excel(writer, sheet_name=today, startrow=0, startcol=0)"
   ]
  },
  {
   "cell_type": "code",
   "execution_count": null,
   "id": "50ede751-966a-47be-beb5-fd7ea7d2d275",
   "metadata": {},
   "outputs": [],
   "source": []
  },
  {
   "cell_type": "markdown",
   "id": "0fe0c081-59ba-4b8e-a84e-9fae127590f2",
   "metadata": {},
   "source": [
    "## ghanamma"
   ]
  },
  {
   "cell_type": "code",
   "execution_count": 438,
   "id": "73327f2d-8f40-4eb5-9330-5e457ad1a873",
   "metadata": {},
   "outputs": [
    {
     "name": "stdout",
     "output_type": "stream",
     "text": [
      "did not finish loading\n"
     ]
    }
   ],
   "source": [
    "try:\n",
    "    \n",
    "    driver.get(\"https://www.ghanamma.com/\")    \n",
    "    time.sleep(30)   \n",
    "except Exception:\n",
    "    pass\n",
    "print('did not finish loading')"
   ]
  },
  {
   "cell_type": "code",
   "execution_count": 439,
   "id": "f1d6bf59-ccf7-4789-84b3-fb2ca43d73a0",
   "metadata": {},
   "outputs": [
    {
     "name": "stderr",
     "output_type": "stream",
     "text": [
      "C:\\Users\\kofi\\AppData\\Local\\Temp/ipykernel_17312/1622795889.py:1: DeprecationWarning: find_element_by_xpath is deprecated. Please use find_element(by=By.XPATH, value=xpath) instead\n",
      "  i = driver.find_element_by_xpath(\"(//body)[1]\")\n"
     ]
    }
   ],
   "source": [
    "i = driver.find_element_by_xpath(\"(//body)[1]\")\n",
    " #(//div)[39]\n",
    "    #(//div[@class='jeg_viewport'])[1]"
   ]
  },
  {
   "cell_type": "code",
   "execution_count": 440,
   "id": "da069378-7e7b-452b-a872-be4a5a260bed",
   "metadata": {},
   "outputs": [],
   "source": [
    "k = i.text"
   ]
  },
  {
   "cell_type": "code",
   "execution_count": 441,
   "id": "16682d64-7736-44eb-bfcf-62fe2f4f3e6d",
   "metadata": {},
   "outputs": [],
   "source": [
    "rep = k.replace(\"\\n\", \". \")"
   ]
  },
  {
   "cell_type": "code",
   "execution_count": 442,
   "id": "d49786b6-2c20-490f-ba32-6af1b33d5160",
   "metadata": {},
   "outputs": [],
   "source": [
    "import re\n",
    "expression = re.compile(r'([A-Z][^\\.!?]*[\\.!?])')\n",
    "new_list = re.findall(expression, rep)"
   ]
  },
  {
   "cell_type": "code",
   "execution_count": 443,
   "id": "0a1ff811-2514-4293-912c-c23e743d35d8",
   "metadata": {},
   "outputs": [
    {
     "data": {
      "text/plain": [
       "['This website uses cookies to ensure you get the best experience on our website.',\n",
       " 'Learn more.',\n",
       " 'Got it!',\n",
       " 'C.',\n",
       " 'London.',\n",
       " 'Friday, May 6, 2022.',\n",
       " 'Sign in / Join.',\n",
       " 'GH.',\n",
       " 'GHANA NEWS.',\n",
       " 'HOME.',\n",
       " 'TOP STORIES.',\n",
       " 'LOCAL NEWS.',\n",
       " 'POLITICS.',\n",
       " 'BUSINESS.',\n",
       " 'ENTERTAINMENT.',\n",
       " 'NOLLYWOOD.',\n",
       " 'SPORTS.',\n",
       " 'MORE.',\n",
       " 'LATEST NEWS.',\n",
       " 'One dead, two in critical condition in accident at Gomoa-Okyereko.',\n",
       " 'Top Stories.',\n",
       " 'AUDIO: Power thirst forcing Mahama to make promises he can’t keep – Majority Leader.',\n",
       " 'Ghana News - 4 mins ago.',\n",
       " 'Top Stories.',\n",
       " 'UEFA Champions & Europa League Finals: Check out the Nine (9) Africa Nations Representing Africa.',\n",
       " 'Ghana News - 15 mins ago.',\n",
       " 'Top Stories.',\n",
       " 'Election 2024: Apostle Isaac Owusu Bempah Drops Another Strange Vision Ahead Of The Election.',\n",
       " 'Ghana News - 44 mins ago.',\n",
       " 'Top Stories.',\n",
       " 'I Saw Lightening Carry Heavy Image Into A Coffin; It’s Happening Soon- Owusu Bempa’s Fresh Pophecy.',\n",
       " 'Ghana News - 55 mins ago.',\n",
       " 'Top Stories.',\n",
       " 'Moments You Should Be Silent According To The Bible.',\n",
       " 'Ghana News - 1 hour ago.',\n",
       " 'Top Stories.',\n",
       " 'The Kazungula Quadripoint Where four African countries meet.',\n",
       " 'Ghana News - 1 hour ago.',\n",
       " 'Top Stories.',\n",
       " 'Marion Sims: the gynecologist who used black slaves for surgical experiments without anesthesia.',\n",
       " 'Ghana News - 1 hour ago.',\n",
       " 'ENTERTAINMENT.',\n",
       " 'Entertainment.',\n",
       " 'Shatta Wale’s former girlfriend Michy releases pregnancy photo on birthday » ™.',\n",
       " 'Ghana News - 5 mins ago.',\n",
       " 'Entertainment.',\n",
       " 'Giving Your Girlfriend Money Will Damage Your Relationship.',\n",
       " 'Ghana News - 17 mins ago.',\n",
       " 'Entertainment.',\n",
       " 'Ghone TV Loses Another Presenter To TV3 Family.',\n",
       " 'Ghana News - 32 mins ago.',\n",
       " 'Entertainment.',\n",
       " 'Orphanage Afia Schwar Adopted Pena Demands Custody.',\n",
       " 'Ghana News - 46 mins ago.',\n",
       " 'Entertainment.',\n",
       " 'DJ Sly Rebrands To DJ Sly King.',\n",
       " 'Ghana News - 56 mins ago.',\n",
       " 'Entertainment.',\n",
       " 'Money Doesn’t Guarantee Loyalty In A Relationship-Jessica Opare Saforo.',\n",
       " 'Ghana News - 1 hour ago.',\n",
       " 'Entertainment.',\n",
       " 'Miss Tourism Ghana 2022 Launched.',\n",
       " 'Ghana News - 1 hour ago.',\n",
       " 'Entertainment.',\n",
       " 'Bob Marley’s son, Rohan Marley reacts to Black Sherif’s ‘Kwaku the Traveler [Watch].',\n",
       " 'Ghana News - 1 hour ago.',\n",
       " 'Entertainment.',\n",
       " 'I Had To Brush My Teeth Several Times Before Kissing Yvonne Nelson – Says Anthony |.',\n",
       " 'Ghana News - 2 hours ago.',\n",
       " 'POLITICS.',\n",
       " 'Politics.',\n",
       " 'Allotey Jacobs takes on Akufo-Addo’s appointees.',\n",
       " 'Ghana News - 32 mins ago.',\n",
       " 'Politics.',\n",
       " 'Corruption Needs Transparency Vaccine’ – DailyGuide Network.',\n",
       " 'Ghana News - 45 mins ago.',\n",
       " 'Politics.',\n",
       " 'Curfew imposed at Kwabenya.',\n",
       " 'Ghana News - 56 mins ago.',\n",
       " 'Politics.',\n",
       " 'I’ve Strong Faith In God -Says Akufo-Addo.',\n",
       " 'Ghana News - 1 hour ago.',\n",
       " 'LOCAL NEWS.',\n",
       " 'Local News.',\n",
       " 'Vacate streets, pavements in one week or we prosecute you – AMA boss to traders.',\n",
       " 'Ghana News - 2 mins ago.',\n",
       " 'Local News.',\n",
       " 'One dead, two in critical condition in accident at Gomoa-Okyereko.',\n",
       " 'Ghana News - 15 mins ago.',\n",
       " 'Local News.',\n",
       " 'Shocking details emerge about Fire Service personnel.',\n",
       " 'Ghana News - 29 mins ago.',\n",
       " 'Local News.',\n",
       " 'GPRTU To Increase Fares By 30% On Friday, May 13 | Social.',\n",
       " 'Ghana News - May 6, 2022.',\n",
       " 'BUSINESS.',\n",
       " 'Business.',\n",
       " 'Public Enterprises Ministry Begins Assessing SOEs.',\n",
       " 'Ghana News - 5 mins ago.',\n",
       " 'Business.',\n",
       " 'ECOWAS must address conflicts, challenges impeding trade integration.',\n",
       " 'Ghana News - 18 mins ago.',\n",
       " 'Business.',\n",
       " 'GRA Pledges Robust E-Levy Records.',\n",
       " 'Ghana News - 34 mins ago.',\n",
       " 'SPORTS.',\n",
       " 'Sports.',\n",
       " 'Asian Games in China postponed amid Covid-19.',\n",
       " 'Ghana News - 47 mins ago.',\n",
       " 'Sports.',\n",
       " 'Andy Yiadom voted Reading FC Player of the Season.',\n",
       " 'Ghana News - 1 hour ago.',\n",
       " 'Sports.',\n",
       " 'Haaland, Ibrahimovic and Fabregas In Attendance At Mino Raiola’s Funeral |.',\n",
       " 'Ghana News - 1 hour ago.',\n",
       " 'Sports.',\n",
       " 'Politicians Think We’re Fools… – Peace FM’s Dan Kweku Yeboah On E-levy Will Go Promise By Mahama |.',\n",
       " 'Ghana News - 2 hours ago.',\n",
       " 'WORLD NEWS.',\n",
       " 'World.',\n",
       " 'Scottish council elections 2022: The wards where there is no contest.',\n",
       " 'Ghana News - 27 mins ago.',\n",
       " 'World.',\n",
       " 'Scotland council elections 2022: A really simple guide.',\n",
       " 'Ghana News - 41 mins ago.',\n",
       " 'World.',\n",
       " 'Scottish council elections: Local issues and national questions.',\n",
       " 'Ghana News - 51 mins ago.',\n",
       " 'World.',\n",
       " 'Rangers ‘couldn’t write better script’ after reaching Europa League final.',\n",
       " 'Ghana News - 1 hour ago.',\n",
       " 'AFRICA NEWS.',\n",
       " 'Africa.',\n",
       " \"Waking up to the sound of birds relaxes your soul'.\",\n",
       " 'May 6, 2022.',\n",
       " 'Africa.',\n",
       " \"Senegal midwives go on trial in Louga over Astou Sokhna's death.\",\n",
       " 'May 5, 2022.',\n",
       " 'Africa.',\n",
       " 'Eight-year-old Ugandan flying maestro says he adores Elon Musk.',\n",
       " 'May 5, 2022.',\n",
       " 'ODD NEWS.',\n",
       " 'Odd But True.',\n",
       " \"Four-year-old boy takes mum's car for spin.\",\n",
       " 'May 2, 2022.',\n",
       " 'Odd But True.',\n",
       " 'Late Artist Francis Hines Rediscovered After Paintings Found In Dumpster.',\n",
       " 'April 22, 2022.',\n",
       " 'Odd But True.',\n",
       " 'Vanishing act: Exploring the case of the disappearing moon.',\n",
       " 'April 20, 2022.',\n",
       " 'PREMIER LEAGUE.',\n",
       " 'Premier League.',\n",
       " 'Nothing to lose’ for Millwall in unlikely final day bid to crash play-offs.',\n",
       " 'May 6, 2022.',\n",
       " 'Premier League.',\n",
       " 'Euro transfer news: Kylian Mbappe’s mum wades in as huge £85m bonus emerges.',\n",
       " 'May 6, 2022.',\n",
       " 'Premier League.',\n",
       " 'List of legendary rewards and free items released in the Free Fire Ramadan 2022 event.',\n",
       " 'May 6, 2022.',\n",
       " 'GH.',\n",
       " 'GHANA NEWS.',\n",
       " 'Advertise.',\n",
       " 'DCMA.',\n",
       " 'Disclaimer.',\n",
       " 'Feedback.',\n",
       " 'Jobs In Ghana.',\n",
       " 'Contact Us.',\n",
       " 'Ghanamma.',\n",
       " 'All trademarks and copyrights on this page are owned by their respective owners.']"
      ]
     },
     "execution_count": 443,
     "metadata": {},
     "output_type": "execute_result"
    }
   ],
   "source": [
    "new_list"
   ]
  },
  {
   "cell_type": "code",
   "execution_count": 444,
   "id": "da33e3e6-ec96-49be-b319-c65f1e510dff",
   "metadata": {},
   "outputs": [
    {
     "name": "stdout",
     "output_type": "stream",
     "text": [
      "[]\n"
     ]
    }
   ],
   "source": [
    "matches = []\n",
    "#('arm','weapon', 'shot', 'police', 'military', 'drugs', 'suspect')\n",
    "for match in new_list:\n",
    "    if \"arm\" in match:\n",
    "        matches.append(match)\n",
    "    if \"weapon\" in match:\n",
    "        matches.append(match)\n",
    "    if \"shot\" in match:\n",
    "        matches.append(match)\n",
    "    if \"police\" in match:\n",
    "        matches.append(match)\n",
    "    if \"military\" in match:\n",
    "        matches.append(match)\n",
    "    if \"drugs\" in match:\n",
    "        matches.append(match)\n",
    "    if \"suspects\" in match:\n",
    "        matches.append(match)\n",
    "    if \"Arm\" in match:\n",
    "        matches.append(match)\n",
    "    if \"Weapon\" in match:\n",
    "        matches.append(match)\n",
    "    if \"Shot\" in match:\n",
    "        matches.append(match)\n",
    "    if \"Police\" in match:\n",
    "        matches.append(match)\n",
    "    if \"Military\" in match:\n",
    "        matches.append(match)\n",
    "    if \"Drugs\" in match:\n",
    "        matches.append(match)\n",
    "    if \"Kill\" in match:\n",
    "        matches.append(match)\n",
    "    if \"Cannabis\" in match:\n",
    "        matches.append(match)\n",
    "    if \"connnabis\" in match:\n",
    "        matches.append(match)\n",
    "    if \"Cocaine\" in match:\n",
    "        matches.append(match)\n",
    "    if \"cocaine\" in match:\n",
    "        matches.append(match)\n",
    "    if \"weed\" in match:\n",
    "        matches.append(match)\n",
    "print(matches)\n",
    "#kill"
   ]
  },
  {
   "cell_type": "code",
   "execution_count": 445,
   "id": "e81710d9-2125-4882-97d1-2b26562025a5",
   "metadata": {},
   "outputs": [],
   "source": [
    "new_ = [s.replace(\",\", \"\") for s in matches]\n",
    "new_l = [s.replace(\".\", \"\") for s in new_]\n",
    "new_li = [s.replace(\"–\", \"\") for s in new_l]\n",
    "new_lis = [s.replace(\"?\", \"\") for s in new_li]\n",
    "new_list = [s.replace(\":\", \"\") for s in new_lis]\n",
    "new_lists = [s.replace(\";\", \"\") for s in new_list]"
   ]
  },
  {
   "cell_type": "code",
   "execution_count": 446,
   "id": "0260f080-1549-42f3-8727-3ed9e8ed82f9",
   "metadata": {},
   "outputs": [
    {
     "data": {
      "text/plain": [
       "0"
      ]
     },
     "execution_count": 446,
     "metadata": {},
     "output_type": "execute_result"
    }
   ],
   "source": [
    "len(new_lists)"
   ]
  },
  {
   "cell_type": "code",
   "execution_count": 447,
   "id": "df65e087-1ef1-43ac-8d70-fdb286115fea",
   "metadata": {},
   "outputs": [
    {
     "data": {
      "text/plain": [
       "[]"
      ]
     },
     "execution_count": 447,
     "metadata": {},
     "output_type": "execute_result"
    }
   ],
   "source": [
    "new_lists"
   ]
  },
  {
   "cell_type": "code",
   "execution_count": null,
   "id": "aa38a077-70a6-400a-a9f7-2c7e5cf8ecc1",
   "metadata": {},
   "outputs": [],
   "source": []
  },
  {
   "cell_type": "code",
   "execution_count": 448,
   "id": "1909438d-b3f6-49e9-95d3-88968d60ad29",
   "metadata": {},
   "outputs": [],
   "source": [
    "urls = new_lists\n"
   ]
  },
  {
   "cell_type": "code",
   "execution_count": 449,
   "id": "ae94eb9b-e0c9-45be-8e9e-d0427f6fc750",
   "metadata": {},
   "outputs": [
    {
     "data": {
      "text/plain": [
       "list"
      ]
     },
     "execution_count": 449,
     "metadata": {},
     "output_type": "execute_result"
    }
   ],
   "source": [
    "type(urls)"
   ]
  },
  {
   "cell_type": "code",
   "execution_count": 450,
   "id": "67c16ec7-c118-4941-baaf-e6a8d92babe9",
   "metadata": {},
   "outputs": [],
   "source": [
    "col1 = \"topics\""
   ]
  },
  {
   "cell_type": "code",
   "execution_count": 451,
   "id": "c9e41d39-0112-454e-b9f0-4ec04cdf1cd4",
   "metadata": {},
   "outputs": [],
   "source": [
    "data = pd.DataFrame({col1:urls})"
   ]
  },
  {
   "cell_type": "code",
   "execution_count": 452,
   "id": "b52af13f-c44d-4713-8096-1df53f568ead",
   "metadata": {},
   "outputs": [],
   "source": [
    "today = (datetime.today().strftime('%Y-%m-%d'),'ghanamma')"
   ]
  },
  {
   "cell_type": "code",
   "execution_count": 453,
   "id": "ee39a9f7-2541-4de2-88bf-4f729d365c25",
   "metadata": {},
   "outputs": [],
   "source": [
    "# Use str.join() to convert tuple to string.\n",
    "today = ''.join(today)\n"
   ]
  },
  {
   "cell_type": "code",
   "execution_count": 454,
   "id": "aa5ef32f-d6f7-402a-8b7f-43a130e58651",
   "metadata": {},
   "outputs": [],
   "source": [
    "with pd.ExcelWriter(\"C:\\\\Users\\\\kofi\\\\Desktop\\\\selenium.xlsx\", engine=\"openpyxl\", mode=\"a\") as writer:\n",
    "    data.to_excel(writer, sheet_name=today, startrow=0, startcol=0)"
   ]
  },
  {
   "cell_type": "markdown",
   "id": "15da8041-51cf-476e-864e-6d0e0aeb3fab",
   "metadata": {},
   "source": [
    "## theghnewsstand"
   ]
  },
  {
   "cell_type": "code",
   "execution_count": 455,
   "id": "67690ca6-aa41-44dd-a80f-db6075255c02",
   "metadata": {},
   "outputs": [
    {
     "name": "stdout",
     "output_type": "stream",
     "text": [
      "did not finish loading\n"
     ]
    }
   ],
   "source": [
    "try:\n",
    "    \n",
    "    driver.get(\"https://theghnewsstand.net/\")    \n",
    "    time.sleep(30)   \n",
    "except Exception:\n",
    "    pass\n",
    "print('did not finish loading')"
   ]
  },
  {
   "cell_type": "code",
   "execution_count": 456,
   "id": "c3e190f8-69f9-406a-8c93-4e4eb7f8a322",
   "metadata": {},
   "outputs": [
    {
     "name": "stderr",
     "output_type": "stream",
     "text": [
      "C:\\Users\\kofi\\AppData\\Local\\Temp/ipykernel_17312/1622795889.py:1: DeprecationWarning: find_element_by_xpath is deprecated. Please use find_element(by=By.XPATH, value=xpath) instead\n",
      "  i = driver.find_element_by_xpath(\"(//body)[1]\")\n"
     ]
    }
   ],
   "source": [
    "i = driver.find_element_by_xpath(\"(//body)[1]\")\n",
    " #(//div)[39]\n",
    "    #(//div[@class='jeg_viewport'])[1]"
   ]
  },
  {
   "cell_type": "code",
   "execution_count": 457,
   "id": "438b2b06-4e02-4e4a-96f4-88b469152d6c",
   "metadata": {},
   "outputs": [],
   "source": [
    "k = i.text"
   ]
  },
  {
   "cell_type": "code",
   "execution_count": 458,
   "id": "186970cc-04ec-4f70-82b3-8a3ec2c40f2a",
   "metadata": {},
   "outputs": [],
   "source": [
    "rep = k.replace(\"\\n\", \". \")"
   ]
  },
  {
   "cell_type": "code",
   "execution_count": 459,
   "id": "f74e9290-181b-4c2b-b37f-ff01c285bdc1",
   "metadata": {},
   "outputs": [],
   "source": [
    "import re\n",
    "expression = re.compile(r'([A-Z][^\\.!?]*[\\.!?])')\n",
    "new_list = re.findall(expression, rep)"
   ]
  },
  {
   "cell_type": "code",
   "execution_count": 460,
   "id": "e4ff80ae-3caa-4679-a5ba-f17f82c7b5ba",
   "metadata": {},
   "outputs": [
    {
     "data": {
      "text/plain": [
       "['Home.',\n",
       " 'Featured.',\n",
       " 'Latest News.',\n",
       " 'Search for.',\n",
       " 'May 6, 2022.',\n",
       " 'Corrupt People Hate Transparency – Bawumia.',\n",
       " 'The Akufo-Addo government’s infusion of digitalization in the provision of government services as part of the fight against corruption is….',\n",
       " 'May 6, 2022.',\n",
       " 'National Cathedral addresses missing link in Ghana’s architecture – Akufo-Addo.',\n",
       " 'May 6, 2022.',\n",
       " 'Let Democracy Reign – Nitiwul To Defence Chiefs.',\n",
       " 'May 6, 2022.',\n",
       " 'Let’s work to strengthen the pillars of democracy – Former NCCE\\u202fChairperson.',\n",
       " 'May 6, 2022.',\n",
       " 'I don’t think Ghana needs a new Constitution – Kwabena Agyapong.',\n",
       " 'Politics.',\n",
       " 'Politics.',\n",
       " 'May 6, 2022.',\n",
       " 'Corrupt People Hate Transparency – Bawumia.',\n",
       " 'The Akufo-Addo government’s infusion of digitalization in the provision of government services as part of the fight against corruption is….',\n",
       " 'Read More ».',\n",
       " 'May 6, 2022.',\n",
       " 'They said I was ‘too short’ to be president but here I am by God’s grace – Akufo-Addo.',\n",
       " 'May 6, 2022.',\n",
       " 'You rushed on NDC’s plan to repeal e-levy – Mahama Told.',\n",
       " 'May 6, 2022.',\n",
       " 'E-levy: I never said Ghanaians who refuse to accept MoMo will be arrested — John Kumah Denies.',\n",
       " 'Show More.',\n",
       " 'News.',\n",
       " 'Politics.',\n",
       " 'May 6, 2022.',\n",
       " 'Corrupt People Hate Transparency – Bawumia.',\n",
       " 'The Akufo-Addo government’s infusion of digitalization in the provision of government services as part of the fight against corruption is….',\n",
       " 'Read More ».',\n",
       " 'May 6, 2022.',\n",
       " 'National Cathedral addresses missing link in Ghana’s architecture – Akufo-Addo.',\n",
       " 'May 6, 2022.',\n",
       " 'Let Democracy Reign – Nitiwul To Defence Chiefs.',\n",
       " 'May 6, 2022.',\n",
       " 'Let’s work to strengthen the pillars of democracy – Former NCCE\\u202fChairperson.',\n",
       " 'Show More.',\n",
       " 'Entertainment.',\n",
       " 'Entertainment.',\n",
       " 'May 6, 2022.',\n",
       " 'Actress Salma Mumin Finally Breaks Silence On Food Poisoned Reports.',\n",
       " 'Ghanaian actress and entrepreneur, Salma Mumin has addressed some reports published by blogs that she was poisoned on set during….',\n",
       " 'Read More ».',\n",
       " 'May 5, 2022.',\n",
       " 'How Captain Smart was celebrated on his birthday.',\n",
       " 'May 5, 2022.',\n",
       " 'I need to get married and stop fornicating – Tracey Boakye.',\n",
       " 'May 4, 2022.',\n",
       " 'Fameye Welcomes Second Child.',\n",
       " 'Load More.',\n",
       " 'Business.',\n",
       " 'In Focus.',\n",
       " 'May 5, 2022.',\n",
       " 'Transport Fares To Go Up.',\n",
       " 'Transport unions in the country have vowed to increase transport fares.',\n",
       " 'This follows President Akufo-Addo’s outright rejection of suggestions to….',\n",
       " 'Read More ».',\n",
       " 'April 28, 2022.',\n",
       " 'Support Start-ups By Paying E-levy – Gov’t Urge Ghanaians.',\n",
       " 'Odd News.',\n",
       " 'Latest News.',\n",
       " 'May 4, 2022.',\n",
       " 'Hormos’ Day at Senior High Schools in Ghana-What’s It?',\n",
       " 'Most of every Ghanaian SHS school student has experienced this hilarious concert caricature called ‘Hormos’ Day before.',\n",
       " 'Anaasɛ Mose meboa’?',\n",
       " 'Read More ».',\n",
       " 'May 3, 2022.',\n",
       " 'Cell phone usage in the kitchen poses fire threat – GNFS.',\n",
       " 'May 2, 2022.',\n",
       " 'American law imprisons corrupt politicians; Ghanaian law allows them in power.',\n",
       " 'April 24, 2022.',\n",
       " 'Man breaks into morgue to have sex with dead woman, arrested ‘with pants round ankles’.',\n",
       " 'Sports.',\n",
       " 'Latest News.',\n",
       " 'May 5, 2022.',\n",
       " 'Our doors are always open for him – Kotoko CEO on signing Asamoah Gyan.',\n",
       " 'Asante Kotoko Chief Executive officer, Nana Yaw Amponsah, has said he is ready to sign former Black Stars captain, Asamoah….',\n",
       " 'Read More ».',\n",
       " 'May 4, 2022.',\n",
       " 'Otto Addo To Lead Ghana At 2022 World Cup.',\n",
       " 'May 3, 2022.',\n",
       " 'I had a good season – Bulgaria-based striker Bernard Tekpetey.',\n",
       " 'May 3, 2022.',\n",
       " 'My focus is not to win the GPL goal king – Ashantigold winger Yaw Annor.',\n",
       " 'Load More.',\n",
       " 'World News.',\n",
       " 'World News.',\n",
       " 'May 4, 2022.',\n",
       " 'Eight Dead After Drinking Homemade Alcohol.',\n",
       " 'Eight people have died after drinking tainted homemade alcohol in the Iranian city of Bandar Abbas, local media say.',\n",
       " 'Another….',\n",
       " 'Read More ».',\n",
       " 'May 2, 2022.',\n",
       " 'The divorce rate for soldiers is high, some go for open marriages – US-based Ghanaian reveals.',\n",
       " 'May 2, 2022.',\n",
       " 'Dutch boy, 4, takes mother’s car for a joyride.',\n",
       " 'May 2, 2022.',\n",
       " 'Alabama hunt for missing prison inmate and guard.',\n",
       " 'Show More.',\n",
       " 'Africa.',\n",
       " 'Latest News.',\n",
       " 'May 5, 2022.',\n",
       " 'Horn of Africa.',\n",
       " 'From southern Ethiopia to northern Kenya and Somalia, swathes of land across the Horn of Africa are being ravaged by….',\n",
       " 'Read More ».',\n",
       " 'May 4, 2022.',\n",
       " 'Media freedom: Somali journalists under attack by Shabaab, state and online trolls.',\n",
       " 'May 4, 2022.',\n",
       " 'Ethiopia ‘foils’ cyber-attack on Nile dam, financial institutions.',\n",
       " 'May 3, 2022.',\n",
       " 'These two words helped Bola Sokunbi grow $100k in retirement savings in just five years.',\n",
       " 'Load More.',\n",
       " 'TOP STORY.',\n",
       " 'Latest News.',\n",
       " 'Kwabenya To Go under curfew from Today to May 8.',\n",
       " 'May 5, 2022.',\n",
       " 'What’s New.',\n",
       " 'Corrupt People Hate Transparency – Bawumia.',\n",
       " 'May 6, 2022.',\n",
       " 'National Cathedral addresses missing link in Ghana’s architecture – Akufo-Addo.',\n",
       " 'May 6, 2022.',\n",
       " 'Let Democracy Reign – Nitiwul To Defence Chiefs.',\n",
       " 'May 6, 2022.',\n",
       " 'Let’s work to strengthen the pillars of democracy – Former NCCE\\u202fChairperson.',\n",
       " 'May 6, 2022.',\n",
       " 'I don’t think Ghana needs a new Constitution – Kwabena Agyapong.',\n",
       " 'May 6, 2022.',\n",
       " 'I’m surprised Akufo-Addo hasn’t met Ghana’s media for some time now – Prof Agyeman-Duah.',\n",
       " 'May 6, 2022.',\n",
       " 'They said I was ‘too short’ to be president but here I am by God’s grace – Akufo-Addo.',\n",
       " 'May 6, 2022.',\n",
       " 'Cholera Outbreak Looms At Ghanasco.',\n",
       " 'May 6, 2022.',\n",
       " 'Nkroful Youth Arrested For Attacking Police Station.',\n",
       " 'May 6, 2022.',\n",
       " 'Parents should befriend their children – Educational Consultant.',\n",
       " 'May 6, 2022.',\n",
       " 'Driver remanded for allegedly defiling 15-year-old girl.',\n",
       " 'May 6, 2022.',\n",
       " 'Pastor Charges $700 Fee To ‘Take People To Heaven’.',\n",
       " 'May 6, 2022.',\n",
       " 'Kwabenya Under 3-Days Curfew.',\n",
       " 'May 6, 2022.',\n",
       " 'Former tollbooth workers depressed over government neglect.',\n",
       " 'May 6, 2022.',\n",
       " 'ECG Resolves Nuri Vending Challenge.',\n",
       " 'May 6, 2022.',\n",
       " 'Increase feeding grant to support inmates of Nsawam Prison – Authorities Appeal To Gov’t.',\n",
       " 'May 6, 2022.',\n",
       " 'AMA warns women against processing food in markets.',\n",
       " 'May 6, 2022.',\n",
       " 'You rushed on NDC’s plan to repeal e-levy – Mahama Told.',\n",
       " 'May 6, 2022.',\n",
       " 'E-levy: I never said Ghanaians who refuse to accept MoMo will be arrested — John Kumah Denies.',\n",
       " 'May 6, 2022.',\n",
       " 'Actress Salma Mumin Finally Breaks Silence On Food Poisoned Reports.',\n",
       " 'May 6, 2022.',\n",
       " 'Shortage of diesel looming in Ghana due to Russia-Ukraine war – IES Predicts.',\n",
       " 'May 6, 2022.',\n",
       " 'I had faith; my election victories confirm that with God, all things are possible’ – Nana Addo.',\n",
       " 'May 6, 2022.',\n",
       " 'Defence Minister Urges ECOWAS Militaries To Protect Elected Gov’ts.',\n",
       " 'May 6, 2022.',\n",
       " 'Supreme Court’s Reasons For Dismissing E-levy Injunction – [Full Judgement].',\n",
       " 'May 6, 2022.',\n",
       " 'We’re dying, we’re getting sick due to litigation stress’ – Lawyer bemoans.',\n",
       " 'May 6, 2022.']"
      ]
     },
     "execution_count": 460,
     "metadata": {},
     "output_type": "execute_result"
    }
   ],
   "source": [
    "new_list"
   ]
  },
  {
   "cell_type": "code",
   "execution_count": 461,
   "id": "b534f47b-c5b4-4eb8-b648-c2d6c57beddd",
   "metadata": {},
   "outputs": [
    {
     "name": "stdout",
     "output_type": "stream",
     "text": [
      "['Nkroful Youth Arrested For Attacking Police Station.']\n"
     ]
    }
   ],
   "source": [
    "matches = []\n",
    "#('arm','weapon', 'shot', 'police', 'military', 'drugs', 'suspect')\n",
    "for match in new_list:\n",
    "    if \"arm\" in match:\n",
    "        matches.append(match)\n",
    "    if \"weapon\" in match:\n",
    "        matches.append(match)\n",
    "    if \"shot\" in match:\n",
    "        matches.append(match)\n",
    "    if \"police\" in match:\n",
    "        matches.append(match)\n",
    "    if \"military\" in match:\n",
    "        matches.append(match)\n",
    "    if \"drugs\" in match:\n",
    "        matches.append(match)\n",
    "    if \"suspects\" in match:\n",
    "        matches.append(match)\n",
    "    if \"Arm\" in match:\n",
    "        matches.append(match)\n",
    "    if \"Weapon\" in match:\n",
    "        matches.append(match)\n",
    "    if \"Shot\" in match:\n",
    "        matches.append(match)\n",
    "    if \"Police\" in match:\n",
    "        matches.append(match)\n",
    "    if \"Military\" in match:\n",
    "        matches.append(match)\n",
    "    if \"Drugs\" in match:\n",
    "        matches.append(match)\n",
    "    if \"Kill\" in match:\n",
    "        matches.append(match)\n",
    "    if \"Cannabis\" in match:\n",
    "        matches.append(match)\n",
    "    if \"connnabis\" in match:\n",
    "        matches.append(match)\n",
    "    if \"Cocaine\" in match:\n",
    "        matches.append(match)\n",
    "    if \"cocaine\" in match:\n",
    "        matches.append(match)\n",
    "    if \"weed\" in match:\n",
    "        matches.append(match)\n",
    "print(matches)\n",
    "#kill"
   ]
  },
  {
   "cell_type": "code",
   "execution_count": 462,
   "id": "f3afa264-9038-43a0-a42b-8a00e6ed9196",
   "metadata": {},
   "outputs": [],
   "source": [
    "new_ = [s.replace(\",\", \"\") for s in matches]\n",
    "new_l = [s.replace(\".\", \"\") for s in new_]\n",
    "new_li = [s.replace(\"–\", \"\") for s in new_l]\n",
    "new_lis = [s.replace(\"?\", \"\") for s in new_li]\n",
    "new_list = [s.replace(\":\", \"\") for s in new_lis]\n",
    "new_lists = [s.replace(\";\", \"\") for s in new_list]"
   ]
  },
  {
   "cell_type": "code",
   "execution_count": 463,
   "id": "f844c2d1-a271-4229-be80-99442a2c9c23",
   "metadata": {},
   "outputs": [
    {
     "data": {
      "text/plain": [
       "1"
      ]
     },
     "execution_count": 463,
     "metadata": {},
     "output_type": "execute_result"
    }
   ],
   "source": [
    "len(new_lists)"
   ]
  },
  {
   "cell_type": "code",
   "execution_count": 464,
   "id": "f4b9b3a0-99ac-46d2-b02f-dcf6c44cb16e",
   "metadata": {},
   "outputs": [
    {
     "data": {
      "text/plain": [
       "['Nkroful Youth Arrested For Attacking Police Station']"
      ]
     },
     "execution_count": 464,
     "metadata": {},
     "output_type": "execute_result"
    }
   ],
   "source": [
    "new_lists"
   ]
  },
  {
   "cell_type": "code",
   "execution_count": null,
   "id": "83281171-11ae-4099-b899-8a53dd40b617",
   "metadata": {},
   "outputs": [],
   "source": []
  },
  {
   "cell_type": "code",
   "execution_count": 465,
   "id": "b8b74080-8fce-4554-bdef-d13aa1d502d0",
   "metadata": {},
   "outputs": [],
   "source": [
    "urls = new_lists\n"
   ]
  },
  {
   "cell_type": "code",
   "execution_count": 466,
   "id": "390f8da3-954b-49c6-abac-23cf887041fc",
   "metadata": {},
   "outputs": [
    {
     "data": {
      "text/plain": [
       "list"
      ]
     },
     "execution_count": 466,
     "metadata": {},
     "output_type": "execute_result"
    }
   ],
   "source": [
    "type(urls)"
   ]
  },
  {
   "cell_type": "code",
   "execution_count": 467,
   "id": "4c386142-ff61-43af-9ab4-52dc72964684",
   "metadata": {},
   "outputs": [],
   "source": [
    "col1 = \"topics\""
   ]
  },
  {
   "cell_type": "code",
   "execution_count": 468,
   "id": "3d6ca23e-38da-4889-a485-13a6788a1946",
   "metadata": {},
   "outputs": [],
   "source": [
    "data = pd.DataFrame({col1:urls})"
   ]
  },
  {
   "cell_type": "code",
   "execution_count": 469,
   "id": "c5c14a7c-9132-49c0-940c-1ca464801852",
   "metadata": {},
   "outputs": [],
   "source": [
    "today = (datetime.today().strftime('%Y-%m-%d'),'theghnews')"
   ]
  },
  {
   "cell_type": "code",
   "execution_count": 470,
   "id": "460c81f9-456c-46e6-bc14-aba475f42d1f",
   "metadata": {},
   "outputs": [],
   "source": [
    "# Use str.join() to convert tuple to string.\n",
    "today = ''.join(today)\n"
   ]
  },
  {
   "cell_type": "code",
   "execution_count": 471,
   "id": "a32e8aca-0cf6-4d49-b108-5b8781269731",
   "metadata": {},
   "outputs": [],
   "source": [
    "with pd.ExcelWriter(\"C:\\\\Users\\\\kofi\\\\Desktop\\\\selenium.xlsx\", engine=\"openpyxl\", mode=\"a\") as writer:\n",
    "    data.to_excel(writer, sheet_name=today, startrow=0, startcol=0)"
   ]
  },
  {
   "cell_type": "code",
   "execution_count": null,
   "id": "48b3f41e-9474-4a11-99c1-928d57729e17",
   "metadata": {},
   "outputs": [],
   "source": []
  },
  {
   "cell_type": "code",
   "execution_count": null,
   "id": "759350c0-ab6c-4e31-9783-ea628c198fbe",
   "metadata": {},
   "outputs": [],
   "source": []
  },
  {
   "cell_type": "code",
   "execution_count": null,
   "id": "4c681624-000b-44a9-8f5f-3296153f0b70",
   "metadata": {},
   "outputs": [],
   "source": []
  },
  {
   "cell_type": "code",
   "execution_count": null,
   "id": "e6239eca-ad88-45db-9cc9-ec6730d50a5d",
   "metadata": {},
   "outputs": [],
   "source": []
  },
  {
   "cell_type": "code",
   "execution_count": null,
   "id": "db5149c1-5f2f-4f81-b9f0-84628cb43702",
   "metadata": {},
   "outputs": [],
   "source": []
  },
  {
   "cell_type": "markdown",
   "id": "502769c0-d1d5-4380-b1ca-c88f691d2cdb",
   "metadata": {},
   "source": [
    "### "
   ]
  }
 ],
 "metadata": {
  "kernelspec": {
   "display_name": "Python 3 (ipykernel)",
   "language": "python",
   "name": "python3"
  },
  "language_info": {
   "codemirror_mode": {
    "name": "ipython",
    "version": 3
   },
   "file_extension": ".py",
   "mimetype": "text/x-python",
   "name": "python",
   "nbconvert_exporter": "python",
   "pygments_lexer": "ipython3",
   "version": "3.9.7"
  }
 },
 "nbformat": 4,
 "nbformat_minor": 5
}
